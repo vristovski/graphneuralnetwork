{
 "cells": [
  {
   "cell_type": "markdown",
   "source": [
    "# Класификација на јазли со Граф невронски мрежи\n",
    "\n",
    "\n",
    "**Превземано од: https://keras.io/examples/graph/gnn_citations/?fbclid=IwAR2fiLBvF6nVronmW14Tgq_4WBnUxct_vm_u6DqA8rPAoDQRgHdupz-J46s**\n",
    "**Изработил: Владислав Ристовски, ноември 2022**\n",
    "\n",
    "\n",
    "\n",
    "Најосновен дел од Граф невронските мрежи  е графот. Графот е структура на податоци која се состои од две компоненти, јазли и рабови. Ако има насочени зависности помеѓу јазлите, тогаш рабовите се насочени. Ако не, рабовите се ненасочени.\n",
    "Граф невронските мрежи се класа на методи за длабоко учење дизајнирани да изведуваат заклучоци за податоците опишани со графикони. GNN се невронски мрежи кои можат директно да се применат на графиконите и обезбедуваат лесен начин за извршување задачи за предвидување на ниво на јазол, на ниво на раб и на ниво на графикон."
   ],
   "metadata": {
    "collapsed": false
   }
  },
  {
   "cell_type": "code",
   "execution_count": 6,
   "metadata": {
    "collapsed": true,
    "pycharm": {
     "name": "#%%\n"
    }
   },
   "outputs": [],
   "source": [
    "import os\n",
    "import pandas as pd\n",
    "import numpy as np\n",
    "import networkx as nx\n",
    "import matplotlib.pyplot as plt\n",
    "import tensorflow as tf\n",
    "from tensorflow import keras\n",
    "from keras import layers"
   ]
  },
  {
   "cell_type": "markdown",
   "source": [
    "Податочното множество се содржи од 2708 научни трудови класифицирани во една од седум класи. Мрежата на цитати се состои од 5429 врски."
   ],
   "metadata": {
    "collapsed": false
   }
  },
  {
   "cell_type": "markdown",
   "source": [
    "Преземање на множеството"
   ],
   "metadata": {
    "collapsed": false
   }
  },
  {
   "cell_type": "code",
   "execution_count": 7,
   "outputs": [],
   "source": [
    "zip_file = keras.utils.get_file(\n",
    "    fname=\"cora.tgz\",\n",
    "    origin=\"https://linqs-data.soe.ucsc.edu/public/lbc/cora.tgz\",\n",
    "    extract=True,\n",
    ")\n",
    "data_dir = os.path.join(os.path.dirname(zip_file), \"cora\")"
   ],
   "metadata": {
    "collapsed": false,
    "pycharm": {
     "name": "#%%\n"
    }
   }
  },
  {
   "cell_type": "markdown",
   "source": [
    "Ги вчитуваме податоците за цитатите во Pandas DataFrame"
   ],
   "metadata": {
    "collapsed": false
   }
  },
  {
   "cell_type": "code",
   "execution_count": 8,
   "outputs": [
    {
     "name": "stdout",
     "output_type": "stream",
     "text": [
      "Citations shape: (5429, 2)\n"
     ]
    }
   ],
   "source": [
    "citations = pd.read_csv(\n",
    "    os.path.join(data_dir, \"cora.cites\"),\n",
    "    sep=\"\\t\",\n",
    "    header=None,\n",
    "    names=[\"target\", \"source\"],\n",
    ")\n",
    "print(\"Citations shape:\", citations.shape)"
   ],
   "metadata": {
    "collapsed": false,
    "pycharm": {
     "name": "#%%\n"
    }
   }
  },
  {
   "cell_type": "markdown",
   "source": [
    "Сега прикажуваме примерок од цитатите. Target колона ги вклучува идентификациите на трудот цитирани од идентификаторите на трудот во колоната source."
   ],
   "metadata": {
    "collapsed": false
   }
  },
  {
   "cell_type": "code",
   "execution_count": 9,
   "outputs": [
    {
     "data": {
      "text/plain": "      target   source\n330      936     3828\n673     2665    99023\n4599  230879  1130808\n4689  252715   601561\n2923   36140   323128",
      "text/html": "<div>\n<style scoped>\n    .dataframe tbody tr th:only-of-type {\n        vertical-align: middle;\n    }\n\n    .dataframe tbody tr th {\n        vertical-align: top;\n    }\n\n    .dataframe thead th {\n        text-align: right;\n    }\n</style>\n<table border=\"1\" class=\"dataframe\">\n  <thead>\n    <tr style=\"text-align: right;\">\n      <th></th>\n      <th>target</th>\n      <th>source</th>\n    </tr>\n  </thead>\n  <tbody>\n    <tr>\n      <th>330</th>\n      <td>936</td>\n      <td>3828</td>\n    </tr>\n    <tr>\n      <th>673</th>\n      <td>2665</td>\n      <td>99023</td>\n    </tr>\n    <tr>\n      <th>4599</th>\n      <td>230879</td>\n      <td>1130808</td>\n    </tr>\n    <tr>\n      <th>4689</th>\n      <td>252715</td>\n      <td>601561</td>\n    </tr>\n    <tr>\n      <th>2923</th>\n      <td>36140</td>\n      <td>323128</td>\n    </tr>\n  </tbody>\n</table>\n</div>"
     },
     "execution_count": 9,
     "metadata": {},
     "output_type": "execute_result"
    }
   ],
   "source": [
    "citations.sample(frac=1).head()"
   ],
   "metadata": {
    "collapsed": false,
    "pycharm": {
     "name": "#%%\n"
    }
   }
  },
  {
   "cell_type": "markdown",
   "source": [
    "Ги вчитуваме податоците за трудовите во Pandas DataFrame"
   ],
   "metadata": {
    "collapsed": false
   }
  },
  {
   "cell_type": "code",
   "execution_count": 10,
   "outputs": [
    {
     "name": "stdout",
     "output_type": "stream",
     "text": [
      "Papers shape: (2708, 1435)\n"
     ]
    }
   ],
   "source": [
    "column_names = [\"paper_id\"] + [f\"term_{idx}\" for idx in range(1433)] + [\"subject\"]\n",
    "papers = pd.read_csv(\n",
    "    os.path.join(data_dir, \"cora.content\"), sep=\"\\t\", header=None, names=column_names,\n",
    ")\n",
    "print(\"Papers shape:\", papers.shape)"
   ],
   "metadata": {
    "collapsed": false,
    "pycharm": {
     "name": "#%%\n"
    }
   }
  },
  {
   "cell_type": "markdown",
   "source": [
    "Прикажуваме примерок од трудовите во DataFrame."
   ],
   "metadata": {
    "collapsed": false
   }
  },
  {
   "cell_type": "code",
   "execution_count": 11,
   "outputs": [
    {
     "name": "stdout",
     "output_type": "stream",
     "text": [
      "                            2148             2024             1374  \\\n",
      "paper_id                   49753            30817            41216   \n",
      "term_0                         0                0                0   \n",
      "term_1                         0                0                0   \n",
      "term_2                         0                0                0   \n",
      "term_3                         0                0                0   \n",
      "...                          ...              ...              ...   \n",
      "term_1429                      0                0                0   \n",
      "term_1430                      0                0                0   \n",
      "term_1431                      0                0                0   \n",
      "term_1432                      0                0                0   \n",
      "subject    Probabilistic_Methods  Neural_Networks  Neural_Networks   \n",
      "\n",
      "                            371              698   \n",
      "paper_id                  671293            33412  \n",
      "term_0                         0                0  \n",
      "term_1                         0                0  \n",
      "term_2                         0                0  \n",
      "term_3                         0                0  \n",
      "...                          ...              ...  \n",
      "term_1429                      0                0  \n",
      "term_1430                      0                0  \n",
      "term_1431                      0                0  \n",
      "term_1432                      0                0  \n",
      "subject    Probabilistic_Methods  Neural_Networks  \n",
      "\n",
      "[1435 rows x 5 columns]\n"
     ]
    }
   ],
   "source": [
    "print(papers.sample(5).T)"
   ],
   "metadata": {
    "collapsed": false,
    "pycharm": {
     "name": "#%%\n"
    }
   }
  },
  {
   "cell_type": "markdown",
   "source": [
    "Го прикажуваме бројот на трудови напишани за секоја тема"
   ],
   "metadata": {
    "collapsed": false
   }
  },
  {
   "cell_type": "code",
   "execution_count": 12,
   "outputs": [
    {
     "name": "stdout",
     "output_type": "stream",
     "text": [
      "Neural_Networks           818\n",
      "Probabilistic_Methods     426\n",
      "Genetic_Algorithms        418\n",
      "Theory                    351\n",
      "Case_Based                298\n",
      "Reinforcement_Learning    217\n",
      "Rule_Learning             180\n",
      "Name: subject, dtype: int64\n"
     ]
    }
   ],
   "source": [
    "print(papers.subject.value_counts())"
   ],
   "metadata": {
    "collapsed": false,
    "pycharm": {
     "name": "#%%\n"
    }
   }
  },
  {
   "cell_type": "markdown",
   "source": [
    "Ги конвертираме редниот број на трудот и темата во индекси кои започнуваат од нула."
   ],
   "metadata": {
    "collapsed": false
   }
  },
  {
   "cell_type": "code",
   "execution_count": 13,
   "outputs": [],
   "source": [
    "class_values = sorted(papers[\"subject\"].unique())\n",
    "class_idx = {name: id for id, name in enumerate(class_values)}\n",
    "paper_idx = {name: idx for idx, name in enumerate(sorted(papers[\"paper_id\"].unique()))}\n",
    "\n",
    "papers[\"paper_id\"] = papers[\"paper_id\"].apply(lambda name: paper_idx[name])\n",
    "citations[\"source\"] = citations[\"source\"].apply(lambda name: paper_idx[name])\n",
    "citations[\"target\"] = citations[\"target\"].apply(lambda name: paper_idx[name])\n",
    "papers[\"subject\"] = papers[\"subject\"].apply(lambda value: class_idx[value])"
   ],
   "metadata": {
    "collapsed": false,
    "pycharm": {
     "name": "#%%\n"
    }
   }
  },
  {
   "cell_type": "markdown",
   "source": [
    "Го визуелизираме графиконот на цитати. Секој јазол во графиконот претставува труд, а бојата на јазолот одговара на неговата тема. Прикажан е само примерок од трудовите во базата од трудови."
   ],
   "metadata": {
    "collapsed": false
   }
  },
  {
   "cell_type": "code",
   "execution_count": 14,
   "outputs": [
    {
     "data": {
      "text/plain": "<Figure size 720x720 with 1 Axes>",
      "image/png": "[encoded data removed]"
     },
     "metadata": {},
     "output_type": "display_data"
    }
   ],
   "source": [
    "plt.figure(figsize=(10, 10))\n",
    "colors = papers[\"subject\"].tolist()\n",
    "cora_graph = nx.from_pandas_edgelist(citations.sample(n=1500))\n",
    "subjects = list(papers[papers[\"paper_id\"].isin(list(cora_graph.nodes))][\"subject\"])\n",
    "nx.draw_spring(cora_graph, node_size=15, node_color=subjects)"
   ],
   "metadata": {
    "collapsed": false,
    "pycharm": {
     "name": "#%%\n"
    }
   }
  },
  {
   "cell_type": "markdown",
   "source": [
    "Ја делиме базата на податоци на стратификувани множества за тренирање и тестирање"
   ],
   "metadata": {
    "collapsed": false
   }
  },
  {
   "cell_type": "code",
   "execution_count": 15,
   "outputs": [
    {
     "name": "stdout",
     "output_type": "stream",
     "text": [
      "Train data shape: (1354, 1435)\n",
      "Test data shape: (1354, 1435)\n"
     ]
    }
   ],
   "source": [
    "train_data, test_data = [], []\n",
    "\n",
    "for _, group_data in papers.groupby(\"subject\"):\n",
    "    # Select around 50% of the dataset for training.\n",
    "    random_selection = np.random.rand(len(group_data.index)) <= 0.5\n",
    "    train_data.append(group_data[random_selection])\n",
    "    test_data.append(group_data[~random_selection])\n",
    "\n",
    "train_data = pd.concat(train_data).sample(frac=1)\n",
    "test_data = pd.concat(test_data).sample(frac=1)\n",
    "\n",
    "print(\"Train data shape:\", train_data.shape)\n",
    "print(\"Test data shape:\", test_data.shape)"
   ],
   "metadata": {
    "collapsed": false,
    "pycharm": {
     "name": "#%%\n"
    }
   }
  },
  {
   "cell_type": "markdown",
   "source": [
    "Извршување на тренирањето и оценување на експериментот\n",
    "======================================================\n",
    "Следните вредности се превземани од интернет заедно со останатиот код"
   ],
   "metadata": {
    "collapsed": false
   }
  },
  {
   "cell_type": "code",
   "execution_count": 16,
   "outputs": [],
   "source": [
    "hidden_units = [32, 32]\n",
    "learning_rate = 0.01\n",
    "dropout_rate = 0.5\n",
    "num_epochs = 300\n",
    "batch_size = 256"
   ],
   "metadata": {
    "collapsed": false,
    "pycharm": {
     "name": "#%%\n"
    }
   }
  },
  {
   "cell_type": "markdown",
   "source": [
    "Функција која компајлира и тренира влезен модел користејќи ги дадените податоци за тренирање"
   ],
   "metadata": {
    "collapsed": false
   }
  },
  {
   "cell_type": "code",
   "execution_count": 17,
   "outputs": [],
   "source": [
    "def run_experiment(model, x_train, y_train):\n",
    "    # Compile the model.\n",
    "    model.compile(\n",
    "        optimizer=keras.optimizers.Adam(learning_rate),\n",
    "        loss=keras.losses.SparseCategoricalCrossentropy(from_logits=True),\n",
    "        metrics=[keras.metrics.SparseCategoricalAccuracy(name=\"acc\")],\n",
    "    )\n",
    "    # Create an early stopping callback.\n",
    "    early_stopping = keras.callbacks.EarlyStopping(\n",
    "        monitor=\"val_acc\", patience=50, restore_best_weights=True\n",
    "    )\n",
    "    # Fit the model.\n",
    "    history = model.fit(\n",
    "        x=x_train,\n",
    "        y=y_train,\n",
    "        epochs=num_epochs,\n",
    "        batch_size=batch_size,\n",
    "        validation_split=0.15,\n",
    "        callbacks=[early_stopping],\n",
    "    )\n",
    "\n",
    "    return history"
   ],
   "metadata": {
    "collapsed": false,
    "pycharm": {
     "name": "#%%\n"
    }
   }
  },
  {
   "cell_type": "markdown",
   "source": [
    "Функција која ги прикажува кривите на загуба и точноста на моделот при тренирањето."
   ],
   "metadata": {
    "collapsed": false
   }
  },
  {
   "cell_type": "code",
   "execution_count": 18,
   "outputs": [],
   "source": [
    "def display_learning_curves(history):\n",
    "    fig, (ax1, ax2) = plt.subplots(1, 2, figsize=(15, 5))\n",
    "\n",
    "    ax1.plot(history.history[\"loss\"])\n",
    "    ax1.plot(history.history[\"val_loss\"])\n",
    "    ax1.legend([\"train\", \"test\"], loc=\"upper right\")\n",
    "    ax1.set_xlabel(\"Epochs\")\n",
    "    ax1.set_ylabel(\"Loss\")\n",
    "\n",
    "    ax2.plot(history.history[\"acc\"])\n",
    "    ax2.plot(history.history[\"val_acc\"])\n",
    "    ax2.legend([\"train\", \"test\"], loc=\"upper right\")\n",
    "    ax2.set_xlabel(\"Epochs\")\n",
    "    ax2.set_ylabel(\"Accuracy\")\n",
    "    plt.show()"
   ],
   "metadata": {
    "collapsed": false,
    "pycharm": {
     "name": "#%%\n"
    }
   }
  },
  {
   "cell_type": "markdown",
   "source": [
    "Имплементација на Feedforward Network модулот"
   ],
   "metadata": {
    "collapsed": false
   }
  },
  {
   "cell_type": "code",
   "execution_count": 19,
   "outputs": [],
   "source": [
    "def create_ffn(hidden_units, dropout_rate, name=None):\n",
    "    fnn_layers = []\n",
    "\n",
    "    for units in hidden_units:\n",
    "        fnn_layers.append(layers.BatchNormalization())\n",
    "        fnn_layers.append(layers.Dropout(dropout_rate))\n",
    "        fnn_layers.append(layers.Dense(units, activation=tf.nn.gelu))\n",
    "\n",
    "    return keras.Sequential(fnn_layers, name=name)"
   ],
   "metadata": {
    "collapsed": false,
    "pycharm": {
     "name": "#%%\n"
    }
   }
  },
  {
   "cell_type": "markdown",
   "source": [
    "Градба на основна невронска мрежа\n",
    "Подготовка на податоците за основната невронска мрежа"
   ],
   "metadata": {
    "collapsed": false
   }
  },
  {
   "cell_type": "code",
   "execution_count": 20,
   "outputs": [
    {
     "name": "stderr",
     "output_type": "stream",
     "text": [
      "C:\\Users\\Vaci\\AppData\\Local\\Temp\\ipykernel_7292\\3044936297.py:6: FutureWarning: Passing a set as an indexer is deprecated and will raise in a future version. Use a list instead.\n",
      "  x_train = train_data[feature_names].to_numpy()\n",
      "C:\\Users\\Vaci\\AppData\\Local\\Temp\\ipykernel_7292\\3044936297.py:7: FutureWarning: Passing a set as an indexer is deprecated and will raise in a future version. Use a list instead.\n",
      "  x_test = test_data[feature_names].to_numpy()\n"
     ]
    }
   ],
   "source": [
    "feature_names = set(papers.columns) - {\"paper_id\", \"subject\"}\n",
    "num_features = len(feature_names)\n",
    "num_classes = len(class_idx)\n",
    "\n",
    "# Create train and test features as a numpy array.\n",
    "x_train = train_data[feature_names].to_numpy()\n",
    "x_test = test_data[feature_names].to_numpy()\n",
    "# Create train and test targets as a numpy array.\n",
    "y_train = train_data[\"subject\"].to_numpy()\n",
    "y_test = test_data[\"subject\"].to_numpy()"
   ],
   "metadata": {
    "collapsed": false,
    "pycharm": {
     "name": "#%%\n"
    }
   }
  },
  {
   "cell_type": "markdown",
   "source": [
    "Имплементација на основни класификатори\n",
    "Додаваме пет FFN блокови со врски за прескокнување, така што генерираме основен модел со приближно ист број параметри како и моделот на GNN што ќе го изградиме подоцна."
   ],
   "metadata": {
    "collapsed": false
   }
  },
  {
   "cell_type": "code",
   "execution_count": 21,
   "outputs": [
    {
     "name": "stdout",
     "output_type": "stream",
     "text": [
      "Model: \"baseline\"\n",
      "__________________________________________________________________________________________________\n",
      " Layer (type)                   Output Shape         Param #     Connected to                     \n",
      "==================================================================================================\n",
      " input_features (InputLayer)    [(None, 1433)]       0           []                               \n",
      "                                                                                                  \n",
      " ffn_block1 (Sequential)        (None, 32)           52804       ['input_features[0][0]']         \n",
      "                                                                                                  \n",
      " ffn_block2 (Sequential)        (None, 32)           2368        ['ffn_block1[0][0]']             \n",
      "                                                                                                  \n",
      " skip_connection2 (Add)         (None, 32)           0           ['ffn_block1[0][0]',             \n",
      "                                                                  'ffn_block2[0][0]']             \n",
      "                                                                                                  \n",
      " ffn_block3 (Sequential)        (None, 32)           2368        ['skip_connection2[0][0]']       \n",
      "                                                                                                  \n",
      " skip_connection3 (Add)         (None, 32)           0           ['skip_connection2[0][0]',       \n",
      "                                                                  'ffn_block3[0][0]']             \n",
      "                                                                                                  \n",
      " ffn_block4 (Sequential)        (None, 32)           2368        ['skip_connection3[0][0]']       \n",
      "                                                                                                  \n",
      " skip_connection4 (Add)         (None, 32)           0           ['skip_connection3[0][0]',       \n",
      "                                                                  'ffn_block4[0][0]']             \n",
      "                                                                                                  \n",
      " ffn_block5 (Sequential)        (None, 32)           2368        ['skip_connection4[0][0]']       \n",
      "                                                                                                  \n",
      " skip_connection5 (Add)         (None, 32)           0           ['skip_connection4[0][0]',       \n",
      "                                                                  'ffn_block5[0][0]']             \n",
      "                                                                                                  \n",
      " logits (Dense)                 (None, 7)            231         ['skip_connection5[0][0]']       \n",
      "                                                                                                  \n",
      "==================================================================================================\n",
      "Total params: 62,507\n",
      "Trainable params: 59,065\n",
      "Non-trainable params: 3,442\n",
      "__________________________________________________________________________________________________\n"
     ]
    }
   ],
   "source": [
    "def create_baseline_model(hidden_units, num_classes, dropout_rate=0.2):\n",
    "    inputs = layers.Input(shape=(num_features,), name=\"input_features\")\n",
    "    x = create_ffn(hidden_units, dropout_rate, name=f\"ffn_block1\")(inputs)\n",
    "    for block_idx in range(4):\n",
    "        # Create an FFN block.\n",
    "        x1 = create_ffn(hidden_units, dropout_rate, name=f\"ffn_block{block_idx + 2}\")(x)\n",
    "        # Add skip connection.\n",
    "        x = layers.Add(name=f\"skip_connection{block_idx + 2}\")([x, x1])\n",
    "    # Compute logits.\n",
    "    logits = layers.Dense(num_classes, name=\"logits\")(x)\n",
    "    # Create the model.\n",
    "    return keras.Model(inputs=inputs, outputs=logits, name=\"baseline\")\n",
    "\n",
    "\n",
    "baseline_model = create_baseline_model(hidden_units, num_classes, dropout_rate)\n",
    "baseline_model.summary()"
   ],
   "metadata": {
    "collapsed": false,
    "pycharm": {
     "name": "#%%\n"
    }
   }
  },
  {
   "cell_type": "markdown",
   "source": [
    "Тренирање на основните класификатори"
   ],
   "metadata": {
    "collapsed": false
   }
  },
  {
   "cell_type": "code",
   "execution_count": 22,
   "outputs": [
    {
     "name": "stdout",
     "output_type": "stream",
     "text": [
      "Epoch 1/300\n",
      "5/5 [==============================] - 8s 195ms/step - loss: 3.6136 - acc: 0.1643 - val_loss: 1.8934 - val_acc: 0.1176\n",
      "Epoch 2/300\n",
      "5/5 [==============================] - 0s 51ms/step - loss: 2.6331 - acc: 0.2348 - val_loss: 1.8604 - val_acc: 0.1912\n",
      "Epoch 3/300\n",
      "5/5 [==============================] - 0s 51ms/step - loss: 2.3316 - acc: 0.2400 - val_loss: 1.8704 - val_acc: 0.3676\n",
      "Epoch 4/300\n",
      "5/5 [==============================] - 0s 43ms/step - loss: 2.0957 - acc: 0.2809 - val_loss: 1.8601 - val_acc: 0.3676\n",
      "Epoch 5/300\n",
      "5/5 [==============================] - 0s 43ms/step - loss: 1.9692 - acc: 0.2809 - val_loss: 1.8318 - val_acc: 0.4461\n",
      "Epoch 6/300\n",
      "5/5 [==============================] - 0s 39ms/step - loss: 1.8746 - acc: 0.3243 - val_loss: 1.7928 - val_acc: 0.4755\n",
      "Epoch 7/300\n",
      "5/5 [==============================] - 0s 39ms/step - loss: 1.8099 - acc: 0.3348 - val_loss: 1.7522 - val_acc: 0.4951\n",
      "Epoch 8/300\n",
      "5/5 [==============================] - 0s 31ms/step - loss: 1.7374 - acc: 0.3704 - val_loss: 1.6966 - val_acc: 0.5049\n",
      "Epoch 9/300\n",
      "5/5 [==============================] - 0s 39ms/step - loss: 1.6083 - acc: 0.3878 - val_loss: 1.6501 - val_acc: 0.5196\n",
      "Epoch 10/300\n",
      "5/5 [==============================] - 0s 35ms/step - loss: 1.5884 - acc: 0.4357 - val_loss: 1.5774 - val_acc: 0.5196\n",
      "Epoch 11/300\n",
      "5/5 [==============================] - 0s 35ms/step - loss: 1.5054 - acc: 0.4670 - val_loss: 1.4968 - val_acc: 0.4902\n",
      "Epoch 12/300\n",
      "5/5 [==============================] - 0s 35ms/step - loss: 1.4430 - acc: 0.4809 - val_loss: 1.4164 - val_acc: 0.4804\n",
      "Epoch 13/300\n",
      "5/5 [==============================] - 0s 43ms/step - loss: 1.3219 - acc: 0.5243 - val_loss: 1.3539 - val_acc: 0.5098\n",
      "Epoch 14/300\n",
      "5/5 [==============================] - 0s 35ms/step - loss: 1.3131 - acc: 0.5217 - val_loss: 1.3132 - val_acc: 0.5000\n",
      "Epoch 15/300\n",
      "5/5 [==============================] - 0s 39ms/step - loss: 1.1961 - acc: 0.5852 - val_loss: 1.2768 - val_acc: 0.5098\n",
      "Epoch 16/300\n",
      "5/5 [==============================] - 0s 31ms/step - loss: 1.1232 - acc: 0.6017 - val_loss: 1.2355 - val_acc: 0.5343\n",
      "Epoch 17/300\n",
      "5/5 [==============================] - 0s 39ms/step - loss: 1.0829 - acc: 0.5983 - val_loss: 1.1857 - val_acc: 0.5784\n",
      "Epoch 18/300\n",
      "5/5 [==============================] - 0s 43ms/step - loss: 1.0564 - acc: 0.6357 - val_loss: 1.1724 - val_acc: 0.5784\n",
      "Epoch 19/300\n",
      "5/5 [==============================] - 0s 39ms/step - loss: 0.8826 - acc: 0.6948 - val_loss: 1.1431 - val_acc: 0.5980\n",
      "Epoch 20/300\n",
      "5/5 [==============================] - 0s 39ms/step - loss: 0.9174 - acc: 0.6991 - val_loss: 1.0912 - val_acc: 0.6324\n",
      "Epoch 21/300\n",
      "5/5 [==============================] - 0s 39ms/step - loss: 0.8534 - acc: 0.7104 - val_loss: 1.0460 - val_acc: 0.6716\n",
      "Epoch 22/300\n",
      "5/5 [==============================] - 0s 35ms/step - loss: 0.8384 - acc: 0.7226 - val_loss: 1.0095 - val_acc: 0.6667\n",
      "Epoch 23/300\n",
      "5/5 [==============================] - 0s 31ms/step - loss: 0.7954 - acc: 0.7200 - val_loss: 1.0544 - val_acc: 0.6127\n",
      "Epoch 24/300\n",
      "5/5 [==============================] - 0s 35ms/step - loss: 0.7746 - acc: 0.7330 - val_loss: 1.0983 - val_acc: 0.5784\n",
      "Epoch 25/300\n",
      "5/5 [==============================] - 0s 31ms/step - loss: 0.7454 - acc: 0.7443 - val_loss: 1.0127 - val_acc: 0.6176\n",
      "Epoch 26/300\n",
      "5/5 [==============================] - 0s 39ms/step - loss: 0.7343 - acc: 0.7496 - val_loss: 0.9527 - val_acc: 0.6569\n",
      "Epoch 27/300\n",
      "5/5 [==============================] - 0s 35ms/step - loss: 0.7347 - acc: 0.7487 - val_loss: 0.9679 - val_acc: 0.6716\n",
      "Epoch 28/300\n",
      "5/5 [==============================] - 0s 31ms/step - loss: 0.6775 - acc: 0.7617 - val_loss: 0.9791 - val_acc: 0.6373\n",
      "Epoch 29/300\n",
      "5/5 [==============================] - 0s 31ms/step - loss: 0.6327 - acc: 0.7826 - val_loss: 0.9470 - val_acc: 0.6324\n",
      "Epoch 30/300\n",
      "5/5 [==============================] - 0s 47ms/step - loss: 0.6237 - acc: 0.7974 - val_loss: 0.9604 - val_acc: 0.6324\n",
      "Epoch 31/300\n",
      "5/5 [==============================] - 0s 43ms/step - loss: 0.5963 - acc: 0.8000 - val_loss: 0.9725 - val_acc: 0.6373\n",
      "Epoch 32/300\n",
      "5/5 [==============================] - 0s 39ms/step - loss: 0.6418 - acc: 0.7800 - val_loss: 0.9781 - val_acc: 0.6373\n",
      "Epoch 33/300\n",
      "5/5 [==============================] - 0s 39ms/step - loss: 0.6201 - acc: 0.7870 - val_loss: 0.8944 - val_acc: 0.6716\n",
      "Epoch 34/300\n",
      "5/5 [==============================] - 0s 39ms/step - loss: 0.6229 - acc: 0.7783 - val_loss: 0.8507 - val_acc: 0.6814\n",
      "Epoch 35/300\n",
      "5/5 [==============================] - 0s 39ms/step - loss: 0.5695 - acc: 0.8052 - val_loss: 0.8168 - val_acc: 0.7157\n",
      "Epoch 36/300\n",
      "5/5 [==============================] - 0s 31ms/step - loss: 0.5641 - acc: 0.7983 - val_loss: 0.8565 - val_acc: 0.7010\n",
      "Epoch 37/300\n",
      "5/5 [==============================] - 0s 31ms/step - loss: 0.4940 - acc: 0.8322 - val_loss: 0.8472 - val_acc: 0.6912\n",
      "Epoch 38/300\n",
      "5/5 [==============================] - 0s 27ms/step - loss: 0.5852 - acc: 0.7948 - val_loss: 0.8051 - val_acc: 0.7108\n",
      "Epoch 39/300\n",
      "5/5 [==============================] - 0s 35ms/step - loss: 0.5640 - acc: 0.8000 - val_loss: 0.7732 - val_acc: 0.7500\n",
      "Epoch 40/300\n",
      "5/5 [==============================] - 0s 31ms/step - loss: 0.5063 - acc: 0.8148 - val_loss: 0.7699 - val_acc: 0.7647\n",
      "Epoch 41/300\n",
      "5/5 [==============================] - 0s 31ms/step - loss: 0.5134 - acc: 0.8174 - val_loss: 0.7516 - val_acc: 0.7745\n",
      "Epoch 42/300\n",
      "5/5 [==============================] - 0s 39ms/step - loss: 0.5302 - acc: 0.8070 - val_loss: 0.7263 - val_acc: 0.7696\n",
      "Epoch 43/300\n",
      "5/5 [==============================] - 0s 35ms/step - loss: 0.5173 - acc: 0.8183 - val_loss: 0.7195 - val_acc: 0.7696\n",
      "Epoch 44/300\n",
      "5/5 [==============================] - 0s 35ms/step - loss: 0.5014 - acc: 0.8157 - val_loss: 0.7131 - val_acc: 0.7696\n",
      "Epoch 45/300\n",
      "5/5 [==============================] - 0s 39ms/step - loss: 0.5006 - acc: 0.8339 - val_loss: 0.7339 - val_acc: 0.7941\n",
      "Epoch 46/300\n",
      "5/5 [==============================] - 0s 35ms/step - loss: 0.5203 - acc: 0.8278 - val_loss: 0.7161 - val_acc: 0.7843\n",
      "Epoch 47/300\n",
      "5/5 [==============================] - 0s 35ms/step - loss: 0.4871 - acc: 0.8383 - val_loss: 0.6993 - val_acc: 0.7598\n",
      "Epoch 48/300\n",
      "5/5 [==============================] - 0s 39ms/step - loss: 0.5000 - acc: 0.8313 - val_loss: 0.7375 - val_acc: 0.7451\n",
      "Epoch 49/300\n",
      "5/5 [==============================] - 0s 35ms/step - loss: 0.4973 - acc: 0.8209 - val_loss: 0.6890 - val_acc: 0.7941\n",
      "Epoch 50/300\n",
      "5/5 [==============================] - 0s 35ms/step - loss: 0.4274 - acc: 0.8591 - val_loss: 0.6774 - val_acc: 0.7794\n",
      "Epoch 51/300\n",
      "5/5 [==============================] - 0s 35ms/step - loss: 0.4812 - acc: 0.8235 - val_loss: 0.6847 - val_acc: 0.7843\n",
      "Epoch 52/300\n",
      "5/5 [==============================] - 0s 31ms/step - loss: 0.4787 - acc: 0.8348 - val_loss: 0.6818 - val_acc: 0.8088\n",
      "Epoch 53/300\n",
      "5/5 [==============================] - 0s 31ms/step - loss: 0.5173 - acc: 0.8313 - val_loss: 0.6722 - val_acc: 0.8039\n",
      "Epoch 54/300\n",
      "5/5 [==============================] - 0s 35ms/step - loss: 0.3961 - acc: 0.8557 - val_loss: 0.6683 - val_acc: 0.7990\n",
      "Epoch 55/300\n",
      "5/5 [==============================] - 0s 31ms/step - loss: 0.4590 - acc: 0.8530 - val_loss: 0.6712 - val_acc: 0.7990\n",
      "Epoch 56/300\n",
      "5/5 [==============================] - 0s 31ms/step - loss: 0.4669 - acc: 0.8400 - val_loss: 0.6938 - val_acc: 0.7794\n",
      "Epoch 57/300\n",
      "5/5 [==============================] - 0s 31ms/step - loss: 0.4584 - acc: 0.8365 - val_loss: 0.7199 - val_acc: 0.7696\n",
      "Epoch 58/300\n",
      "5/5 [==============================] - 0s 31ms/step - loss: 0.4982 - acc: 0.8461 - val_loss: 0.6900 - val_acc: 0.7990\n",
      "Epoch 59/300\n",
      "5/5 [==============================] - 0s 35ms/step - loss: 0.4250 - acc: 0.8504 - val_loss: 0.6906 - val_acc: 0.7990\n",
      "Epoch 60/300\n",
      "5/5 [==============================] - 0s 35ms/step - loss: 0.4411 - acc: 0.8470 - val_loss: 0.6947 - val_acc: 0.7892\n",
      "Epoch 61/300\n",
      "5/5 [==============================] - 0s 31ms/step - loss: 0.4987 - acc: 0.8261 - val_loss: 0.7054 - val_acc: 0.7745\n",
      "Epoch 62/300\n",
      "5/5 [==============================] - 0s 31ms/step - loss: 0.5199 - acc: 0.8235 - val_loss: 0.6975 - val_acc: 0.7843\n",
      "Epoch 63/300\n",
      "5/5 [==============================] - 0s 31ms/step - loss: 0.4530 - acc: 0.8478 - val_loss: 0.6909 - val_acc: 0.7794\n",
      "Epoch 64/300\n",
      "5/5 [==============================] - 0s 35ms/step - loss: 0.4746 - acc: 0.8400 - val_loss: 0.6920 - val_acc: 0.7843\n",
      "Epoch 65/300\n",
      "5/5 [==============================] - 0s 31ms/step - loss: 0.4512 - acc: 0.8504 - val_loss: 0.6999 - val_acc: 0.7892\n",
      "Epoch 66/300\n",
      "5/5 [==============================] - 0s 31ms/step - loss: 0.4170 - acc: 0.8530 - val_loss: 0.7082 - val_acc: 0.7892\n",
      "Epoch 67/300\n",
      "5/5 [==============================] - 0s 35ms/step - loss: 0.4774 - acc: 0.8400 - val_loss: 0.7106 - val_acc: 0.7843\n",
      "Epoch 68/300\n",
      "5/5 [==============================] - 0s 31ms/step - loss: 0.5034 - acc: 0.8304 - val_loss: 0.6960 - val_acc: 0.7990\n",
      "Epoch 69/300\n",
      "5/5 [==============================] - 0s 35ms/step - loss: 0.4293 - acc: 0.8513 - val_loss: 0.6974 - val_acc: 0.7941\n",
      "Epoch 70/300\n",
      "5/5 [==============================] - 0s 31ms/step - loss: 0.4121 - acc: 0.8487 - val_loss: 0.7150 - val_acc: 0.7892\n",
      "Epoch 71/300\n",
      "5/5 [==============================] - 0s 31ms/step - loss: 0.4171 - acc: 0.8530 - val_loss: 0.7368 - val_acc: 0.7745\n",
      "Epoch 72/300\n",
      "5/5 [==============================] - 0s 31ms/step - loss: 0.4301 - acc: 0.8504 - val_loss: 0.7260 - val_acc: 0.7794\n",
      "Epoch 73/300\n",
      "5/5 [==============================] - 0s 35ms/step - loss: 0.4022 - acc: 0.8626 - val_loss: 0.7250 - val_acc: 0.7843\n",
      "Epoch 74/300\n",
      "5/5 [==============================] - 0s 31ms/step - loss: 0.4743 - acc: 0.8313 - val_loss: 0.7153 - val_acc: 0.7745\n",
      "Epoch 75/300\n",
      "5/5 [==============================] - 0s 35ms/step - loss: 0.4307 - acc: 0.8470 - val_loss: 0.7038 - val_acc: 0.7745\n",
      "Epoch 76/300\n",
      "5/5 [==============================] - 0s 35ms/step - loss: 0.4002 - acc: 0.8661 - val_loss: 0.6966 - val_acc: 0.7941\n",
      "Epoch 77/300\n",
      "5/5 [==============================] - 0s 43ms/step - loss: 0.4167 - acc: 0.8574 - val_loss: 0.7093 - val_acc: 0.7794\n",
      "Epoch 78/300\n",
      "5/5 [==============================] - 0s 35ms/step - loss: 0.4182 - acc: 0.8461 - val_loss: 0.7079 - val_acc: 0.7843\n",
      "Epoch 79/300\n",
      "5/5 [==============================] - 0s 35ms/step - loss: 0.4358 - acc: 0.8452 - val_loss: 0.7090 - val_acc: 0.7843\n",
      "Epoch 80/300\n",
      "5/5 [==============================] - 0s 31ms/step - loss: 0.4157 - acc: 0.8522 - val_loss: 0.7034 - val_acc: 0.7696\n",
      "Epoch 81/300\n",
      "5/5 [==============================] - 0s 31ms/step - loss: 0.4106 - acc: 0.8530 - val_loss: 0.6935 - val_acc: 0.7843\n",
      "Epoch 82/300\n",
      "5/5 [==============================] - 0s 35ms/step - loss: 0.4137 - acc: 0.8678 - val_loss: 0.7048 - val_acc: 0.7696\n",
      "Epoch 83/300\n",
      "5/5 [==============================] - 0s 35ms/step - loss: 0.4190 - acc: 0.8557 - val_loss: 0.7071 - val_acc: 0.7745\n",
      "Epoch 84/300\n",
      "5/5 [==============================] - 0s 31ms/step - loss: 0.4114 - acc: 0.8635 - val_loss: 0.7223 - val_acc: 0.7647\n",
      "Epoch 85/300\n",
      "5/5 [==============================] - 0s 31ms/step - loss: 0.4117 - acc: 0.8609 - val_loss: 0.7282 - val_acc: 0.7647\n",
      "Epoch 86/300\n",
      "5/5 [==============================] - 0s 27ms/step - loss: 0.4289 - acc: 0.8530 - val_loss: 0.7296 - val_acc: 0.7647\n",
      "Epoch 87/300\n",
      "5/5 [==============================] - 0s 31ms/step - loss: 0.4325 - acc: 0.8539 - val_loss: 0.7374 - val_acc: 0.7647\n",
      "Epoch 88/300\n",
      "5/5 [==============================] - 0s 31ms/step - loss: 0.3776 - acc: 0.8757 - val_loss: 0.7371 - val_acc: 0.7696\n",
      "Epoch 89/300\n",
      "5/5 [==============================] - 0s 39ms/step - loss: 0.3713 - acc: 0.8783 - val_loss: 0.7462 - val_acc: 0.7843\n",
      "Epoch 90/300\n",
      "5/5 [==============================] - 0s 31ms/step - loss: 0.4323 - acc: 0.8530 - val_loss: 0.7533 - val_acc: 0.7745\n",
      "Epoch 91/300\n",
      "5/5 [==============================] - 0s 31ms/step - loss: 0.3655 - acc: 0.8774 - val_loss: 0.7466 - val_acc: 0.7941\n",
      "Epoch 92/300\n",
      "5/5 [==============================] - 0s 39ms/step - loss: 0.4000 - acc: 0.8661 - val_loss: 0.7510 - val_acc: 0.7843\n",
      "Epoch 93/300\n",
      "5/5 [==============================] - 0s 35ms/step - loss: 0.3845 - acc: 0.8643 - val_loss: 0.7436 - val_acc: 0.7941\n",
      "Epoch 94/300\n",
      "5/5 [==============================] - 0s 35ms/step - loss: 0.4063 - acc: 0.8696 - val_loss: 0.7643 - val_acc: 0.7892\n",
      "Epoch 95/300\n",
      "5/5 [==============================] - 0s 47ms/step - loss: 0.3711 - acc: 0.8670 - val_loss: 0.7786 - val_acc: 0.7843\n",
      "Epoch 96/300\n",
      "5/5 [==============================] - 0s 35ms/step - loss: 0.4165 - acc: 0.8565 - val_loss: 0.8005 - val_acc: 0.7647\n",
      "Epoch 97/300\n",
      "5/5 [==============================] - 0s 39ms/step - loss: 0.4268 - acc: 0.8539 - val_loss: 0.8213 - val_acc: 0.7500\n",
      "Epoch 98/300\n",
      "5/5 [==============================] - 0s 39ms/step - loss: 0.3554 - acc: 0.8774 - val_loss: 0.8027 - val_acc: 0.7745\n",
      "Epoch 99/300\n",
      "5/5 [==============================] - 0s 31ms/step - loss: 0.3969 - acc: 0.8626 - val_loss: 0.7874 - val_acc: 0.7696\n",
      "Epoch 100/300\n",
      "5/5 [==============================] - 0s 31ms/step - loss: 0.4285 - acc: 0.8609 - val_loss: 0.7671 - val_acc: 0.7696\n",
      "Epoch 101/300\n",
      "5/5 [==============================] - 0s 31ms/step - loss: 0.3237 - acc: 0.8904 - val_loss: 0.7701 - val_acc: 0.7892\n",
      "Epoch 102/300\n",
      "5/5 [==============================] - 0s 39ms/step - loss: 0.3604 - acc: 0.8687 - val_loss: 0.7768 - val_acc: 0.7843\n"
     ]
    }
   ],
   "source": [
    "history = run_experiment(baseline_model, x_train, y_train)"
   ],
   "metadata": {
    "collapsed": false,
    "pycharm": {
     "name": "#%%\n"
    }
   }
  },
  {
   "cell_type": "markdown",
   "source": [
    "Ги исцртуваме кривите за учење"
   ],
   "metadata": {
    "collapsed": false
   }
  },
  {
   "cell_type": "code",
   "execution_count": 23,
   "outputs": [
    {
     "data": {
      "text/plain": "<Figure size 1080x360 with 2 Axes>",
      "image/png": "[encoded data removed]"
     },
     "metadata": {
      "needs_background": "light"
     },
     "output_type": "display_data"
    }
   ],
   "source": [
    "display_learning_curves(history)"
   ],
   "metadata": {
    "collapsed": false,
    "pycharm": {
     "name": "#%%\n"
    }
   }
  },
  {
   "cell_type": "markdown",
   "source": [
    "Го оценуваме основниот модел на поделба на податоците од тестот"
   ],
   "metadata": {
    "collapsed": false
   }
  },
  {
   "cell_type": "code",
   "execution_count": 26,
   "outputs": [
    {
     "name": "stdout",
     "output_type": "stream",
     "text": [
      "Test accuracy: 72.97%\n"
     ]
    }
   ],
   "source": [
    "_, test_accuracy = baseline_model.evaluate(x=x_test, y=y_test, verbose=0)\n",
    "print(f\"Test accuracy: {round(test_accuracy * 100, 2)}%\")"
   ],
   "metadata": {
    "collapsed": false,
    "pycharm": {
     "name": "#%%\n"
    }
   }
  },
  {
   "cell_type": "markdown",
   "source": [
    "Ги испитуваме предвидувањата на основниот модел\n",
    "Создаваме нови примероци со случајно генерирање на вектори на бинарни зборови во однос на веројатностите за присуство на зборови"
   ],
   "metadata": {
    "collapsed": false
   }
  },
  {
   "cell_type": "code",
   "execution_count": 27,
   "outputs": [],
   "source": [
    "def generate_random_instances(num_instances):\n",
    "    token_probability = x_train.mean(axis=0)\n",
    "    instances = []\n",
    "    for _ in range(num_instances):\n",
    "        probabilities = np.random.uniform(size=len(token_probability))\n",
    "        instance = (probabilities <= token_probability).astype(int)\n",
    "        instances.append(instance)\n",
    "\n",
    "    return np.array(instances)\n",
    "\n",
    "\n",
    "def display_class_probabilities(probabilities):\n",
    "    for instance_idx, probs in enumerate(probabilities):\n",
    "        print(f\"Instance {instance_idx + 1}:\")\n",
    "        for class_idx, prob in enumerate(probs):\n",
    "            print(f\"- {class_values[class_idx]}: {round(prob * 100, 2)}%\")"
   ],
   "metadata": {
    "collapsed": false,
    "pycharm": {
     "name": "#%%\n"
    }
   }
  },
  {
   "cell_type": "markdown",
   "source": [
    "Ги прикажуваме предвидувањата на основниот модел со оглед на случајно генерираните параметри"
   ],
   "metadata": {
    "collapsed": false
   }
  },
  {
   "cell_type": "code",
   "execution_count": 28,
   "outputs": [
    {
     "name": "stdout",
     "output_type": "stream",
     "text": [
      "1/1 [==============================] - 3s 3s/step\n",
      "Instance 1:\n",
      "- Case_Based: 0.66%\n",
      "- Genetic_Algorithms: 4.61%\n",
      "- Neural_Networks: 89.88%\n",
      "- Probabilistic_Methods: 0.67%\n",
      "- Reinforcement_Learning: 0.96%\n",
      "- Rule_Learning: 0.61%\n",
      "- Theory: 2.63%\n",
      "Instance 2:\n",
      "- Case_Based: 3.26%\n",
      "- Genetic_Algorithms: 12.99%\n",
      "- Neural_Networks: 55.18%\n",
      "- Probabilistic_Methods: 8.2%\n",
      "- Reinforcement_Learning: 2.11%\n",
      "- Rule_Learning: 1.23%\n",
      "- Theory: 17.03%\n",
      "Instance 3:\n",
      "- Case_Based: 0.7%\n",
      "- Genetic_Algorithms: 57.04%\n",
      "- Neural_Networks: 16.04%\n",
      "- Probabilistic_Methods: 23.6%\n",
      "- Reinforcement_Learning: 1.07%\n",
      "- Rule_Learning: 0.63%\n",
      "- Theory: 0.92%\n",
      "Instance 4:\n",
      "- Case_Based: 2.04%\n",
      "- Genetic_Algorithms: 3.87%\n",
      "- Neural_Networks: 25.75%\n",
      "- Probabilistic_Methods: 2.15%\n",
      "- Reinforcement_Learning: 1.2%\n",
      "- Rule_Learning: 2.62%\n",
      "- Theory: 62.38%\n",
      "Instance 5:\n",
      "- Case_Based: 0.9%\n",
      "- Genetic_Algorithms: 0.68%\n",
      "- Neural_Networks: 81.68%\n",
      "- Probabilistic_Methods: 6.0%\n",
      "- Reinforcement_Learning: 0.69%\n",
      "- Rule_Learning: 2.67%\n",
      "- Theory: 7.38%\n",
      "Instance 6:\n",
      "- Case_Based: 2.45%\n",
      "- Genetic_Algorithms: 3.62%\n",
      "- Neural_Networks: 27.27%\n",
      "- Probabilistic_Methods: 44.81%\n",
      "- Reinforcement_Learning: 13.89%\n",
      "- Rule_Learning: 2.55%\n",
      "- Theory: 5.42%\n",
      "Instance 7:\n",
      "- Case_Based: 0.23%\n",
      "- Genetic_Algorithms: 0.87%\n",
      "- Neural_Networks: 96.43%\n",
      "- Probabilistic_Methods: 0.51%\n",
      "- Reinforcement_Learning: 0.14%\n",
      "- Rule_Learning: 1.04%\n",
      "- Theory: 0.78%\n"
     ]
    }
   ],
   "source": [
    "new_instances = generate_random_instances(num_classes)\n",
    "logits = baseline_model.predict(new_instances)\n",
    "probabilities = keras.activations.softmax(tf.convert_to_tensor(logits)).numpy()\n",
    "display_class_probabilities(probabilities)"
   ],
   "metadata": {
    "collapsed": false,
    "pycharm": {
     "name": "#%%\n"
    }
   }
  },
  {
   "cell_type": "markdown",
   "source": [
    "Градење на Граф невронска мрежа\n",
    "Податоците од графикот се претставени со торката graph_info, која се состои од следните три елементи:\n",
    "\n",
    "node_features: Ова е [num_nodes, num_features] NumPy низа која ги вклучува карактеристиките на јазлите. Во оваа база на податоци, јазлите се документите, а node_features се бинарните вектори со присуство на збор на секој труд.\n",
    "edges: Ова е [num_edges, num_edges] NumPy низа што претставува ретка матрица на соседството на врските помеѓу јазлите. Во овој пример, врските се цитати помеѓу трудовите.\n",
    "edge_weights (опционално): Ова е [num_edges] NumPy низа која ги вклучува тежините на рабовите, кои ги квантифицираат односите помеѓу јазлите во графикот. Во овој пример, нема тежини за цитатите на хартија."
   ],
   "metadata": {
    "collapsed": false
   }
  },
  {
   "cell_type": "code",
   "execution_count": 29,
   "outputs": [
    {
     "name": "stdout",
     "output_type": "stream",
     "text": [
      "Edges shape: (2, 5429)\n",
      "Nodes shape: (2708, 1433)\n"
     ]
    },
    {
     "name": "stderr",
     "output_type": "stream",
     "text": [
      "C:\\Users\\Vaci\\AppData\\Local\\Temp\\ipykernel_7292\\3360781365.py:7: FutureWarning: Passing a set as an indexer is deprecated and will raise in a future version. Use a list instead.\n",
      "  papers.sort_values(\"paper_id\")[feature_names].to_numpy(), dtype=tf.dtypes.float32\n"
     ]
    }
   ],
   "source": [
    "# Create an edges array (sparse adjacency matrix) of shape [2, num_edges].\n",
    "edges = citations[[\"source\", \"target\"]].to_numpy().T\n",
    "# Create an edge weights array of ones.\n",
    "edge_weights = tf.ones(shape=edges.shape[1])\n",
    "# Create a node features array of shape [num_nodes, num_features].\n",
    "node_features = tf.cast(\n",
    "    papers.sort_values(\"paper_id\")[feature_names].to_numpy(), dtype=tf.dtypes.float32\n",
    ")\n",
    "# Create graph info tuple with node_features, edges, and edge_weights.\n",
    "graph_info = (node_features, edges, edge_weights)\n",
    "\n",
    "print(\"Edges shape:\", edges.shape)\n",
    "print(\"Nodes shape:\", node_features.shape)"
   ],
   "metadata": {
    "collapsed": false,
    "pycharm": {
     "name": "#%%\n"
    }
   }
  },
  {
   "cell_type": "markdown",
   "source": [
    "Имплементација на слој за конволуција на графиконот\n",
    "Ние имплементираме модул за конволуција на графикони како Keras Layer. Нашиот GraphConvLayer ги извршува следниве чекори:\n",
    "\n",
    "Prepare: Претставите на влезните јазли се обработуваат со помош на FFN за да се произведе порака.\n",
    "Aggregate: Пораките на соседите на секој јазол се собираат во однос на edge_weights со користење на операција за здружување со непроменлива пермутација, како што се сума, средна вредност и максимум, за да се подготви една збирна порака за секој јазол.\n",
    "Update: Повторувањата на јазлите и збирните_пораки - и двете со облик [num_nodes, presentation_dim] - се комбинираат и обработуваат за да се произведе новата состојба на претставите на јазлите (вградување на јазли).\n",
    "Имплементираната техника користи идеи од Graph Convolutional Networks, GraphSage, Graph Isomorphism Network, Simple Graph Networks и Gated Graph Sequence Neural Networks."
   ],
   "metadata": {
    "collapsed": false
   }
  },
  {
   "cell_type": "code",
   "execution_count": 30,
   "outputs": [],
   "source": [
    "class GraphConvLayer(layers.Layer):\n",
    "    def __init__(\n",
    "        self,\n",
    "        hidden_units,\n",
    "        dropout_rate=0.2,\n",
    "        aggregation_type=\"mean\",\n",
    "        combination_type=\"concat\",\n",
    "        normalize=False,\n",
    "        *args,\n",
    "        **kwargs,\n",
    "    ):\n",
    "        super(GraphConvLayer, self).__init__(*args, **kwargs)\n",
    "\n",
    "        self.aggregation_type = aggregation_type\n",
    "        self.combination_type = combination_type\n",
    "        self.normalize = normalize\n",
    "\n",
    "        self.ffn_prepare = create_ffn(hidden_units, dropout_rate)\n",
    "        if self.combination_type == \"gated\":\n",
    "            self.update_fn = layers.GRU(\n",
    "                units=hidden_units,\n",
    "                activation=\"tanh\",\n",
    "                recurrent_activation=\"sigmoid\",\n",
    "                dropout=dropout_rate,\n",
    "                return_state=True,\n",
    "                recurrent_dropout=dropout_rate,\n",
    "            )\n",
    "        else:\n",
    "            self.update_fn = create_ffn(hidden_units, dropout_rate)\n",
    "\n",
    "    def prepare(self, node_repesentations, weights=None):\n",
    "        # node_repesentations shape is [num_edges, embedding_dim].\n",
    "        messages = self.ffn_prepare(node_repesentations)\n",
    "        if weights is not None:\n",
    "            messages = messages * tf.expand_dims(weights, -1)\n",
    "        return messages\n",
    "\n",
    "    def aggregate(self, node_indices, neighbour_messages, node_repesentations):\n",
    "        # node_indices shape is [num_edges].\n",
    "        # neighbour_messages shape: [num_edges, representation_dim].\n",
    "        # node_repesentations shape is [num_nodes, representation_dim]\n",
    "        num_nodes = node_repesentations.shape[0]\n",
    "        if self.aggregation_type == \"sum\":\n",
    "            aggregated_message = tf.math.unsorted_segment_sum(\n",
    "                neighbour_messages, node_indices, num_segments=num_nodes\n",
    "            )\n",
    "        elif self.aggregation_type == \"mean\":\n",
    "            aggregated_message = tf.math.unsorted_segment_mean(\n",
    "                neighbour_messages, node_indices, num_segments=num_nodes\n",
    "            )\n",
    "        elif self.aggregation_type == \"max\":\n",
    "            aggregated_message = tf.math.unsorted_segment_max(\n",
    "                neighbour_messages, node_indices, num_segments=num_nodes\n",
    "            )\n",
    "        else:\n",
    "            raise ValueError(f\"Invalid aggregation type: {self.aggregation_type}.\")\n",
    "\n",
    "        return aggregated_message\n",
    "\n",
    "    def update(self, node_repesentations, aggregated_messages):\n",
    "        # node_repesentations shape is [num_nodes, representation_dim].\n",
    "        # aggregated_messages shape is [num_nodes, representation_dim].\n",
    "        if self.combination_type == \"gru\":\n",
    "            # Create a sequence of two elements for the GRU layer.\n",
    "            h = tf.stack([node_repesentations, aggregated_messages], axis=1)\n",
    "        elif self.combination_type == \"concat\":\n",
    "            # Concatenate the node_repesentations and aggregated_messages.\n",
    "            h = tf.concat([node_repesentations, aggregated_messages], axis=1)\n",
    "        elif self.combination_type == \"add\":\n",
    "            # Add node_repesentations and aggregated_messages.\n",
    "            h = node_repesentations + aggregated_messages\n",
    "        else:\n",
    "            raise ValueError(f\"Invalid combination type: {self.combination_type}.\")\n",
    "\n",
    "        # Apply the processing function.\n",
    "        node_embeddings = self.update_fn(h)\n",
    "        if self.combination_type == \"gru\":\n",
    "            node_embeddings = tf.unstack(node_embeddings, axis=1)[-1]\n",
    "\n",
    "        if self.normalize:\n",
    "            node_embeddings = tf.nn.l2_normalize(node_embeddings, axis=-1)\n",
    "        return node_embeddings\n",
    "\n",
    "    def call(self, inputs):\n",
    "        \"\"\"Process the inputs to produce the node_embeddings.\n",
    "\n",
    "        inputs: a tuple of three elements: node_repesentations, edges, edge_weights.\n",
    "        Returns: node_embeddings of shape [num_nodes, representation_dim].\n",
    "        \"\"\"\n",
    "\n",
    "        node_repesentations, edges, edge_weights = inputs\n",
    "        # Get node_indices (source) and neighbour_indices (target) from edges.\n",
    "        node_indices, neighbour_indices = edges[0], edges[1]\n",
    "        # neighbour_repesentations shape is [num_edges, representation_dim].\n",
    "        neighbour_repesentations = tf.gather(node_repesentations, neighbour_indices)\n",
    "\n",
    "        # Prepare the messages of the neighbours.\n",
    "        neighbour_messages = self.prepare(neighbour_repesentations, edge_weights)\n",
    "        # Aggregate the neighbour messages.\n",
    "        aggregated_messages = self.aggregate(\n",
    "            node_indices, neighbour_messages, node_repesentations\n",
    "        )\n",
    "        # Update the node embedding with the neighbour messages.\n",
    "        return self.update(node_repesentations, aggregated_messages)"
   ],
   "metadata": {
    "collapsed": false,
    "pycharm": {
     "name": "#%%\n"
    }
   }
  },
  {
   "cell_type": "markdown",
   "source": [
    "Имплементирање на графички класификатор на јазли на невронска мрежа"
   ],
   "metadata": {
    "collapsed": false
   }
  },
  {
   "cell_type": "code",
   "execution_count": 31,
   "outputs": [],
   "source": [
    "class GNNNodeClassifier(tf.keras.Model):\n",
    "    def __init__(\n",
    "        self,\n",
    "        graph_info,\n",
    "        num_classes,\n",
    "        hidden_units,\n",
    "        aggregation_type=\"sum\",\n",
    "        combination_type=\"concat\",\n",
    "        dropout_rate=0.2,\n",
    "        normalize=True,\n",
    "        *args,\n",
    "        **kwargs,\n",
    "    ):\n",
    "        super(GNNNodeClassifier, self).__init__(*args, **kwargs)\n",
    "\n",
    "        # Unpack graph_info to three elements: node_features, edges, and edge_weight.\n",
    "        node_features, edges, edge_weights = graph_info\n",
    "        self.node_features = node_features\n",
    "        self.edges = edges\n",
    "        self.edge_weights = edge_weights\n",
    "        # Set edge_weights to ones if not provided.\n",
    "        if self.edge_weights is None:\n",
    "            self.edge_weights = tf.ones(shape=edges.shape[1])\n",
    "        # Scale edge_weights to sum to 1.\n",
    "        self.edge_weights = self.edge_weights / tf.math.reduce_sum(self.edge_weights)\n",
    "\n",
    "        # Create a process layer.\n",
    "        self.preprocess = create_ffn(hidden_units, dropout_rate, name=\"preprocess\")\n",
    "        # Create the first GraphConv layer.\n",
    "        self.conv1 = GraphConvLayer(\n",
    "            hidden_units,\n",
    "            dropout_rate,\n",
    "            aggregation_type,\n",
    "            combination_type,\n",
    "            normalize,\n",
    "            name=\"graph_conv1\",\n",
    "        )\n",
    "        # Create the second GraphConv layer.\n",
    "        self.conv2 = GraphConvLayer(\n",
    "            hidden_units,\n",
    "            dropout_rate,\n",
    "            aggregation_type,\n",
    "            combination_type,\n",
    "            normalize,\n",
    "            name=\"graph_conv2\",\n",
    "        )\n",
    "        # Create a postprocess layer.\n",
    "        self.postprocess = create_ffn(hidden_units, dropout_rate, name=\"postprocess\")\n",
    "        # Create a compute logits layer.\n",
    "        self.compute_logits = layers.Dense(units=num_classes, name=\"logits\")\n",
    "\n",
    "    def call(self, input_node_indices):\n",
    "        # Preprocess the node_features to produce node representations.\n",
    "        x = self.preprocess(self.node_features)\n",
    "        # Apply the first graph conv layer.\n",
    "        x1 = self.conv1((x, self.edges, self.edge_weights))\n",
    "        # Skip connection.\n",
    "        x = x1 + x\n",
    "        # Apply the second graph conv layer.\n",
    "        x2 = self.conv2((x, self.edges, self.edge_weights))\n",
    "        # Skip connection.\n",
    "        x = x2 + x\n",
    "        # Postprocess node embedding.\n",
    "        x = self.postprocess(x)\n",
    "        # Fetch node embeddings for the input node_indices.\n",
    "        node_embeddings = tf.gather(x, input_node_indices)\n",
    "        # Compute logits\n",
    "        return self.compute_logits(node_embeddings)"
   ],
   "metadata": {
    "collapsed": false,
    "pycharm": {
     "name": "#%%\n"
    }
   }
  },
  {
   "cell_type": "markdown",
   "source": [
    "Тестираме инстанцирање и повикување на моделот GNN. Ако обезбедиме индекси на N јазли, излезот ќе биде тензор со облик [N, num_classes], без оглед на големината на графикот."
   ],
   "metadata": {
    "collapsed": false
   }
  },
  {
   "cell_type": "code",
   "execution_count": 32,
   "outputs": [
    {
     "name": "stdout",
     "output_type": "stream",
     "text": [
      "GNN output shape: tf.Tensor(\n",
      "[[ 0.07707148  0.03349327 -0.07901328  0.10852873 -0.05743517 -0.02207329\n",
      "   0.00906519]\n",
      " [ 0.03212643 -0.05458915 -0.1156814  -0.03597032 -0.03754337  0.01681572\n",
      "   0.02022202]\n",
      " [-0.00981891 -0.00054826  0.03376161  0.16087668  0.08557203 -0.08880842\n",
      "   0.0842222 ]], shape=(3, 7), dtype=float32)\n",
      "Model: \"gnn_model\"\n",
      "_________________________________________________________________\n",
      " Layer (type)                Output Shape              Param #   \n",
      "=================================================================\n",
      " preprocess (Sequential)     (2708, 32)                52804     \n",
      "                                                                 \n",
      " graph_conv1 (GraphConvLayer  multiple                 5888      \n",
      " )                                                               \n",
      "                                                                 \n",
      " graph_conv2 (GraphConvLayer  multiple                 5888      \n",
      " )                                                               \n",
      "                                                                 \n",
      " postprocess (Sequential)    (2708, 32)                2368      \n",
      "                                                                 \n",
      " logits (Dense)              multiple                  231       \n",
      "                                                                 \n",
      "=================================================================\n",
      "Total params: 67,179\n",
      "Trainable params: 63,481\n",
      "Non-trainable params: 3,698\n",
      "_________________________________________________________________\n"
     ]
    }
   ],
   "source": [
    "gnn_model = GNNNodeClassifier(\n",
    "    graph_info=graph_info,\n",
    "    num_classes=num_classes,\n",
    "    hidden_units=hidden_units,\n",
    "    dropout_rate=dropout_rate,\n",
    "    name=\"gnn_model\",\n",
    ")\n",
    "\n",
    "print(\"GNN output shape:\", gnn_model([1, 10, 100]))\n",
    "\n",
    "gnn_model.summary()"
   ],
   "metadata": {
    "collapsed": false,
    "pycharm": {
     "name": "#%%\n"
    }
   }
  },
  {
   "cell_type": "markdown",
   "source": [
    "Тренирање на GNN моделот"
   ],
   "metadata": {
    "collapsed": false
   }
  },
  {
   "cell_type": "code",
   "execution_count": 33,
   "outputs": [
    {
     "name": "stdout",
     "output_type": "stream",
     "text": [
      "Epoch 1/300\n",
      "5/5 [==============================] - 10s 409ms/step - loss: 2.3487 - acc: 0.1243 - val_loss: 1.8713 - val_acc: 0.4020\n",
      "Epoch 2/300\n",
      "5/5 [==============================] - 1s 211ms/step - loss: 2.0161 - acc: 0.2087 - val_loss: 1.8390 - val_acc: 0.4020\n",
      "Epoch 3/300\n",
      "5/5 [==============================] - 1s 215ms/step - loss: 1.9419 - acc: 0.2765 - val_loss: 1.8231 - val_acc: 0.4020\n",
      "Epoch 4/300\n",
      "5/5 [==============================] - 1s 242ms/step - loss: 1.8954 - acc: 0.2722 - val_loss: 1.8124 - val_acc: 0.4020\n",
      "Epoch 5/300\n",
      "5/5 [==============================] - 1s 230ms/step - loss: 1.8830 - acc: 0.2800 - val_loss: 1.8103 - val_acc: 0.4020\n",
      "Epoch 6/300\n",
      "5/5 [==============================] - 1s 215ms/step - loss: 1.8859 - acc: 0.2643 - val_loss: 1.8119 - val_acc: 0.4020\n",
      "Epoch 7/300\n",
      "5/5 [==============================] - 1s 207ms/step - loss: 1.8652 - acc: 0.2635 - val_loss: 1.8035 - val_acc: 0.4020\n",
      "Epoch 8/300\n",
      "5/5 [==============================] - 1s 238ms/step - loss: 1.8505 - acc: 0.2809 - val_loss: 1.7884 - val_acc: 0.4020\n",
      "Epoch 9/300\n",
      "5/5 [==============================] - 1s 207ms/step - loss: 1.8276 - acc: 0.2887 - val_loss: 1.7733 - val_acc: 0.4020\n",
      "Epoch 10/300\n",
      "5/5 [==============================] - 1s 199ms/step - loss: 1.8239 - acc: 0.2948 - val_loss: 1.7601 - val_acc: 0.4069\n",
      "Epoch 11/300\n",
      "5/5 [==============================] - 1s 207ms/step - loss: 1.7984 - acc: 0.3052 - val_loss: 1.7430 - val_acc: 0.4069\n",
      "Epoch 12/300\n",
      "5/5 [==============================] - 1s 223ms/step - loss: 1.7628 - acc: 0.3209 - val_loss: 1.7200 - val_acc: 0.4412\n",
      "Epoch 13/300\n",
      "5/5 [==============================] - 1s 199ms/step - loss: 1.7269 - acc: 0.3470 - val_loss: 1.6755 - val_acc: 0.4804\n",
      "Epoch 14/300\n",
      "5/5 [==============================] - 1s 199ms/step - loss: 1.7180 - acc: 0.3426 - val_loss: 1.6275 - val_acc: 0.4706\n",
      "Epoch 15/300\n",
      "5/5 [==============================] - 1s 191ms/step - loss: 1.6721 - acc: 0.3600 - val_loss: 1.5859 - val_acc: 0.4657\n",
      "Epoch 16/300\n",
      "5/5 [==============================] - 1s 203ms/step - loss: 1.6084 - acc: 0.3965 - val_loss: 1.6681 - val_acc: 0.3480\n",
      "Epoch 17/300\n",
      "5/5 [==============================] - 1s 211ms/step - loss: 1.5695 - acc: 0.4017 - val_loss: 1.7749 - val_acc: 0.3088\n",
      "Epoch 18/300\n",
      "5/5 [==============================] - 1s 207ms/step - loss: 1.5507 - acc: 0.4217 - val_loss: 1.7529 - val_acc: 0.3480\n",
      "Epoch 19/300\n",
      "5/5 [==============================] - 1s 199ms/step - loss: 1.4961 - acc: 0.4426 - val_loss: 1.5839 - val_acc: 0.4118\n",
      "Epoch 20/300\n",
      "5/5 [==============================] - 1s 191ms/step - loss: 1.4121 - acc: 0.4687 - val_loss: 1.4495 - val_acc: 0.4461\n",
      "Epoch 21/300\n",
      "5/5 [==============================] - 1s 203ms/step - loss: 1.3899 - acc: 0.4843 - val_loss: 1.3736 - val_acc: 0.5049\n",
      "Epoch 22/300\n",
      "5/5 [==============================] - 1s 195ms/step - loss: 1.3342 - acc: 0.4991 - val_loss: 1.3160 - val_acc: 0.5392\n",
      "Epoch 23/300\n",
      "5/5 [==============================] - 1s 191ms/step - loss: 1.3021 - acc: 0.5130 - val_loss: 1.3542 - val_acc: 0.5098\n",
      "Epoch 24/300\n",
      "5/5 [==============================] - 1s 199ms/step - loss: 1.2621 - acc: 0.5278 - val_loss: 1.2571 - val_acc: 0.5588\n",
      "Epoch 25/300\n",
      "5/5 [==============================] - 1s 191ms/step - loss: 1.2317 - acc: 0.5287 - val_loss: 1.1797 - val_acc: 0.5686\n",
      "Epoch 26/300\n",
      "5/5 [==============================] - 1s 219ms/step - loss: 1.1861 - acc: 0.5435 - val_loss: 1.1120 - val_acc: 0.6373\n",
      "Epoch 27/300\n",
      "5/5 [==============================] - 1s 215ms/step - loss: 1.1256 - acc: 0.5922 - val_loss: 1.0428 - val_acc: 0.6667\n",
      "Epoch 28/300\n",
      "5/5 [==============================] - 1s 203ms/step - loss: 1.0962 - acc: 0.6096 - val_loss: 1.0889 - val_acc: 0.6275\n",
      "Epoch 29/300\n",
      "5/5 [==============================] - 1s 219ms/step - loss: 1.0705 - acc: 0.6000 - val_loss: 1.0450 - val_acc: 0.6569\n",
      "Epoch 30/300\n",
      "5/5 [==============================] - 1s 289ms/step - loss: 1.0099 - acc: 0.6435 - val_loss: 1.0100 - val_acc: 0.6569\n",
      "Epoch 31/300\n",
      "5/5 [==============================] - 1s 262ms/step - loss: 1.0160 - acc: 0.6365 - val_loss: 1.0888 - val_acc: 0.6373\n",
      "Epoch 32/300\n",
      "5/5 [==============================] - 1s 211ms/step - loss: 0.9961 - acc: 0.6400 - val_loss: 0.9808 - val_acc: 0.6471\n",
      "Epoch 33/300\n",
      "5/5 [==============================] - 1s 203ms/step - loss: 0.9538 - acc: 0.6643 - val_loss: 0.9563 - val_acc: 0.6667\n",
      "Epoch 34/300\n",
      "5/5 [==============================] - 1s 238ms/step - loss: 0.9615 - acc: 0.6478 - val_loss: 1.0120 - val_acc: 0.6471\n",
      "Epoch 35/300\n",
      "5/5 [==============================] - 1s 246ms/step - loss: 0.9037 - acc: 0.6948 - val_loss: 1.0124 - val_acc: 0.6569\n",
      "Epoch 36/300\n",
      "5/5 [==============================] - 1s 215ms/step - loss: 0.9290 - acc: 0.6791 - val_loss: 1.0525 - val_acc: 0.6373\n",
      "Epoch 37/300\n",
      "5/5 [==============================] - 1s 211ms/step - loss: 0.9172 - acc: 0.6713 - val_loss: 1.2524 - val_acc: 0.5343\n",
      "Epoch 38/300\n",
      "5/5 [==============================] - 1s 203ms/step - loss: 0.8873 - acc: 0.6878 - val_loss: 1.4120 - val_acc: 0.4755\n",
      "Epoch 39/300\n",
      "5/5 [==============================] - 1s 199ms/step - loss: 0.8935 - acc: 0.6739 - val_loss: 1.1997 - val_acc: 0.5784\n",
      "Epoch 40/300\n",
      "5/5 [==============================] - 1s 219ms/step - loss: 0.8754 - acc: 0.7000 - val_loss: 1.0392 - val_acc: 0.6324\n",
      "Epoch 41/300\n",
      "5/5 [==============================] - 1s 219ms/step - loss: 0.8984 - acc: 0.7009 - val_loss: 0.9908 - val_acc: 0.6667\n",
      "Epoch 42/300\n",
      "5/5 [==============================] - 1s 195ms/step - loss: 0.8318 - acc: 0.7278 - val_loss: 0.9874 - val_acc: 0.6569\n",
      "Epoch 43/300\n",
      "5/5 [==============================] - 1s 207ms/step - loss: 0.7970 - acc: 0.7304 - val_loss: 0.8594 - val_acc: 0.7059\n",
      "Epoch 44/300\n",
      "5/5 [==============================] - 1s 207ms/step - loss: 0.7560 - acc: 0.7348 - val_loss: 0.8049 - val_acc: 0.7304\n",
      "Epoch 45/300\n",
      "5/5 [==============================] - 1s 199ms/step - loss: 0.7609 - acc: 0.7383 - val_loss: 0.8116 - val_acc: 0.7206\n",
      "Epoch 46/300\n",
      "5/5 [==============================] - 1s 277ms/step - loss: 0.7131 - acc: 0.7565 - val_loss: 0.9186 - val_acc: 0.6863\n",
      "Epoch 47/300\n",
      "5/5 [==============================] - 1s 227ms/step - loss: 0.7263 - acc: 0.7704 - val_loss: 0.8720 - val_acc: 0.7010\n",
      "Epoch 48/300\n",
      "5/5 [==============================] - 1s 227ms/step - loss: 0.7561 - acc: 0.7513 - val_loss: 0.8340 - val_acc: 0.7157\n",
      "Epoch 49/300\n",
      "5/5 [==============================] - 1s 250ms/step - loss: 0.6959 - acc: 0.7704 - val_loss: 0.9113 - val_acc: 0.6765\n",
      "Epoch 50/300\n",
      "5/5 [==============================] - 1s 242ms/step - loss: 0.7129 - acc: 0.7548 - val_loss: 0.8917 - val_acc: 0.6863\n",
      "Epoch 51/300\n",
      "5/5 [==============================] - 1s 207ms/step - loss: 0.6968 - acc: 0.7643 - val_loss: 0.8341 - val_acc: 0.6961\n",
      "Epoch 52/300\n",
      "5/5 [==============================] - 1s 203ms/step - loss: 0.6976 - acc: 0.7870 - val_loss: 0.9177 - val_acc: 0.6814\n",
      "Epoch 53/300\n",
      "5/5 [==============================] - 1s 207ms/step - loss: 0.6392 - acc: 0.7922 - val_loss: 0.8730 - val_acc: 0.6912\n",
      "Epoch 54/300\n",
      "5/5 [==============================] - 1s 203ms/step - loss: 0.6685 - acc: 0.7748 - val_loss: 0.8897 - val_acc: 0.6863\n",
      "Epoch 55/300\n",
      "5/5 [==============================] - 1s 219ms/step - loss: 0.6485 - acc: 0.7730 - val_loss: 0.8141 - val_acc: 0.7353\n",
      "Epoch 56/300\n",
      "5/5 [==============================] - 1s 215ms/step - loss: 0.6718 - acc: 0.7704 - val_loss: 0.8216 - val_acc: 0.7304\n",
      "Epoch 57/300\n",
      "5/5 [==============================] - 1s 199ms/step - loss: 0.6836 - acc: 0.7609 - val_loss: 0.8096 - val_acc: 0.7206\n",
      "Epoch 58/300\n",
      "5/5 [==============================] - 1s 229ms/step - loss: 0.6217 - acc: 0.7939 - val_loss: 0.7788 - val_acc: 0.7402\n",
      "Epoch 59/300\n",
      "5/5 [==============================] - 1s 214ms/step - loss: 0.6438 - acc: 0.7835 - val_loss: 0.7818 - val_acc: 0.7598\n",
      "Epoch 60/300\n",
      "5/5 [==============================] - 1s 222ms/step - loss: 0.5805 - acc: 0.7957 - val_loss: 0.8011 - val_acc: 0.7304\n",
      "Epoch 61/300\n",
      "5/5 [==============================] - 1s 207ms/step - loss: 0.6052 - acc: 0.8009 - val_loss: 0.8147 - val_acc: 0.7304\n",
      "Epoch 62/300\n",
      "5/5 [==============================] - 1s 195ms/step - loss: 0.5554 - acc: 0.8104 - val_loss: 0.8573 - val_acc: 0.7157\n",
      "Epoch 63/300\n",
      "5/5 [==============================] - 1s 199ms/step - loss: 0.5915 - acc: 0.8087 - val_loss: 0.8561 - val_acc: 0.7108\n",
      "Epoch 64/300\n",
      "5/5 [==============================] - 1s 203ms/step - loss: 0.6210 - acc: 0.8035 - val_loss: 0.8204 - val_acc: 0.7108\n",
      "Epoch 65/300\n",
      "5/5 [==============================] - 1s 207ms/step - loss: 0.6032 - acc: 0.8017 - val_loss: 0.7830 - val_acc: 0.7255\n",
      "Epoch 66/300\n",
      "5/5 [==============================] - 1s 199ms/step - loss: 0.5908 - acc: 0.8096 - val_loss: 0.8132 - val_acc: 0.7255\n",
      "Epoch 67/300\n",
      "5/5 [==============================] - 1s 199ms/step - loss: 0.6093 - acc: 0.8104 - val_loss: 0.7141 - val_acc: 0.7451\n",
      "Epoch 68/300\n",
      "5/5 [==============================] - 1s 227ms/step - loss: 0.5991 - acc: 0.8070 - val_loss: 0.6790 - val_acc: 0.7647\n",
      "Epoch 69/300\n",
      "5/5 [==============================] - 1s 244ms/step - loss: 0.5506 - acc: 0.8191 - val_loss: 0.6847 - val_acc: 0.7696\n",
      "Epoch 70/300\n",
      "5/5 [==============================] - 1s 238ms/step - loss: 0.5556 - acc: 0.8157 - val_loss: 0.7078 - val_acc: 0.7500\n",
      "Epoch 71/300\n",
      "5/5 [==============================] - 1s 223ms/step - loss: 0.5358 - acc: 0.8330 - val_loss: 0.7021 - val_acc: 0.7892\n",
      "Epoch 72/300\n",
      "5/5 [==============================] - 1s 211ms/step - loss: 0.5118 - acc: 0.8409 - val_loss: 0.7738 - val_acc: 0.7549\n",
      "Epoch 73/300\n",
      "5/5 [==============================] - 1s 207ms/step - loss: 0.5518 - acc: 0.8130 - val_loss: 0.7372 - val_acc: 0.7451\n",
      "Epoch 74/300\n",
      "5/5 [==============================] - 1s 211ms/step - loss: 0.5589 - acc: 0.8183 - val_loss: 0.7147 - val_acc: 0.7647\n",
      "Epoch 75/300\n",
      "5/5 [==============================] - 1s 230ms/step - loss: 0.5788 - acc: 0.8174 - val_loss: 0.7237 - val_acc: 0.7500\n",
      "Epoch 76/300\n",
      "5/5 [==============================] - 1s 207ms/step - loss: 0.5866 - acc: 0.8087 - val_loss: 0.7402 - val_acc: 0.7549\n",
      "Epoch 77/300\n",
      "5/5 [==============================] - 1s 199ms/step - loss: 0.5153 - acc: 0.8287 - val_loss: 0.7439 - val_acc: 0.7549\n",
      "Epoch 78/300\n",
      "5/5 [==============================] - 1s 211ms/step - loss: 0.5651 - acc: 0.8209 - val_loss: 0.7062 - val_acc: 0.7892\n",
      "Epoch 79/300\n",
      "5/5 [==============================] - 1s 227ms/step - loss: 0.5556 - acc: 0.8209 - val_loss: 0.7136 - val_acc: 0.7941\n",
      "Epoch 80/300\n",
      "5/5 [==============================] - 1s 203ms/step - loss: 0.5454 - acc: 0.8261 - val_loss: 0.6919 - val_acc: 0.8039\n",
      "Epoch 81/300\n",
      "5/5 [==============================] - 1s 195ms/step - loss: 0.5436 - acc: 0.8365 - val_loss: 0.6647 - val_acc: 0.7990\n",
      "Epoch 82/300\n",
      "5/5 [==============================] - 1s 199ms/step - loss: 0.5065 - acc: 0.8417 - val_loss: 0.6739 - val_acc: 0.7892\n",
      "Epoch 83/300\n",
      "5/5 [==============================] - 1s 203ms/step - loss: 0.4553 - acc: 0.8504 - val_loss: 0.7080 - val_acc: 0.7647\n",
      "Epoch 84/300\n",
      "5/5 [==============================] - 1s 195ms/step - loss: 0.5038 - acc: 0.8400 - val_loss: 0.7106 - val_acc: 0.7500\n",
      "Epoch 85/300\n",
      "5/5 [==============================] - 1s 211ms/step - loss: 0.5349 - acc: 0.8322 - val_loss: 0.6952 - val_acc: 0.7696\n",
      "Epoch 86/300\n",
      "5/5 [==============================] - 1s 203ms/step - loss: 0.5534 - acc: 0.8243 - val_loss: 0.6958 - val_acc: 0.7696\n",
      "Epoch 87/300\n",
      "5/5 [==============================] - 1s 199ms/step - loss: 0.5044 - acc: 0.8348 - val_loss: 0.6754 - val_acc: 0.7843\n",
      "Epoch 88/300\n",
      "5/5 [==============================] - 1s 203ms/step - loss: 0.4733 - acc: 0.8504 - val_loss: 0.6640 - val_acc: 0.7892\n",
      "Epoch 89/300\n",
      "5/5 [==============================] - 1s 230ms/step - loss: 0.5218 - acc: 0.8330 - val_loss: 0.6589 - val_acc: 0.7794\n",
      "Epoch 90/300\n",
      "5/5 [==============================] - 1s 211ms/step - loss: 0.4954 - acc: 0.8496 - val_loss: 0.6535 - val_acc: 0.7990\n",
      "Epoch 91/300\n",
      "5/5 [==============================] - 1s 219ms/step - loss: 0.4795 - acc: 0.8548 - val_loss: 0.6502 - val_acc: 0.8039\n",
      "Epoch 92/300\n",
      "5/5 [==============================] - 1s 215ms/step - loss: 0.4955 - acc: 0.8391 - val_loss: 0.6594 - val_acc: 0.7990\n",
      "Epoch 93/300\n",
      "5/5 [==============================] - 1s 199ms/step - loss: 0.4543 - acc: 0.8522 - val_loss: 0.6497 - val_acc: 0.7941\n",
      "Epoch 94/300\n",
      "5/5 [==============================] - 1s 199ms/step - loss: 0.4934 - acc: 0.8435 - val_loss: 0.6728 - val_acc: 0.7941\n",
      "Epoch 95/300\n",
      "5/5 [==============================] - 1s 195ms/step - loss: 0.4928 - acc: 0.8470 - val_loss: 0.7435 - val_acc: 0.7843\n",
      "Epoch 96/300\n",
      "5/5 [==============================] - 1s 203ms/step - loss: 0.4570 - acc: 0.8487 - val_loss: 0.7576 - val_acc: 0.7598\n",
      "Epoch 97/300\n",
      "5/5 [==============================] - 1s 223ms/step - loss: 0.5524 - acc: 0.8313 - val_loss: 0.7179 - val_acc: 0.7745\n",
      "Epoch 98/300\n",
      "5/5 [==============================] - 1s 215ms/step - loss: 0.4697 - acc: 0.8435 - val_loss: 0.6360 - val_acc: 0.7990\n",
      "Epoch 99/300\n",
      "5/5 [==============================] - 1s 211ms/step - loss: 0.5014 - acc: 0.8530 - val_loss: 0.6292 - val_acc: 0.8039\n",
      "Epoch 100/300\n",
      "5/5 [==============================] - 1s 215ms/step - loss: 0.5099 - acc: 0.8365 - val_loss: 0.6163 - val_acc: 0.8235\n",
      "Epoch 101/300\n",
      "5/5 [==============================] - 1s 211ms/step - loss: 0.4941 - acc: 0.8443 - val_loss: 0.6069 - val_acc: 0.8284\n",
      "Epoch 102/300\n",
      "5/5 [==============================] - 1s 191ms/step - loss: 0.4901 - acc: 0.8443 - val_loss: 0.6114 - val_acc: 0.8186\n",
      "Epoch 103/300\n",
      "5/5 [==============================] - 1s 199ms/step - loss: 0.4824 - acc: 0.8417 - val_loss: 0.6100 - val_acc: 0.8186\n",
      "Epoch 104/300\n",
      "5/5 [==============================] - 1s 211ms/step - loss: 0.4237 - acc: 0.8574 - val_loss: 0.6153 - val_acc: 0.8137\n",
      "Epoch 105/300\n",
      "5/5 [==============================] - 1s 203ms/step - loss: 0.4395 - acc: 0.8591 - val_loss: 0.6267 - val_acc: 0.8235\n",
      "Epoch 106/300\n",
      "5/5 [==============================] - 1s 227ms/step - loss: 0.4544 - acc: 0.8661 - val_loss: 0.6487 - val_acc: 0.8235\n",
      "Epoch 107/300\n",
      "5/5 [==============================] - 1s 215ms/step - loss: 0.4882 - acc: 0.8557 - val_loss: 0.6380 - val_acc: 0.8137\n",
      "Epoch 108/300\n",
      "5/5 [==============================] - 1s 211ms/step - loss: 0.4513 - acc: 0.8609 - val_loss: 0.6320 - val_acc: 0.8088\n",
      "Epoch 109/300\n",
      "5/5 [==============================] - 1s 199ms/step - loss: 0.4228 - acc: 0.8635 - val_loss: 0.6513 - val_acc: 0.8137\n",
      "Epoch 110/300\n",
      "5/5 [==============================] - 1s 195ms/step - loss: 0.4262 - acc: 0.8600 - val_loss: 0.6601 - val_acc: 0.8186\n",
      "Epoch 111/300\n",
      "5/5 [==============================] - 1s 199ms/step - loss: 0.4454 - acc: 0.8609 - val_loss: 0.6426 - val_acc: 0.8235\n",
      "Epoch 112/300\n",
      "5/5 [==============================] - 1s 199ms/step - loss: 0.4245 - acc: 0.8600 - val_loss: 0.6046 - val_acc: 0.8039\n",
      "Epoch 113/300\n",
      "5/5 [==============================] - 1s 195ms/step - loss: 0.4614 - acc: 0.8730 - val_loss: 0.5998 - val_acc: 0.8039\n",
      "Epoch 114/300\n",
      "5/5 [==============================] - 1s 191ms/step - loss: 0.4540 - acc: 0.8565 - val_loss: 0.5778 - val_acc: 0.8137\n",
      "Epoch 115/300\n",
      "5/5 [==============================] - 1s 203ms/step - loss: 0.3911 - acc: 0.8757 - val_loss: 0.5737 - val_acc: 0.8235\n",
      "Epoch 116/300\n",
      "5/5 [==============================] - 1s 199ms/step - loss: 0.4161 - acc: 0.8687 - val_loss: 0.5753 - val_acc: 0.7990\n",
      "Epoch 117/300\n",
      "5/5 [==============================] - 1s 203ms/step - loss: 0.4557 - acc: 0.8635 - val_loss: 0.5577 - val_acc: 0.8088\n",
      "Epoch 118/300\n",
      "5/5 [==============================] - 1s 199ms/step - loss: 0.4478 - acc: 0.8583 - val_loss: 0.5671 - val_acc: 0.8186\n",
      "Epoch 119/300\n",
      "5/5 [==============================] - 1s 207ms/step - loss: 0.4253 - acc: 0.8661 - val_loss: 0.5931 - val_acc: 0.8039\n",
      "Epoch 120/300\n",
      "5/5 [==============================] - 1s 203ms/step - loss: 0.4323 - acc: 0.8617 - val_loss: 0.6384 - val_acc: 0.8039\n",
      "Epoch 121/300\n",
      "5/5 [==============================] - 1s 223ms/step - loss: 0.4190 - acc: 0.8704 - val_loss: 0.6560 - val_acc: 0.8039\n",
      "Epoch 122/300\n",
      "5/5 [==============================] - 1s 203ms/step - loss: 0.4275 - acc: 0.8600 - val_loss: 0.6298 - val_acc: 0.7941\n",
      "Epoch 123/300\n",
      "5/5 [==============================] - 1s 207ms/step - loss: 0.4487 - acc: 0.8652 - val_loss: 0.6386 - val_acc: 0.7990\n",
      "Epoch 124/300\n",
      "5/5 [==============================] - 1s 199ms/step - loss: 0.4109 - acc: 0.8609 - val_loss: 0.6463 - val_acc: 0.8039\n",
      "Epoch 125/300\n",
      "5/5 [==============================] - 1s 215ms/step - loss: 0.4172 - acc: 0.8843 - val_loss: 0.6270 - val_acc: 0.7990\n",
      "Epoch 126/300\n",
      "5/5 [==============================] - 1s 211ms/step - loss: 0.4198 - acc: 0.8635 - val_loss: 0.5920 - val_acc: 0.7990\n",
      "Epoch 127/300\n",
      "5/5 [==============================] - 1s 203ms/step - loss: 0.4593 - acc: 0.8557 - val_loss: 0.5758 - val_acc: 0.8039\n",
      "Epoch 128/300\n",
      "5/5 [==============================] - 1s 230ms/step - loss: 0.3839 - acc: 0.8939 - val_loss: 0.5863 - val_acc: 0.8137\n",
      "Epoch 129/300\n",
      "5/5 [==============================] - 1s 215ms/step - loss: 0.4444 - acc: 0.8661 - val_loss: 0.6061 - val_acc: 0.8186\n",
      "Epoch 130/300\n",
      "5/5 [==============================] - 1s 211ms/step - loss: 0.4167 - acc: 0.8609 - val_loss: 0.5928 - val_acc: 0.8039\n",
      "Epoch 131/300\n",
      "5/5 [==============================] - 1s 203ms/step - loss: 0.3736 - acc: 0.8809 - val_loss: 0.6103 - val_acc: 0.8137\n",
      "Epoch 132/300\n",
      "5/5 [==============================] - 1s 199ms/step - loss: 0.3748 - acc: 0.8800 - val_loss: 0.6183 - val_acc: 0.8088\n",
      "Epoch 133/300\n",
      "5/5 [==============================] - 1s 207ms/step - loss: 0.4471 - acc: 0.8722 - val_loss: 0.6032 - val_acc: 0.8039\n",
      "Epoch 134/300\n",
      "5/5 [==============================] - 1s 207ms/step - loss: 0.4216 - acc: 0.8696 - val_loss: 0.6023 - val_acc: 0.8137\n",
      "Epoch 135/300\n",
      "5/5 [==============================] - 1s 211ms/step - loss: 0.4280 - acc: 0.8730 - val_loss: 0.6131 - val_acc: 0.8137\n",
      "Epoch 136/300\n",
      "5/5 [==============================] - 1s 199ms/step - loss: 0.3851 - acc: 0.8861 - val_loss: 0.6293 - val_acc: 0.8186\n",
      "Epoch 137/300\n",
      "5/5 [==============================] - 1s 203ms/step - loss: 0.4060 - acc: 0.8791 - val_loss: 0.6185 - val_acc: 0.8186\n",
      "Epoch 138/300\n",
      "5/5 [==============================] - 1s 223ms/step - loss: 0.4322 - acc: 0.8635 - val_loss: 0.6220 - val_acc: 0.8137\n",
      "Epoch 139/300\n",
      "5/5 [==============================] - 1s 207ms/step - loss: 0.4109 - acc: 0.8696 - val_loss: 0.6223 - val_acc: 0.8039\n",
      "Epoch 140/300\n",
      "5/5 [==============================] - 1s 195ms/step - loss: 0.4147 - acc: 0.8757 - val_loss: 0.6153 - val_acc: 0.8088\n",
      "Epoch 141/300\n",
      "5/5 [==============================] - 1s 199ms/step - loss: 0.4398 - acc: 0.8696 - val_loss: 0.6323 - val_acc: 0.8137\n",
      "Epoch 142/300\n",
      "5/5 [==============================] - 1s 203ms/step - loss: 0.4398 - acc: 0.8722 - val_loss: 0.6679 - val_acc: 0.8137\n",
      "Epoch 143/300\n",
      "5/5 [==============================] - 1s 199ms/step - loss: 0.4197 - acc: 0.8809 - val_loss: 0.6376 - val_acc: 0.8039\n",
      "Epoch 144/300\n",
      "5/5 [==============================] - 1s 203ms/step - loss: 0.3819 - acc: 0.8835 - val_loss: 0.6047 - val_acc: 0.8088\n",
      "Epoch 145/300\n",
      "5/5 [==============================] - 1s 199ms/step - loss: 0.4095 - acc: 0.8783 - val_loss: 0.6012 - val_acc: 0.8235\n",
      "Epoch 146/300\n",
      "5/5 [==============================] - 1s 203ms/step - loss: 0.3951 - acc: 0.8748 - val_loss: 0.6077 - val_acc: 0.8284\n",
      "Epoch 147/300\n",
      "5/5 [==============================] - 1s 211ms/step - loss: 0.4116 - acc: 0.8635 - val_loss: 0.6424 - val_acc: 0.8039\n",
      "Epoch 148/300\n",
      "5/5 [==============================] - 1s 211ms/step - loss: 0.3856 - acc: 0.8835 - val_loss: 0.5963 - val_acc: 0.8186\n",
      "Epoch 149/300\n",
      "5/5 [==============================] - 1s 215ms/step - loss: 0.3920 - acc: 0.8765 - val_loss: 0.5719 - val_acc: 0.8382\n",
      "Epoch 150/300\n",
      "5/5 [==============================] - 1s 219ms/step - loss: 0.3921 - acc: 0.8696 - val_loss: 0.5771 - val_acc: 0.8284\n",
      "Epoch 151/300\n",
      "5/5 [==============================] - 1s 219ms/step - loss: 0.3922 - acc: 0.8817 - val_loss: 0.6215 - val_acc: 0.8186\n",
      "Epoch 152/300\n",
      "5/5 [==============================] - 1s 219ms/step - loss: 0.4051 - acc: 0.8800 - val_loss: 0.6299 - val_acc: 0.8088\n",
      "Epoch 153/300\n",
      "5/5 [==============================] - 1s 207ms/step - loss: 0.3906 - acc: 0.8835 - val_loss: 0.6314 - val_acc: 0.8137\n",
      "Epoch 154/300\n",
      "5/5 [==============================] - 1s 211ms/step - loss: 0.4183 - acc: 0.8826 - val_loss: 0.6294 - val_acc: 0.8088\n",
      "Epoch 155/300\n",
      "5/5 [==============================] - 1s 207ms/step - loss: 0.3637 - acc: 0.8887 - val_loss: 0.6760 - val_acc: 0.7941\n",
      "Epoch 156/300\n",
      "5/5 [==============================] - 1s 211ms/step - loss: 0.3296 - acc: 0.9009 - val_loss: 0.6955 - val_acc: 0.7941\n",
      "Epoch 157/300\n",
      "5/5 [==============================] - 1s 223ms/step - loss: 0.3811 - acc: 0.8835 - val_loss: 0.7208 - val_acc: 0.7843\n",
      "Epoch 158/300\n",
      "5/5 [==============================] - 1s 211ms/step - loss: 0.3629 - acc: 0.8913 - val_loss: 0.7126 - val_acc: 0.7843\n",
      "Epoch 159/300\n",
      "5/5 [==============================] - 1s 203ms/step - loss: 0.3842 - acc: 0.8852 - val_loss: 0.7032 - val_acc: 0.8186\n",
      "Epoch 160/300\n",
      "5/5 [==============================] - 1s 203ms/step - loss: 0.3573 - acc: 0.8904 - val_loss: 0.6482 - val_acc: 0.8137\n",
      "Epoch 161/300\n",
      "5/5 [==============================] - 1s 211ms/step - loss: 0.3891 - acc: 0.8783 - val_loss: 0.6143 - val_acc: 0.8284\n",
      "Epoch 162/300\n",
      "5/5 [==============================] - 1s 227ms/step - loss: 0.3667 - acc: 0.8852 - val_loss: 0.5839 - val_acc: 0.8284\n",
      "Epoch 163/300\n",
      "5/5 [==============================] - 1s 211ms/step - loss: 0.4221 - acc: 0.8757 - val_loss: 0.5616 - val_acc: 0.8235\n",
      "Epoch 164/300\n",
      "5/5 [==============================] - 1s 203ms/step - loss: 0.3938 - acc: 0.8791 - val_loss: 0.5882 - val_acc: 0.8382\n",
      "Epoch 165/300\n",
      "5/5 [==============================] - 1s 203ms/step - loss: 0.3201 - acc: 0.8896 - val_loss: 0.6050 - val_acc: 0.8284\n",
      "Epoch 166/300\n",
      "5/5 [==============================] - 1s 215ms/step - loss: 0.3643 - acc: 0.8852 - val_loss: 0.5950 - val_acc: 0.8137\n",
      "Epoch 167/300\n",
      "5/5 [==============================] - 1s 199ms/step - loss: 0.3680 - acc: 0.8817 - val_loss: 0.6350 - val_acc: 0.8137\n",
      "Epoch 168/300\n",
      "5/5 [==============================] - 1s 215ms/step - loss: 0.4094 - acc: 0.8748 - val_loss: 0.6268 - val_acc: 0.8235\n",
      "Epoch 169/300\n",
      "5/5 [==============================] - 1s 203ms/step - loss: 0.4208 - acc: 0.8696 - val_loss: 0.5865 - val_acc: 0.8333\n",
      "Epoch 170/300\n",
      "5/5 [==============================] - 1s 207ms/step - loss: 0.3817 - acc: 0.8878 - val_loss: 0.5908 - val_acc: 0.8284\n",
      "Epoch 171/300\n",
      "5/5 [==============================] - 1s 203ms/step - loss: 0.3541 - acc: 0.8843 - val_loss: 0.5986 - val_acc: 0.8186\n",
      "Epoch 172/300\n",
      "5/5 [==============================] - 1s 207ms/step - loss: 0.3349 - acc: 0.8922 - val_loss: 0.5869 - val_acc: 0.8284\n",
      "Epoch 173/300\n",
      "5/5 [==============================] - 1s 199ms/step - loss: 0.3845 - acc: 0.8809 - val_loss: 0.5833 - val_acc: 0.8235\n",
      "Epoch 174/300\n",
      "5/5 [==============================] - 1s 195ms/step - loss: 0.3947 - acc: 0.8861 - val_loss: 0.5819 - val_acc: 0.8333\n",
      "Epoch 175/300\n",
      "5/5 [==============================] - 1s 215ms/step - loss: 0.4289 - acc: 0.8678 - val_loss: 0.5769 - val_acc: 0.8333\n",
      "Epoch 176/300\n",
      "5/5 [==============================] - 1s 211ms/step - loss: 0.3537 - acc: 0.9000 - val_loss: 0.5813 - val_acc: 0.8235\n",
      "Epoch 177/300\n",
      "5/5 [==============================] - 1s 219ms/step - loss: 0.3322 - acc: 0.8948 - val_loss: 0.6033 - val_acc: 0.8382\n",
      "Epoch 178/300\n",
      "5/5 [==============================] - 1s 238ms/step - loss: 0.3616 - acc: 0.8904 - val_loss: 0.6186 - val_acc: 0.8235\n",
      "Epoch 179/300\n",
      "5/5 [==============================] - 1s 230ms/step - loss: 0.4123 - acc: 0.8765 - val_loss: 0.5906 - val_acc: 0.8333\n",
      "Epoch 180/300\n",
      "5/5 [==============================] - 1s 207ms/step - loss: 0.3236 - acc: 0.9052 - val_loss: 0.5889 - val_acc: 0.8382\n",
      "Epoch 181/300\n",
      "5/5 [==============================] - 1s 242ms/step - loss: 0.3445 - acc: 0.8965 - val_loss: 0.5954 - val_acc: 0.8235\n",
      "Epoch 182/300\n",
      "5/5 [==============================] - 1s 207ms/step - loss: 0.3669 - acc: 0.8939 - val_loss: 0.6333 - val_acc: 0.8186\n",
      "Epoch 183/300\n",
      "5/5 [==============================] - 1s 219ms/step - loss: 0.3583 - acc: 0.8870 - val_loss: 0.5924 - val_acc: 0.8333\n",
      "Epoch 184/300\n",
      "5/5 [==============================] - 1s 219ms/step - loss: 0.3768 - acc: 0.8887 - val_loss: 0.5745 - val_acc: 0.8382\n",
      "Epoch 185/300\n",
      "5/5 [==============================] - 1s 207ms/step - loss: 0.3524 - acc: 0.8957 - val_loss: 0.5879 - val_acc: 0.8333\n",
      "Epoch 186/300\n",
      "5/5 [==============================] - 1s 195ms/step - loss: 0.3672 - acc: 0.8809 - val_loss: 0.5983 - val_acc: 0.8382\n",
      "Epoch 187/300\n",
      "5/5 [==============================] - 1s 199ms/step - loss: 0.3144 - acc: 0.9070 - val_loss: 0.6361 - val_acc: 0.8137\n",
      "Epoch 188/300\n",
      "5/5 [==============================] - 1s 199ms/step - loss: 0.3437 - acc: 0.8904 - val_loss: 0.6855 - val_acc: 0.8137\n",
      "Epoch 189/300\n",
      "5/5 [==============================] - 1s 195ms/step - loss: 0.3426 - acc: 0.8878 - val_loss: 0.6858 - val_acc: 0.8137\n",
      "Epoch 190/300\n",
      "5/5 [==============================] - 1s 199ms/step - loss: 0.3648 - acc: 0.8843 - val_loss: 0.6655 - val_acc: 0.8333\n",
      "Epoch 191/300\n",
      "5/5 [==============================] - 1s 199ms/step - loss: 0.3266 - acc: 0.8930 - val_loss: 0.6343 - val_acc: 0.8382\n",
      "Epoch 192/300\n",
      "5/5 [==============================] - 1s 199ms/step - loss: 0.3261 - acc: 0.9061 - val_loss: 0.6114 - val_acc: 0.8333\n",
      "Epoch 193/300\n",
      "5/5 [==============================] - 1s 203ms/step - loss: 0.3447 - acc: 0.8957 - val_loss: 0.5645 - val_acc: 0.8333\n",
      "Epoch 194/300\n",
      "5/5 [==============================] - 1s 199ms/step - loss: 0.4085 - acc: 0.8757 - val_loss: 0.5417 - val_acc: 0.8382\n",
      "Epoch 195/300\n",
      "5/5 [==============================] - 1s 207ms/step - loss: 0.3837 - acc: 0.8843 - val_loss: 0.5255 - val_acc: 0.8431\n",
      "Epoch 196/300\n",
      "5/5 [==============================] - 1s 199ms/step - loss: 0.3805 - acc: 0.8939 - val_loss: 0.5414 - val_acc: 0.8382\n",
      "Epoch 197/300\n",
      "5/5 [==============================] - 1s 207ms/step - loss: 0.3252 - acc: 0.9078 - val_loss: 0.5928 - val_acc: 0.8284\n",
      "Epoch 198/300\n",
      "5/5 [==============================] - 1s 203ms/step - loss: 0.3782 - acc: 0.8896 - val_loss: 0.5877 - val_acc: 0.8186\n",
      "Epoch 199/300\n",
      "5/5 [==============================] - 1s 207ms/step - loss: 0.3437 - acc: 0.8861 - val_loss: 0.5849 - val_acc: 0.8284\n",
      "Epoch 200/300\n",
      "5/5 [==============================] - 1s 203ms/step - loss: 0.3073 - acc: 0.8930 - val_loss: 0.5989 - val_acc: 0.8284\n",
      "Epoch 201/300\n",
      "5/5 [==============================] - 1s 203ms/step - loss: 0.3360 - acc: 0.8957 - val_loss: 0.6161 - val_acc: 0.8284\n",
      "Epoch 202/300\n",
      "5/5 [==============================] - 1s 199ms/step - loss: 0.3435 - acc: 0.8878 - val_loss: 0.6213 - val_acc: 0.8333\n",
      "Epoch 203/300\n",
      "5/5 [==============================] - 1s 203ms/step - loss: 0.3598 - acc: 0.8922 - val_loss: 0.6250 - val_acc: 0.8529\n",
      "Epoch 204/300\n",
      "5/5 [==============================] - 1s 230ms/step - loss: 0.3509 - acc: 0.8896 - val_loss: 0.6370 - val_acc: 0.8480\n",
      "Epoch 205/300\n",
      "5/5 [==============================] - 1s 199ms/step - loss: 0.4053 - acc: 0.8687 - val_loss: 0.6288 - val_acc: 0.8431\n",
      "Epoch 206/300\n",
      "5/5 [==============================] - 1s 195ms/step - loss: 0.3823 - acc: 0.8809 - val_loss: 0.6100 - val_acc: 0.8333\n",
      "Epoch 207/300\n",
      "5/5 [==============================] - 1s 203ms/step - loss: 0.3756 - acc: 0.8930 - val_loss: 0.5858 - val_acc: 0.8382\n",
      "Epoch 208/300\n",
      "5/5 [==============================] - 1s 215ms/step - loss: 0.3773 - acc: 0.8965 - val_loss: 0.5717 - val_acc: 0.8529\n",
      "Epoch 209/300\n",
      "5/5 [==============================] - 1s 199ms/step - loss: 0.3411 - acc: 0.8887 - val_loss: 0.5837 - val_acc: 0.8333\n",
      "Epoch 210/300\n",
      "5/5 [==============================] - 1s 199ms/step - loss: 0.3442 - acc: 0.8896 - val_loss: 0.6504 - val_acc: 0.8137\n",
      "Epoch 211/300\n",
      "5/5 [==============================] - 1s 203ms/step - loss: 0.3701 - acc: 0.8870 - val_loss: 0.6991 - val_acc: 0.8039\n",
      "Epoch 212/300\n",
      "5/5 [==============================] - 1s 203ms/step - loss: 0.3600 - acc: 0.8870 - val_loss: 0.6578 - val_acc: 0.8235\n",
      "Epoch 213/300\n",
      "5/5 [==============================] - 1s 199ms/step - loss: 0.3732 - acc: 0.8991 - val_loss: 0.6383 - val_acc: 0.8382\n",
      "Epoch 214/300\n",
      "5/5 [==============================] - 1s 199ms/step - loss: 0.3584 - acc: 0.8904 - val_loss: 0.6433 - val_acc: 0.8382\n",
      "Epoch 215/300\n",
      "5/5 [==============================] - 1s 207ms/step - loss: 0.2998 - acc: 0.9035 - val_loss: 0.6567 - val_acc: 0.8382\n",
      "Epoch 216/300\n",
      "5/5 [==============================] - 1s 199ms/step - loss: 0.3546 - acc: 0.8930 - val_loss: 0.6380 - val_acc: 0.8480\n",
      "Epoch 217/300\n",
      "5/5 [==============================] - 1s 211ms/step - loss: 0.3478 - acc: 0.8913 - val_loss: 0.6368 - val_acc: 0.8431\n",
      "Epoch 218/300\n",
      "5/5 [==============================] - 1s 203ms/step - loss: 0.3452 - acc: 0.8939 - val_loss: 0.6102 - val_acc: 0.8480\n",
      "Epoch 219/300\n",
      "5/5 [==============================] - 1s 203ms/step - loss: 0.3152 - acc: 0.8904 - val_loss: 0.6208 - val_acc: 0.8382\n",
      "Epoch 220/300\n",
      "5/5 [==============================] - 1s 207ms/step - loss: 0.3560 - acc: 0.9035 - val_loss: 0.6333 - val_acc: 0.8431\n",
      "Epoch 221/300\n",
      "5/5 [==============================] - 1s 207ms/step - loss: 0.3250 - acc: 0.9070 - val_loss: 0.6414 - val_acc: 0.8382\n",
      "Epoch 222/300\n",
      "5/5 [==============================] - 1s 203ms/step - loss: 0.3220 - acc: 0.8983 - val_loss: 0.6978 - val_acc: 0.8235\n",
      "Epoch 223/300\n",
      "5/5 [==============================] - 1s 215ms/step - loss: 0.3512 - acc: 0.8852 - val_loss: 0.7054 - val_acc: 0.8382\n",
      "Epoch 224/300\n",
      "5/5 [==============================] - 1s 225ms/step - loss: 0.3827 - acc: 0.8843 - val_loss: 0.6500 - val_acc: 0.8284\n",
      "Epoch 225/300\n",
      "5/5 [==============================] - 1s 211ms/step - loss: 0.3138 - acc: 0.9035 - val_loss: 0.5931 - val_acc: 0.8284\n",
      "Epoch 226/300\n",
      "5/5 [==============================] - 1s 207ms/step - loss: 0.3725 - acc: 0.8843 - val_loss: 0.5740 - val_acc: 0.8235\n",
      "Epoch 227/300\n",
      "5/5 [==============================] - 1s 203ms/step - loss: 0.3594 - acc: 0.8991 - val_loss: 0.5749 - val_acc: 0.8137\n",
      "Epoch 228/300\n",
      "5/5 [==============================] - 1s 203ms/step - loss: 0.3623 - acc: 0.8852 - val_loss: 0.5871 - val_acc: 0.8382\n",
      "Epoch 229/300\n",
      "5/5 [==============================] - 1s 203ms/step - loss: 0.3214 - acc: 0.8896 - val_loss: 0.6254 - val_acc: 0.8235\n",
      "Epoch 230/300\n",
      "5/5 [==============================] - 1s 203ms/step - loss: 0.3624 - acc: 0.8991 - val_loss: 0.6400 - val_acc: 0.8284\n",
      "Epoch 231/300\n",
      "5/5 [==============================] - 1s 203ms/step - loss: 0.3796 - acc: 0.8809 - val_loss: 0.6673 - val_acc: 0.8186\n",
      "Epoch 232/300\n",
      "5/5 [==============================] - 1s 203ms/step - loss: 0.3055 - acc: 0.9078 - val_loss: 0.6724 - val_acc: 0.8186\n",
      "Epoch 233/300\n",
      "5/5 [==============================] - 1s 203ms/step - loss: 0.3499 - acc: 0.8974 - val_loss: 0.6592 - val_acc: 0.8235\n",
      "Epoch 234/300\n",
      "5/5 [==============================] - 1s 203ms/step - loss: 0.3220 - acc: 0.8991 - val_loss: 0.6552 - val_acc: 0.8333\n",
      "Epoch 235/300\n",
      "5/5 [==============================] - 1s 207ms/step - loss: 0.3349 - acc: 0.8904 - val_loss: 0.6609 - val_acc: 0.8284\n",
      "Epoch 236/300\n",
      "5/5 [==============================] - 1s 203ms/step - loss: 0.3574 - acc: 0.8913 - val_loss: 0.6418 - val_acc: 0.8333\n",
      "Epoch 237/300\n",
      "5/5 [==============================] - 1s 211ms/step - loss: 0.3349 - acc: 0.8870 - val_loss: 0.6544 - val_acc: 0.8284\n",
      "Epoch 238/300\n",
      "5/5 [==============================] - 1s 215ms/step - loss: 0.3327 - acc: 0.8896 - val_loss: 0.6913 - val_acc: 0.8333\n",
      "Epoch 239/300\n",
      "5/5 [==============================] - 1s 227ms/step - loss: 0.3650 - acc: 0.8939 - val_loss: 0.7045 - val_acc: 0.8431\n",
      "Epoch 240/300\n",
      "5/5 [==============================] - 1s 227ms/step - loss: 0.3039 - acc: 0.8957 - val_loss: 0.7218 - val_acc: 0.8431\n",
      "Epoch 241/300\n",
      "5/5 [==============================] - 1s 242ms/step - loss: 0.3378 - acc: 0.8913 - val_loss: 0.7166 - val_acc: 0.8284\n",
      "Epoch 242/300\n",
      "5/5 [==============================] - 1s 207ms/step - loss: 0.3206 - acc: 0.9017 - val_loss: 0.6746 - val_acc: 0.8382\n",
      "Epoch 243/300\n",
      "5/5 [==============================] - 1s 207ms/step - loss: 0.3197 - acc: 0.8965 - val_loss: 0.6515 - val_acc: 0.8333\n",
      "Epoch 244/300\n",
      "5/5 [==============================] - 1s 199ms/step - loss: 0.3535 - acc: 0.8974 - val_loss: 0.6429 - val_acc: 0.8382\n",
      "Epoch 245/300\n",
      "5/5 [==============================] - 1s 199ms/step - loss: 0.2975 - acc: 0.9087 - val_loss: 0.6488 - val_acc: 0.8480\n",
      "Epoch 246/300\n",
      "5/5 [==============================] - 1s 219ms/step - loss: 0.2967 - acc: 0.9043 - val_loss: 0.6787 - val_acc: 0.8382\n",
      "Epoch 247/300\n",
      "5/5 [==============================] - 1s 223ms/step - loss: 0.3220 - acc: 0.9078 - val_loss: 0.6873 - val_acc: 0.8284\n",
      "Epoch 248/300\n",
      "5/5 [==============================] - 1s 230ms/step - loss: 0.3027 - acc: 0.9130 - val_loss: 0.7008 - val_acc: 0.8382\n",
      "Epoch 249/300\n",
      "5/5 [==============================] - 1s 227ms/step - loss: 0.2687 - acc: 0.9200 - val_loss: 0.6732 - val_acc: 0.8333\n",
      "Epoch 250/300\n",
      "5/5 [==============================] - 1s 199ms/step - loss: 0.3057 - acc: 0.9052 - val_loss: 0.6633 - val_acc: 0.8431\n",
      "Epoch 251/300\n",
      "5/5 [==============================] - 1s 199ms/step - loss: 0.3309 - acc: 0.9009 - val_loss: 0.7114 - val_acc: 0.8137\n",
      "Epoch 252/300\n",
      "5/5 [==============================] - 1s 203ms/step - loss: 0.3615 - acc: 0.8809 - val_loss: 0.7158 - val_acc: 0.8235\n",
      "Epoch 253/300\n",
      "5/5 [==============================] - 1s 203ms/step - loss: 0.3303 - acc: 0.8991 - val_loss: 0.7296 - val_acc: 0.8235\n"
     ]
    }
   ],
   "source": [
    "x_train = train_data.paper_id.to_numpy()\n",
    "history = run_experiment(gnn_model, x_train, y_train)"
   ],
   "metadata": {
    "collapsed": false,
    "pycharm": {
     "name": "#%%\n"
    }
   }
  },
  {
   "cell_type": "markdown",
   "source": [
    "Ги исцртуваме кривите на учење"
   ],
   "metadata": {
    "collapsed": false
   }
  },
  {
   "cell_type": "code",
   "execution_count": 34,
   "outputs": [
    {
     "data": {
      "text/plain": "<Figure size 1080x360 with 2 Axes>",
      "image/png": "[encoded data removed]"
     },
     "metadata": {
      "needs_background": "light"
     },
     "output_type": "display_data"
    }
   ],
   "source": [
    "display_learning_curves(history)"
   ],
   "metadata": {
    "collapsed": false,
    "pycharm": {
     "name": "#%%\n"
    }
   }
  },
  {
   "cell_type": "markdown",
   "source": [
    "Го оценуваме моделот GNN на поделбата на податоците од тестот. Резултатите може да варираат во зависност од примерокот за обука, но GNN моделот секогаш го надминува основниот модел во однос на точноста на тестот."
   ],
   "metadata": {
    "collapsed": false
   }
  },
  {
   "cell_type": "code",
   "execution_count": 36,
   "outputs": [
    {
     "name": "stdout",
     "output_type": "stream",
     "text": [
      "Test accuracy: 80.28%\n"
     ]
    }
   ],
   "source": [
    "x_test = test_data.paper_id.to_numpy()\n",
    "_, test_accuracy = gnn_model.evaluate(x=x_test, y=y_test, verbose=0)\n",
    "print(f\"Test accuracy: {round(test_accuracy * 100, 2)}%\")"
   ],
   "metadata": {
    "collapsed": false,
    "pycharm": {
     "name": "#%%\n"
    }
   }
  },
  {
   "cell_type": "markdown",
   "source": [
    "Ги испитуваме предвидувањата на GNN моделот\n",
    "Ги додаваме новите примероци како јазли на node_features и генерираме врски(цитати) до постоечките јазли"
   ],
   "metadata": {
    "collapsed": false
   }
  },
  {
   "cell_type": "code",
   "execution_count": 37,
   "outputs": [],
   "source": [
    "# First we add the N new_instances as nodes to the graph\n",
    "# by appending the new_instance to node_features.\n",
    "num_nodes = node_features.shape[0]\n",
    "new_node_features = np.concatenate([node_features, new_instances])\n",
    "# Second we add the M edges (citations) from each new node to a set\n",
    "# of existing nodes in a particular subject\n",
    "new_node_indices = [i + num_nodes for i in range(num_classes)]\n",
    "new_citations = []\n",
    "for subject_idx, group in papers.groupby(\"subject\"):\n",
    "    subject_papers = list(group.paper_id)\n",
    "    # Select random x papers specific subject.\n",
    "    selected_paper_indices1 = np.random.choice(subject_papers, 5)\n",
    "    # Select random y papers from any subject (where y < x).\n",
    "    selected_paper_indices2 = np.random.choice(list(papers.paper_id), 2)\n",
    "    # Merge the selected paper indices.\n",
    "    selected_paper_indices = np.concatenate(\n",
    "        [selected_paper_indices1, selected_paper_indices2], axis=0\n",
    "    )\n",
    "    # Create edges between a citing paper idx and the selected cited papers.\n",
    "    citing_paper_indx = new_node_indices[subject_idx]\n",
    "    for cited_paper_idx in selected_paper_indices:\n",
    "        new_citations.append([citing_paper_indx, cited_paper_idx])\n",
    "\n",
    "new_citations = np.array(new_citations).T\n",
    "new_edges = np.concatenate([edges, new_citations], axis=1)"
   ],
   "metadata": {
    "collapsed": false,
    "pycharm": {
     "name": "#%%\n"
    }
   }
  },
  {
   "cell_type": "markdown",
   "source": [
    "За крај ги ажурираме node_features и рабовите во моделот GNN."
   ],
   "metadata": {
    "collapsed": false
   }
  },
  {
   "cell_type": "code",
   "execution_count": 38,
   "outputs": [
    {
     "name": "stdout",
     "output_type": "stream",
     "text": [
      "Original node_features shape: (2708, 1433)\n",
      "Original edges shape: (2, 5429)\n",
      "New node_features shape: (2715, 1433)\n",
      "New edges shape: (2, 5478)\n",
      "1/1 [==============================] - 4s 4s/step\n",
      "Instance 1:\n",
      "- Case_Based: 11.26%\n",
      "- Genetic_Algorithms: 0.95%\n",
      "- Neural_Networks: 44.17%\n",
      "- Probabilistic_Methods: 3.38%\n",
      "- Reinforcement_Learning: 0.43%\n",
      "- Rule_Learning: 12.91%\n",
      "- Theory: 26.91%\n",
      "Instance 2:\n",
      "- Case_Based: 0.74%\n",
      "- Genetic_Algorithms: 93.79%\n",
      "- Neural_Networks: 0.74%\n",
      "- Probabilistic_Methods: 0.06%\n",
      "- Reinforcement_Learning: 4.53%\n",
      "- Rule_Learning: 0.08%\n",
      "- Theory: 0.07%\n",
      "Instance 3:\n",
      "- Case_Based: 0.11%\n",
      "- Genetic_Algorithms: 0.16%\n",
      "- Neural_Networks: 15.59%\n",
      "- Probabilistic_Methods: 81.79%\n",
      "- Reinforcement_Learning: 1.8%\n",
      "- Rule_Learning: 0.02%\n",
      "- Theory: 0.52%\n",
      "Instance 4:\n",
      "- Case_Based: 0.2%\n",
      "- Genetic_Algorithms: 0.07%\n",
      "- Neural_Networks: 1.52%\n",
      "- Probabilistic_Methods: 7.64%\n",
      "- Reinforcement_Learning: 0.04%\n",
      "- Rule_Learning: 0.08%\n",
      "- Theory: 90.44%\n",
      "Instance 5:\n",
      "- Case_Based: 0.43%\n",
      "- Genetic_Algorithms: 6.3%\n",
      "- Neural_Networks: 2.69%\n",
      "- Probabilistic_Methods: 0.44%\n",
      "- Reinforcement_Learning: 88.36%\n",
      "- Rule_Learning: 1.23%\n",
      "- Theory: 0.54%\n",
      "Instance 6:\n",
      "- Case_Based: 2.66%\n",
      "- Genetic_Algorithms: 0.28%\n",
      "- Neural_Networks: 2.04%\n",
      "- Probabilistic_Methods: 83.59%\n",
      "- Reinforcement_Learning: 0.29%\n",
      "- Rule_Learning: 0.81%\n",
      "- Theory: 10.33%\n",
      "Instance 7:\n",
      "- Case_Based: 1.12%\n",
      "- Genetic_Algorithms: 0.55%\n",
      "- Neural_Networks: 29.71%\n",
      "- Probabilistic_Methods: 1.22%\n",
      "- Reinforcement_Learning: 1.11%\n",
      "- Rule_Learning: 14.37%\n",
      "- Theory: 51.92%\n"
     ]
    }
   ],
   "source": [
    "print(\"Original node_features shape:\", gnn_model.node_features.shape)\n",
    "print(\"Original edges shape:\", gnn_model.edges.shape)\n",
    "gnn_model.node_features = new_node_features\n",
    "gnn_model.edges = new_edges\n",
    "gnn_model.edge_weights = tf.ones(shape=new_edges.shape[1])\n",
    "print(\"New node_features shape:\", gnn_model.node_features.shape)\n",
    "print(\"New edges shape:\", gnn_model.edges.shape)\n",
    "\n",
    "logits = gnn_model.predict(tf.convert_to_tensor(new_node_indices))\n",
    "probabilities = keras.activations.softmax(tf.convert_to_tensor(logits)).numpy()\n",
    "display_class_probabilities(probabilities)"
   ],
   "metadata": {
    "collapsed": false,
    "pycharm": {
     "name": "#%%\n"
    }
   }
  },
  {
   "cell_type": "markdown",
   "source": [
    "Може да забележиме дека веројатностите на очекуваните теми(на кои се додадени неколку цитати) се поголеми во споредба со освниот модел"
   ],
   "metadata": {
    "collapsed": false
   }
  },
  {
   "cell_type": "markdown",
   "source": [
    "### Во продолжение се извршува истиот код со сменети вредности за hidden_units, learning_rate и dropout_rate\n"
   ],
   "metadata": {
    "collapsed": false
   }
  },
  {
   "cell_type": "code",
   "execution_count": 78,
   "outputs": [],
   "source": [
    "hidden_units = [64, 64]\n",
    "learning_rate = 0.001\n",
    "dropout_rate = 0.5\n",
    "num_epochs = 300\n",
    "batch_size = 256"
   ],
   "metadata": {
    "collapsed": false,
    "pycharm": {
     "name": "#%%\n"
    }
   }
  },
  {
   "cell_type": "code",
   "execution_count": 79,
   "outputs": [],
   "source": [
    "def run_experiment(model, x_train, y_train):\n",
    "    # Compile the model.\n",
    "    model.compile(\n",
    "        optimizer=keras.optimizers.Adam(learning_rate),\n",
    "        loss=keras.losses.SparseCategoricalCrossentropy(from_logits=True),\n",
    "        metrics=[keras.metrics.SparseCategoricalAccuracy(name=\"acc\")],\n",
    "    )\n",
    "    # Create an early stopping callback.\n",
    "    early_stopping = keras.callbacks.EarlyStopping(\n",
    "        monitor=\"val_acc\", patience=50, restore_best_weights=True\n",
    "    )\n",
    "    # Fit the model.\n",
    "    history = model.fit(\n",
    "        x=x_train,\n",
    "        y=y_train,\n",
    "        epochs=num_epochs,\n",
    "        batch_size=batch_size,\n",
    "        validation_split=0.15,\n",
    "        callbacks=[early_stopping],\n",
    "    )\n",
    "\n",
    "    return history"
   ],
   "metadata": {
    "collapsed": false,
    "pycharm": {
     "name": "#%%\n"
    }
   }
  },
  {
   "cell_type": "code",
   "execution_count": 80,
   "outputs": [],
   "source": [
    "def display_learning_curves(history):\n",
    "    fig, (ax1, ax2) = plt.subplots(1, 2, figsize=(15, 5))\n",
    "\n",
    "    ax1.plot(history.history[\"loss\"])\n",
    "    ax1.plot(history.history[\"val_loss\"])\n",
    "    ax1.legend([\"train\", \"test\"], loc=\"upper right\")\n",
    "    ax1.set_xlabel(\"Epochs\")\n",
    "    ax1.set_ylabel(\"Loss\")\n",
    "\n",
    "    ax2.plot(history.history[\"acc\"])\n",
    "    ax2.plot(history.history[\"val_acc\"])\n",
    "    ax2.legend([\"train\", \"test\"], loc=\"upper right\")\n",
    "    ax2.set_xlabel(\"Epochs\")\n",
    "    ax2.set_ylabel(\"Accuracy\")\n",
    "    plt.show()"
   ],
   "metadata": {
    "collapsed": false,
    "pycharm": {
     "name": "#%%\n"
    }
   }
  },
  {
   "cell_type": "code",
   "execution_count": 81,
   "outputs": [],
   "source": [
    "def create_ffn(hidden_units, dropout_rate, name=None):\n",
    "    fnn_layers = []\n",
    "\n",
    "    for units in hidden_units:\n",
    "        fnn_layers.append(layers.BatchNormalization())\n",
    "        fnn_layers.append(layers.Dropout(dropout_rate))\n",
    "        fnn_layers.append(layers.Dense(units, activation=tf.nn.gelu))\n",
    "\n",
    "    return keras.Sequential(fnn_layers, name=name)"
   ],
   "metadata": {
    "collapsed": false,
    "pycharm": {
     "name": "#%%\n"
    }
   }
  },
  {
   "cell_type": "code",
   "execution_count": 82,
   "outputs": [
    {
     "name": "stderr",
     "output_type": "stream",
     "text": [
      "C:\\Users\\Vaci\\AppData\\Local\\Temp\\ipykernel_7292\\3044936297.py:6: FutureWarning: Passing a set as an indexer is deprecated and will raise in a future version. Use a list instead.\n",
      "  x_train = train_data[feature_names].to_numpy()\n",
      "C:\\Users\\Vaci\\AppData\\Local\\Temp\\ipykernel_7292\\3044936297.py:7: FutureWarning: Passing a set as an indexer is deprecated and will raise in a future version. Use a list instead.\n",
      "  x_test = test_data[feature_names].to_numpy()\n"
     ]
    }
   ],
   "source": [
    "feature_names = set(papers.columns) - {\"paper_id\", \"subject\"}\n",
    "num_features = len(feature_names)\n",
    "num_classes = len(class_idx)\n",
    "\n",
    "# Create train and test features as a numpy array.\n",
    "x_train = train_data[feature_names].to_numpy()\n",
    "x_test = test_data[feature_names].to_numpy()\n",
    "# Create train and test targets as a numpy array.\n",
    "y_train = train_data[\"subject\"].to_numpy()\n",
    "y_test = test_data[\"subject\"].to_numpy()"
   ],
   "metadata": {
    "collapsed": false,
    "pycharm": {
     "name": "#%%\n"
    }
   }
  },
  {
   "cell_type": "code",
   "execution_count": 83,
   "outputs": [
    {
     "name": "stdout",
     "output_type": "stream",
     "text": [
      "Model: \"baseline\"\n",
      "__________________________________________________________________________________________________\n",
      " Layer (type)                   Output Shape         Param #     Connected to                     \n",
      "==================================================================================================\n",
      " input_features (InputLayer)    [(None, 1433)]       0           []                               \n",
      "                                                                                                  \n",
      " ffn_block1 (Sequential)        (None, 64)           101924      ['input_features[0][0]']         \n",
      "                                                                                                  \n",
      " ffn_block2 (Sequential)        (None, 64)           8832        ['ffn_block1[0][0]']             \n",
      "                                                                                                  \n",
      " skip_connection2 (Add)         (None, 64)           0           ['ffn_block1[0][0]',             \n",
      "                                                                  'ffn_block2[0][0]']             \n",
      "                                                                                                  \n",
      " ffn_block3 (Sequential)        (None, 64)           8832        ['skip_connection2[0][0]']       \n",
      "                                                                                                  \n",
      " skip_connection3 (Add)         (None, 64)           0           ['skip_connection2[0][0]',       \n",
      "                                                                  'ffn_block3[0][0]']             \n",
      "                                                                                                  \n",
      " ffn_block4 (Sequential)        (None, 64)           8832        ['skip_connection3[0][0]']       \n",
      "                                                                                                  \n",
      " skip_connection4 (Add)         (None, 64)           0           ['skip_connection3[0][0]',       \n",
      "                                                                  'ffn_block4[0][0]']             \n",
      "                                                                                                  \n",
      " ffn_block5 (Sequential)        (None, 64)           8832        ['skip_connection4[0][0]']       \n",
      "                                                                                                  \n",
      " skip_connection5 (Add)         (None, 64)           0           ['skip_connection4[0][0]',       \n",
      "                                                                  'ffn_block5[0][0]']             \n",
      "                                                                                                  \n",
      " logits (Dense)                 (None, 7)            455         ['skip_connection5[0][0]']       \n",
      "                                                                                                  \n",
      "==================================================================================================\n",
      "Total params: 137,707\n",
      "Trainable params: 133,689\n",
      "Non-trainable params: 4,018\n",
      "__________________________________________________________________________________________________\n"
     ]
    }
   ],
   "source": [
    "def create_baseline_model(hidden_units, num_classes, dropout_rate=0.2):\n",
    "    inputs = layers.Input(shape=(num_features,), name=\"input_features\")\n",
    "    x = create_ffn(hidden_units, dropout_rate, name=f\"ffn_block1\")(inputs)\n",
    "    for block_idx in range(4):\n",
    "        # Create an FFN block.\n",
    "        x1 = create_ffn(hidden_units, dropout_rate, name=f\"ffn_block{block_idx + 2}\")(x)\n",
    "        # Add skip connection.\n",
    "        x = layers.Add(name=f\"skip_connection{block_idx + 2}\")([x, x1])\n",
    "    # Compute logits.\n",
    "    logits = layers.Dense(num_classes, name=\"logits\")(x)\n",
    "    # Create the model.\n",
    "    return keras.Model(inputs=inputs, outputs=logits, name=\"baseline\")\n",
    "\n",
    "\n",
    "baseline_model = create_baseline_model(hidden_units, num_classes, dropout_rate)\n",
    "baseline_model.summary()"
   ],
   "metadata": {
    "collapsed": false,
    "pycharm": {
     "name": "#%%\n"
    }
   }
  },
  {
   "cell_type": "code",
   "execution_count": 84,
   "outputs": [
    {
     "name": "stdout",
     "output_type": "stream",
     "text": [
      "Epoch 1/300\n",
      "5/5 [==============================] - 7s 191ms/step - loss: 5.6677 - acc: 0.1461 - val_loss: 1.9038 - val_acc: 0.3529\n",
      "Epoch 2/300\n",
      "5/5 [==============================] - 0s 43ms/step - loss: 4.5014 - acc: 0.1583 - val_loss: 1.8665 - val_acc: 0.4167\n",
      "Epoch 3/300\n",
      "5/5 [==============================] - 0s 47ms/step - loss: 3.8360 - acc: 0.1609 - val_loss: 1.8319 - val_acc: 0.4069\n",
      "Epoch 4/300\n",
      "5/5 [==============================] - 0s 39ms/step - loss: 3.3890 - acc: 0.1687 - val_loss: 1.8070 - val_acc: 0.4069\n",
      "Epoch 5/300\n",
      "5/5 [==============================] - 0s 39ms/step - loss: 3.1066 - acc: 0.2017 - val_loss: 1.7887 - val_acc: 0.4020\n",
      "Epoch 6/300\n",
      "5/5 [==============================] - 0s 39ms/step - loss: 3.0348 - acc: 0.2148 - val_loss: 1.7744 - val_acc: 0.4020\n",
      "Epoch 7/300\n",
      "5/5 [==============================] - 0s 43ms/step - loss: 2.9607 - acc: 0.2052 - val_loss: 1.7690 - val_acc: 0.4020\n",
      "Epoch 8/300\n",
      "5/5 [==============================] - 0s 39ms/step - loss: 2.9191 - acc: 0.2174 - val_loss: 1.7766 - val_acc: 0.4069\n",
      "Epoch 9/300\n",
      "5/5 [==============================] - 0s 39ms/step - loss: 2.7451 - acc: 0.2035 - val_loss: 1.7864 - val_acc: 0.4216\n",
      "Epoch 10/300\n",
      "5/5 [==============================] - 0s 35ms/step - loss: 2.6281 - acc: 0.2417 - val_loss: 1.7920 - val_acc: 0.4314\n",
      "Epoch 11/300\n",
      "5/5 [==============================] - 0s 35ms/step - loss: 2.5572 - acc: 0.2391 - val_loss: 1.7901 - val_acc: 0.4314\n",
      "Epoch 12/300\n",
      "5/5 [==============================] - 0s 35ms/step - loss: 2.5034 - acc: 0.2426 - val_loss: 1.7844 - val_acc: 0.4314\n",
      "Epoch 13/300\n",
      "5/5 [==============================] - 0s 39ms/step - loss: 2.4498 - acc: 0.2296 - val_loss: 1.7733 - val_acc: 0.4216\n",
      "Epoch 14/300\n",
      "5/5 [==============================] - 0s 35ms/step - loss: 2.3838 - acc: 0.2478 - val_loss: 1.7560 - val_acc: 0.4069\n",
      "Epoch 15/300\n",
      "5/5 [==============================] - 0s 39ms/step - loss: 2.3432 - acc: 0.2470 - val_loss: 1.7396 - val_acc: 0.4069\n",
      "Epoch 16/300\n",
      "5/5 [==============================] - 0s 35ms/step - loss: 2.3922 - acc: 0.2635 - val_loss: 1.7231 - val_acc: 0.4069\n",
      "Epoch 17/300\n",
      "5/5 [==============================] - 0s 39ms/step - loss: 2.3277 - acc: 0.2557 - val_loss: 1.7112 - val_acc: 0.4069\n",
      "Epoch 18/300\n",
      "5/5 [==============================] - 0s 35ms/step - loss: 2.2276 - acc: 0.2730 - val_loss: 1.7047 - val_acc: 0.4069\n",
      "Epoch 19/300\n",
      "5/5 [==============================] - 0s 39ms/step - loss: 2.2129 - acc: 0.2739 - val_loss: 1.7026 - val_acc: 0.4069\n",
      "Epoch 20/300\n",
      "5/5 [==============================] - 0s 43ms/step - loss: 2.1823 - acc: 0.2826 - val_loss: 1.7044 - val_acc: 0.4167\n",
      "Epoch 21/300\n",
      "5/5 [==============================] - 0s 35ms/step - loss: 2.1625 - acc: 0.2835 - val_loss: 1.7033 - val_acc: 0.4265\n",
      "Epoch 22/300\n",
      "5/5 [==============================] - 0s 35ms/step - loss: 2.1299 - acc: 0.2852 - val_loss: 1.6986 - val_acc: 0.4314\n",
      "Epoch 23/300\n",
      "5/5 [==============================] - 0s 39ms/step - loss: 2.0825 - acc: 0.2835 - val_loss: 1.6901 - val_acc: 0.4314\n",
      "Epoch 24/300\n",
      "5/5 [==============================] - 0s 43ms/step - loss: 1.9975 - acc: 0.3122 - val_loss: 1.6830 - val_acc: 0.4314\n",
      "Epoch 25/300\n",
      "5/5 [==============================] - 0s 35ms/step - loss: 2.0143 - acc: 0.3026 - val_loss: 1.6715 - val_acc: 0.4314\n",
      "Epoch 26/300\n",
      "5/5 [==============================] - 0s 35ms/step - loss: 1.9795 - acc: 0.3243 - val_loss: 1.6620 - val_acc: 0.4314\n",
      "Epoch 27/300\n",
      "5/5 [==============================] - 0s 39ms/step - loss: 1.9303 - acc: 0.3243 - val_loss: 1.6543 - val_acc: 0.4314\n",
      "Epoch 28/300\n",
      "5/5 [==============================] - 0s 35ms/step - loss: 1.9105 - acc: 0.3391 - val_loss: 1.6428 - val_acc: 0.4314\n",
      "Epoch 29/300\n",
      "5/5 [==============================] - 0s 39ms/step - loss: 1.9351 - acc: 0.3287 - val_loss: 1.6285 - val_acc: 0.4216\n",
      "Epoch 30/300\n",
      "5/5 [==============================] - 0s 35ms/step - loss: 1.8911 - acc: 0.3443 - val_loss: 1.6201 - val_acc: 0.4216\n",
      "Epoch 31/300\n",
      "5/5 [==============================] - 0s 39ms/step - loss: 1.8761 - acc: 0.3330 - val_loss: 1.6153 - val_acc: 0.4314\n",
      "Epoch 32/300\n",
      "5/5 [==============================] - 0s 43ms/step - loss: 1.7752 - acc: 0.3826 - val_loss: 1.6102 - val_acc: 0.4412\n",
      "Epoch 33/300\n",
      "5/5 [==============================] - 0s 35ms/step - loss: 1.7707 - acc: 0.3496 - val_loss: 1.6057 - val_acc: 0.4461\n",
      "Epoch 34/300\n",
      "5/5 [==============================] - 0s 35ms/step - loss: 1.7512 - acc: 0.3713 - val_loss: 1.6017 - val_acc: 0.4559\n",
      "Epoch 35/300\n",
      "5/5 [==============================] - 0s 43ms/step - loss: 1.7247 - acc: 0.3791 - val_loss: 1.5915 - val_acc: 0.4608\n",
      "Epoch 36/300\n",
      "5/5 [==============================] - 0s 35ms/step - loss: 1.6872 - acc: 0.3957 - val_loss: 1.5770 - val_acc: 0.4608\n",
      "Epoch 37/300\n",
      "5/5 [==============================] - 0s 43ms/step - loss: 1.6632 - acc: 0.3965 - val_loss: 1.5626 - val_acc: 0.4657\n",
      "Epoch 38/300\n",
      "5/5 [==============================] - 0s 39ms/step - loss: 1.6245 - acc: 0.4122 - val_loss: 1.5491 - val_acc: 0.4853\n",
      "Epoch 39/300\n",
      "5/5 [==============================] - 0s 35ms/step - loss: 1.5517 - acc: 0.4374 - val_loss: 1.5324 - val_acc: 0.4853\n",
      "Epoch 40/300\n",
      "5/5 [==============================] - 0s 39ms/step - loss: 1.5854 - acc: 0.4365 - val_loss: 1.5130 - val_acc: 0.4853\n",
      "Epoch 41/300\n",
      "5/5 [==============================] - 0s 35ms/step - loss: 1.5311 - acc: 0.4461 - val_loss: 1.4939 - val_acc: 0.4853\n",
      "Epoch 42/300\n",
      "5/5 [==============================] - 0s 43ms/step - loss: 1.5446 - acc: 0.4452 - val_loss: 1.4784 - val_acc: 0.5000\n",
      "Epoch 43/300\n",
      "5/5 [==============================] - 0s 39ms/step - loss: 1.4535 - acc: 0.4870 - val_loss: 1.4637 - val_acc: 0.5049\n",
      "Epoch 44/300\n",
      "5/5 [==============================] - 0s 35ms/step - loss: 1.4419 - acc: 0.4783 - val_loss: 1.4523 - val_acc: 0.5294\n",
      "Epoch 45/300\n",
      "5/5 [==============================] - 0s 39ms/step - loss: 1.5057 - acc: 0.4661 - val_loss: 1.4444 - val_acc: 0.5294\n",
      "Epoch 46/300\n",
      "5/5 [==============================] - 0s 39ms/step - loss: 1.4299 - acc: 0.4826 - val_loss: 1.4334 - val_acc: 0.5441\n",
      "Epoch 47/300\n",
      "5/5 [==============================] - 0s 35ms/step - loss: 1.3678 - acc: 0.5078 - val_loss: 1.4163 - val_acc: 0.5539\n",
      "Epoch 48/300\n",
      "5/5 [==============================] - 0s 39ms/step - loss: 1.3758 - acc: 0.4957 - val_loss: 1.3996 - val_acc: 0.5735\n",
      "Epoch 49/300\n",
      "5/5 [==============================] - 0s 39ms/step - loss: 1.3558 - acc: 0.5191 - val_loss: 1.3793 - val_acc: 0.5882\n",
      "Epoch 50/300\n",
      "5/5 [==============================] - 0s 39ms/step - loss: 1.3413 - acc: 0.5261 - val_loss: 1.3577 - val_acc: 0.5931\n",
      "Epoch 51/300\n",
      "5/5 [==============================] - 0s 43ms/step - loss: 1.2995 - acc: 0.5330 - val_loss: 1.3323 - val_acc: 0.5980\n",
      "Epoch 52/300\n",
      "5/5 [==============================] - 0s 39ms/step - loss: 1.3182 - acc: 0.5348 - val_loss: 1.3115 - val_acc: 0.6029\n",
      "Epoch 53/300\n",
      "5/5 [==============================] - 0s 39ms/step - loss: 1.2759 - acc: 0.5278 - val_loss: 1.2921 - val_acc: 0.6176\n",
      "Epoch 54/300\n",
      "5/5 [==============================] - 0s 39ms/step - loss: 1.2408 - acc: 0.5670 - val_loss: 1.2718 - val_acc: 0.6324\n",
      "Epoch 55/300\n",
      "5/5 [==============================] - 0s 39ms/step - loss: 1.2560 - acc: 0.5557 - val_loss: 1.2511 - val_acc: 0.6373\n",
      "Epoch 56/300\n",
      "5/5 [==============================] - 0s 43ms/step - loss: 1.2486 - acc: 0.5513 - val_loss: 1.2303 - val_acc: 0.6422\n",
      "Epoch 57/300\n",
      "5/5 [==============================] - 0s 35ms/step - loss: 1.1575 - acc: 0.5826 - val_loss: 1.2115 - val_acc: 0.6373\n",
      "Epoch 58/300\n",
      "5/5 [==============================] - 0s 39ms/step - loss: 1.1870 - acc: 0.5861 - val_loss: 1.1909 - val_acc: 0.6520\n",
      "Epoch 59/300\n",
      "5/5 [==============================] - 0s 43ms/step - loss: 1.1370 - acc: 0.5887 - val_loss: 1.1726 - val_acc: 0.6667\n",
      "Epoch 60/300\n",
      "5/5 [==============================] - 0s 39ms/step - loss: 1.1076 - acc: 0.6061 - val_loss: 1.1542 - val_acc: 0.6863\n",
      "Epoch 61/300\n",
      "5/5 [==============================] - 0s 43ms/step - loss: 1.0771 - acc: 0.6104 - val_loss: 1.1354 - val_acc: 0.6961\n",
      "Epoch 62/300\n",
      "5/5 [==============================] - 0s 39ms/step - loss: 1.0377 - acc: 0.6391 - val_loss: 1.1154 - val_acc: 0.7157\n",
      "Epoch 63/300\n",
      "5/5 [==============================] - 0s 39ms/step - loss: 1.0303 - acc: 0.6322 - val_loss: 1.0959 - val_acc: 0.7304\n",
      "Epoch 64/300\n",
      "5/5 [==============================] - 0s 43ms/step - loss: 1.0042 - acc: 0.6574 - val_loss: 1.0781 - val_acc: 0.7402\n",
      "Epoch 65/300\n",
      "5/5 [==============================] - 0s 39ms/step - loss: 1.0401 - acc: 0.6235 - val_loss: 1.0608 - val_acc: 0.7353\n",
      "Epoch 66/300\n",
      "5/5 [==============================] - 0s 43ms/step - loss: 0.9932 - acc: 0.6504 - val_loss: 1.0438 - val_acc: 0.7304\n",
      "Epoch 67/300\n",
      "5/5 [==============================] - 0s 39ms/step - loss: 0.9809 - acc: 0.6635 - val_loss: 1.0243 - val_acc: 0.7353\n",
      "Epoch 68/300\n",
      "5/5 [==============================] - 0s 35ms/step - loss: 0.9493 - acc: 0.6722 - val_loss: 1.0093 - val_acc: 0.7304\n",
      "Epoch 69/300\n",
      "5/5 [==============================] - 0s 39ms/step - loss: 0.9251 - acc: 0.6730 - val_loss: 0.9971 - val_acc: 0.7304\n",
      "Epoch 70/300\n",
      "5/5 [==============================] - 0s 35ms/step - loss: 0.9616 - acc: 0.6600 - val_loss: 0.9834 - val_acc: 0.7304\n",
      "Epoch 71/300\n",
      "5/5 [==============================] - 0s 43ms/step - loss: 0.9474 - acc: 0.6783 - val_loss: 0.9714 - val_acc: 0.7304\n",
      "Epoch 72/300\n",
      "5/5 [==============================] - 0s 51ms/step - loss: 0.8845 - acc: 0.6957 - val_loss: 0.9519 - val_acc: 0.7304\n",
      "Epoch 73/300\n",
      "5/5 [==============================] - 0s 43ms/step - loss: 0.9662 - acc: 0.6626 - val_loss: 0.9359 - val_acc: 0.7353\n",
      "Epoch 74/300\n",
      "5/5 [==============================] - 0s 43ms/step - loss: 0.8529 - acc: 0.7009 - val_loss: 0.9210 - val_acc: 0.7402\n",
      "Epoch 75/300\n",
      "5/5 [==============================] - 0s 39ms/step - loss: 0.8935 - acc: 0.6991 - val_loss: 0.9076 - val_acc: 0.7402\n",
      "Epoch 76/300\n",
      "5/5 [==============================] - 0s 39ms/step - loss: 0.8538 - acc: 0.7035 - val_loss: 0.8939 - val_acc: 0.7402\n",
      "Epoch 77/300\n",
      "5/5 [==============================] - 0s 42ms/step - loss: 0.8384 - acc: 0.7243 - val_loss: 0.8806 - val_acc: 0.7451\n",
      "Epoch 78/300\n",
      "5/5 [==============================] - 0s 35ms/step - loss: 0.9069 - acc: 0.6835 - val_loss: 0.8702 - val_acc: 0.7451\n",
      "Epoch 79/300\n",
      "5/5 [==============================] - 0s 43ms/step - loss: 0.8390 - acc: 0.7148 - val_loss: 0.8600 - val_acc: 0.7451\n",
      "Epoch 80/300\n",
      "5/5 [==============================] - 0s 43ms/step - loss: 0.8284 - acc: 0.7070 - val_loss: 0.8515 - val_acc: 0.7451\n",
      "Epoch 81/300\n",
      "5/5 [==============================] - 0s 43ms/step - loss: 0.8054 - acc: 0.7235 - val_loss: 0.8456 - val_acc: 0.7500\n",
      "Epoch 82/300\n",
      "5/5 [==============================] - 0s 39ms/step - loss: 0.7871 - acc: 0.7426 - val_loss: 0.8387 - val_acc: 0.7500\n",
      "Epoch 83/300\n",
      "5/5 [==============================] - 0s 39ms/step - loss: 0.7879 - acc: 0.7200 - val_loss: 0.8310 - val_acc: 0.7549\n",
      "Epoch 84/300\n",
      "5/5 [==============================] - 0s 39ms/step - loss: 0.7793 - acc: 0.7287 - val_loss: 0.8249 - val_acc: 0.7598\n",
      "Epoch 85/300\n",
      "5/5 [==============================] - 0s 39ms/step - loss: 0.7526 - acc: 0.7461 - val_loss: 0.8212 - val_acc: 0.7745\n",
      "Epoch 86/300\n",
      "5/5 [==============================] - 0s 39ms/step - loss: 0.7283 - acc: 0.7530 - val_loss: 0.8153 - val_acc: 0.7794\n",
      "Epoch 87/300\n",
      "5/5 [==============================] - 0s 39ms/step - loss: 0.7630 - acc: 0.7296 - val_loss: 0.8099 - val_acc: 0.7794\n",
      "Epoch 88/300\n",
      "5/5 [==============================] - 0s 43ms/step - loss: 0.7233 - acc: 0.7539 - val_loss: 0.8046 - val_acc: 0.7745\n",
      "Epoch 89/300\n",
      "5/5 [==============================] - 0s 43ms/step - loss: 0.7083 - acc: 0.7522 - val_loss: 0.7977 - val_acc: 0.7892\n",
      "Epoch 90/300\n",
      "5/5 [==============================] - 0s 43ms/step - loss: 0.6835 - acc: 0.7504 - val_loss: 0.7912 - val_acc: 0.7843\n",
      "Epoch 91/300\n",
      "5/5 [==============================] - 0s 35ms/step - loss: 0.7262 - acc: 0.7409 - val_loss: 0.7878 - val_acc: 0.7745\n",
      "Epoch 92/300\n",
      "5/5 [==============================] - 0s 39ms/step - loss: 0.7347 - acc: 0.7426 - val_loss: 0.7835 - val_acc: 0.7745\n",
      "Epoch 93/300\n",
      "5/5 [==============================] - 0s 35ms/step - loss: 0.6873 - acc: 0.7609 - val_loss: 0.7823 - val_acc: 0.7745\n",
      "Epoch 94/300\n",
      "5/5 [==============================] - 0s 39ms/step - loss: 0.6434 - acc: 0.7835 - val_loss: 0.7822 - val_acc: 0.7696\n",
      "Epoch 95/300\n",
      "5/5 [==============================] - 0s 47ms/step - loss: 0.6678 - acc: 0.7774 - val_loss: 0.7829 - val_acc: 0.7549\n",
      "Epoch 96/300\n",
      "5/5 [==============================] - 0s 51ms/step - loss: 0.6431 - acc: 0.7739 - val_loss: 0.7819 - val_acc: 0.7549\n",
      "Epoch 97/300\n",
      "5/5 [==============================] - 0s 59ms/step - loss: 0.6762 - acc: 0.7748 - val_loss: 0.7819 - val_acc: 0.7451\n",
      "Epoch 98/300\n",
      "5/5 [==============================] - 0s 42ms/step - loss: 0.6357 - acc: 0.7696 - val_loss: 0.7775 - val_acc: 0.7598\n",
      "Epoch 99/300\n",
      "5/5 [==============================] - 0s 43ms/step - loss: 0.6206 - acc: 0.8000 - val_loss: 0.7765 - val_acc: 0.7598\n",
      "Epoch 100/300\n",
      "5/5 [==============================] - 0s 51ms/step - loss: 0.6198 - acc: 0.7774 - val_loss: 0.7768 - val_acc: 0.7549\n",
      "Epoch 101/300\n",
      "5/5 [==============================] - 0s 43ms/step - loss: 0.6051 - acc: 0.7870 - val_loss: 0.7771 - val_acc: 0.7500\n",
      "Epoch 102/300\n",
      "5/5 [==============================] - 0s 39ms/step - loss: 0.6292 - acc: 0.7861 - val_loss: 0.7791 - val_acc: 0.7549\n",
      "Epoch 103/300\n",
      "5/5 [==============================] - 0s 39ms/step - loss: 0.6163 - acc: 0.7835 - val_loss: 0.7800 - val_acc: 0.7549\n",
      "Epoch 104/300\n",
      "5/5 [==============================] - 0s 39ms/step - loss: 0.6048 - acc: 0.7843 - val_loss: 0.7820 - val_acc: 0.7598\n",
      "Epoch 105/300\n",
      "5/5 [==============================] - 0s 43ms/step - loss: 0.6007 - acc: 0.8078 - val_loss: 0.7847 - val_acc: 0.7500\n",
      "Epoch 106/300\n",
      "5/5 [==============================] - 0s 43ms/step - loss: 0.5666 - acc: 0.8078 - val_loss: 0.7877 - val_acc: 0.7549\n",
      "Epoch 107/300\n",
      "5/5 [==============================] - 0s 39ms/step - loss: 0.6083 - acc: 0.7904 - val_loss: 0.7909 - val_acc: 0.7500\n",
      "Epoch 108/300\n",
      "5/5 [==============================] - 0s 35ms/step - loss: 0.6091 - acc: 0.7904 - val_loss: 0.7930 - val_acc: 0.7451\n",
      "Epoch 109/300\n",
      "5/5 [==============================] - 0s 39ms/step - loss: 0.5327 - acc: 0.8165 - val_loss: 0.7957 - val_acc: 0.7451\n",
      "Epoch 110/300\n",
      "5/5 [==============================] - 0s 39ms/step - loss: 0.5385 - acc: 0.7922 - val_loss: 0.7964 - val_acc: 0.7451\n",
      "Epoch 111/300\n",
      "5/5 [==============================] - 0s 39ms/step - loss: 0.5580 - acc: 0.8165 - val_loss: 0.7941 - val_acc: 0.7500\n",
      "Epoch 112/300\n",
      "5/5 [==============================] - 0s 35ms/step - loss: 0.5578 - acc: 0.8104 - val_loss: 0.7920 - val_acc: 0.7500\n",
      "Epoch 113/300\n",
      "5/5 [==============================] - 0s 39ms/step - loss: 0.5613 - acc: 0.8052 - val_loss: 0.7939 - val_acc: 0.7402\n",
      "Epoch 114/300\n",
      "5/5 [==============================] - 0s 35ms/step - loss: 0.4995 - acc: 0.8287 - val_loss: 0.7939 - val_acc: 0.7402\n",
      "Epoch 115/300\n",
      "5/5 [==============================] - 0s 39ms/step - loss: 0.5535 - acc: 0.8130 - val_loss: 0.7942 - val_acc: 0.7402\n",
      "Epoch 116/300\n",
      "5/5 [==============================] - 0s 47ms/step - loss: 0.5548 - acc: 0.8043 - val_loss: 0.7937 - val_acc: 0.7451\n",
      "Epoch 117/300\n",
      "5/5 [==============================] - 0s 51ms/step - loss: 0.5277 - acc: 0.8183 - val_loss: 0.7940 - val_acc: 0.7451\n",
      "Epoch 118/300\n",
      "5/5 [==============================] - 0s 51ms/step - loss: 0.5520 - acc: 0.8157 - val_loss: 0.7951 - val_acc: 0.7451\n",
      "Epoch 119/300\n",
      "5/5 [==============================] - 0s 39ms/step - loss: 0.5243 - acc: 0.8191 - val_loss: 0.7955 - val_acc: 0.7353\n",
      "Epoch 120/300\n",
      "5/5 [==============================] - 0s 35ms/step - loss: 0.5147 - acc: 0.8243 - val_loss: 0.7973 - val_acc: 0.7402\n",
      "Epoch 121/300\n",
      "5/5 [==============================] - 0s 35ms/step - loss: 0.5361 - acc: 0.8130 - val_loss: 0.8010 - val_acc: 0.7549\n",
      "Epoch 122/300\n",
      "5/5 [==============================] - 0s 39ms/step - loss: 0.5226 - acc: 0.8209 - val_loss: 0.8069 - val_acc: 0.7451\n",
      "Epoch 123/300\n",
      "5/5 [==============================] - 0s 39ms/step - loss: 0.5328 - acc: 0.8061 - val_loss: 0.8083 - val_acc: 0.7451\n",
      "Epoch 124/300\n",
      "5/5 [==============================] - 0s 35ms/step - loss: 0.4778 - acc: 0.8391 - val_loss: 0.8101 - val_acc: 0.7402\n",
      "Epoch 125/300\n",
      "5/5 [==============================] - 0s 39ms/step - loss: 0.5525 - acc: 0.8130 - val_loss: 0.8099 - val_acc: 0.7500\n",
      "Epoch 126/300\n",
      "5/5 [==============================] - 0s 39ms/step - loss: 0.4543 - acc: 0.8478 - val_loss: 0.8123 - val_acc: 0.7500\n",
      "Epoch 127/300\n",
      "5/5 [==============================] - 0s 39ms/step - loss: 0.5105 - acc: 0.8261 - val_loss: 0.8168 - val_acc: 0.7500\n",
      "Epoch 128/300\n",
      "5/5 [==============================] - 0s 39ms/step - loss: 0.5011 - acc: 0.8209 - val_loss: 0.8220 - val_acc: 0.7500\n",
      "Epoch 129/300\n",
      "5/5 [==============================] - 0s 39ms/step - loss: 0.4909 - acc: 0.8243 - val_loss: 0.8252 - val_acc: 0.7451\n",
      "Epoch 130/300\n",
      "5/5 [==============================] - 0s 39ms/step - loss: 0.5263 - acc: 0.8157 - val_loss: 0.8276 - val_acc: 0.7500\n",
      "Epoch 131/300\n",
      "5/5 [==============================] - 0s 35ms/step - loss: 0.4688 - acc: 0.8313 - val_loss: 0.8305 - val_acc: 0.7402\n",
      "Epoch 132/300\n",
      "5/5 [==============================] - 0s 39ms/step - loss: 0.4740 - acc: 0.8391 - val_loss: 0.8258 - val_acc: 0.7402\n",
      "Epoch 133/300\n",
      "5/5 [==============================] - 0s 39ms/step - loss: 0.4444 - acc: 0.8504 - val_loss: 0.8224 - val_acc: 0.7451\n",
      "Epoch 134/300\n",
      "5/5 [==============================] - 0s 39ms/step - loss: 0.4617 - acc: 0.8426 - val_loss: 0.8179 - val_acc: 0.7402\n",
      "Epoch 135/300\n",
      "5/5 [==============================] - 0s 35ms/step - loss: 0.4856 - acc: 0.8313 - val_loss: 0.8166 - val_acc: 0.7549\n",
      "Epoch 136/300\n",
      "5/5 [==============================] - 0s 39ms/step - loss: 0.4465 - acc: 0.8443 - val_loss: 0.8154 - val_acc: 0.7696\n",
      "Epoch 137/300\n",
      "5/5 [==============================] - 0s 39ms/step - loss: 0.4643 - acc: 0.8452 - val_loss: 0.8159 - val_acc: 0.7696\n",
      "Epoch 138/300\n",
      "5/5 [==============================] - 0s 39ms/step - loss: 0.4467 - acc: 0.8435 - val_loss: 0.8171 - val_acc: 0.7598\n",
      "Epoch 139/300\n",
      "5/5 [==============================] - 0s 43ms/step - loss: 0.4817 - acc: 0.8435 - val_loss: 0.8189 - val_acc: 0.7647\n"
     ]
    }
   ],
   "source": [
    "history = run_experiment(baseline_model, x_train, y_train)"
   ],
   "metadata": {
    "collapsed": false,
    "pycharm": {
     "name": "#%%\n"
    }
   }
  },
  {
   "cell_type": "code",
   "execution_count": 85,
   "outputs": [
    {
     "data": {
      "text/plain": "<Figure size 1080x360 with 2 Axes>",
      "image/png": "[encoded data removed]"
     },
     "metadata": {
      "needs_background": "light"
     },
     "output_type": "display_data"
    }
   ],
   "source": [
    "display_learning_curves(history)"
   ],
   "metadata": {
    "collapsed": false,
    "pycharm": {
     "name": "#%%\n"
    }
   }
  },
  {
   "cell_type": "code",
   "execution_count": 86,
   "outputs": [
    {
     "name": "stdout",
     "output_type": "stream",
     "text": [
      "Test accuracy: 73.26%\n"
     ]
    }
   ],
   "source": [
    "_, test_accuracy = baseline_model.evaluate(x=x_test, y=y_test, verbose=0)\n",
    "print(f\"Test accuracy: {round(test_accuracy * 100, 2)}%\")"
   ],
   "metadata": {
    "collapsed": false,
    "pycharm": {
     "name": "#%%\n"
    }
   }
  },
  {
   "cell_type": "code",
   "execution_count": 87,
   "outputs": [],
   "source": [
    "def generate_random_instances(num_instances):\n",
    "    token_probability = x_train.mean(axis=0)\n",
    "    instances = []\n",
    "    for _ in range(num_instances):\n",
    "        probabilities = np.random.uniform(size=len(token_probability))\n",
    "        instance = (probabilities <= token_probability).astype(int)\n",
    "        instances.append(instance)\n",
    "\n",
    "    return np.array(instances)\n",
    "\n",
    "\n",
    "def display_class_probabilities(probabilities):\n",
    "    for instance_idx, probs in enumerate(probabilities):\n",
    "        print(f\"Instance {instance_idx + 1}:\")\n",
    "        for class_idx, prob in enumerate(probs):\n",
    "            print(f\"- {class_values[class_idx]}: {round(prob * 100, 2)}%\")"
   ],
   "metadata": {
    "collapsed": false,
    "pycharm": {
     "name": "#%%\n"
    }
   }
  },
  {
   "cell_type": "code",
   "execution_count": 88,
   "outputs": [
    {
     "name": "stdout",
     "output_type": "stream",
     "text": [
      "WARNING:tensorflow:6 out of the last 6 calls to <function Model.make_predict_function.<locals>.predict_function at 0x000001C1328D0940> triggered tf.function retracing. Tracing is expensive and the excessive number of tracings could be due to (1) creating @tf.function repeatedly in a loop, (2) passing tensors with different shapes, (3) passing Python objects instead of tensors. For (1), please define your @tf.function outside of the loop. For (2), @tf.function has reduce_retracing=True option that can avoid unnecessary retracing. For (3), please refer to https://www.tensorflow.org/guide/function#controlling_retracing and https://www.tensorflow.org/api_docs/python/tf/function for  more details.\n",
      "1/1 [==============================] - 2s 2s/step\n",
      "Instance 1:\n",
      "- Case_Based: 4.73%\n",
      "- Genetic_Algorithms: 1.85%\n",
      "- Neural_Networks: 23.08%\n",
      "- Probabilistic_Methods: 51.64%\n",
      "- Reinforcement_Learning: 2.85%\n",
      "- Rule_Learning: 5.23%\n",
      "- Theory: 10.62%\n",
      "Instance 2:\n",
      "- Case_Based: 11.01%\n",
      "- Genetic_Algorithms: 23.99%\n",
      "- Neural_Networks: 8.55%\n",
      "- Probabilistic_Methods: 26.24%\n",
      "- Reinforcement_Learning: 4.34%\n",
      "- Rule_Learning: 21.95%\n",
      "- Theory: 3.92%\n",
      "Instance 3:\n",
      "- Case_Based: 0.9%\n",
      "- Genetic_Algorithms: 0.23%\n",
      "- Neural_Networks: 93.58%\n",
      "- Probabilistic_Methods: 1.29%\n",
      "- Reinforcement_Learning: 0.43%\n",
      "- Rule_Learning: 0.19%\n",
      "- Theory: 3.38%\n",
      "Instance 4:\n",
      "- Case_Based: 10.27%\n",
      "- Genetic_Algorithms: 18.13%\n",
      "- Neural_Networks: 36.23%\n",
      "- Probabilistic_Methods: 23.62%\n",
      "- Reinforcement_Learning: 3.33%\n",
      "- Rule_Learning: 2.27%\n",
      "- Theory: 6.16%\n",
      "Instance 5:\n",
      "- Case_Based: 13.86%\n",
      "- Genetic_Algorithms: 18.11%\n",
      "- Neural_Networks: 22.53%\n",
      "- Probabilistic_Methods: 5.64%\n",
      "- Reinforcement_Learning: 20.12%\n",
      "- Rule_Learning: 6.49%\n",
      "- Theory: 13.26%\n",
      "Instance 6:\n",
      "- Case_Based: 13.63%\n",
      "- Genetic_Algorithms: 21.71%\n",
      "- Neural_Networks: 10.52%\n",
      "- Probabilistic_Methods: 7.97%\n",
      "- Reinforcement_Learning: 16.19%\n",
      "- Rule_Learning: 9.25%\n",
      "- Theory: 20.72%\n",
      "Instance 7:\n",
      "- Case_Based: 3.08%\n",
      "- Genetic_Algorithms: 8.99%\n",
      "- Neural_Networks: 67.36%\n",
      "- Probabilistic_Methods: 11.12%\n",
      "- Reinforcement_Learning: 3.25%\n",
      "- Rule_Learning: 0.86%\n",
      "- Theory: 5.33%\n"
     ]
    }
   ],
   "source": [
    "new_instances = generate_random_instances(num_classes)\n",
    "logits = baseline_model.predict(new_instances)\n",
    "probabilities = keras.activations.softmax(tf.convert_to_tensor(logits)).numpy()\n",
    "display_class_probabilities(probabilities)"
   ],
   "metadata": {
    "collapsed": false,
    "pycharm": {
     "name": "#%%\n"
    }
   }
  },
  {
   "cell_type": "code",
   "execution_count": 89,
   "outputs": [
    {
     "name": "stdout",
     "output_type": "stream",
     "text": [
      "Edges shape: (2, 5429)\n",
      "Nodes shape: (2708, 1433)\n"
     ]
    },
    {
     "name": "stderr",
     "output_type": "stream",
     "text": [
      "C:\\Users\\Vaci\\AppData\\Local\\Temp\\ipykernel_7292\\3360781365.py:7: FutureWarning: Passing a set as an indexer is deprecated and will raise in a future version. Use a list instead.\n",
      "  papers.sort_values(\"paper_id\")[feature_names].to_numpy(), dtype=tf.dtypes.float32\n"
     ]
    }
   ],
   "source": [
    "# Create an edges array (sparse adjacency matrix) of shape [2, num_edges].\n",
    "edges = citations[[\"source\", \"target\"]].to_numpy().T\n",
    "# Create an edge weights array of ones.\n",
    "edge_weights = tf.ones(shape=edges.shape[1])\n",
    "# Create a node features array of shape [num_nodes, num_features].\n",
    "node_features = tf.cast(\n",
    "    papers.sort_values(\"paper_id\")[feature_names].to_numpy(), dtype=tf.dtypes.float32\n",
    ")\n",
    "# Create graph info tuple with node_features, edges, and edge_weights.\n",
    "graph_info = (node_features, edges, edge_weights)\n",
    "\n",
    "print(\"Edges shape:\", edges.shape)\n",
    "print(\"Nodes shape:\", node_features.shape)"
   ],
   "metadata": {
    "collapsed": false,
    "pycharm": {
     "name": "#%%\n"
    }
   }
  },
  {
   "cell_type": "code",
   "execution_count": 90,
   "outputs": [],
   "source": [
    "class GraphConvLayer(layers.Layer):\n",
    "    def __init__(\n",
    "        self,\n",
    "        hidden_units,\n",
    "        dropout_rate=0.2,\n",
    "        aggregation_type=\"mean\",\n",
    "        combination_type=\"concat\",\n",
    "        normalize=False,\n",
    "        *args,\n",
    "        **kwargs,\n",
    "    ):\n",
    "        super(GraphConvLayer, self).__init__(*args, **kwargs)\n",
    "\n",
    "        self.aggregation_type = aggregation_type\n",
    "        self.combination_type = combination_type\n",
    "        self.normalize = normalize\n",
    "\n",
    "        self.ffn_prepare = create_ffn(hidden_units, dropout_rate)\n",
    "        if self.combination_type == \"gated\":\n",
    "            self.update_fn = layers.GRU(\n",
    "                units=hidden_units,\n",
    "                activation=\"tanh\",\n",
    "                recurrent_activation=\"sigmoid\",\n",
    "                dropout=dropout_rate,\n",
    "                return_state=True,\n",
    "                recurrent_dropout=dropout_rate,\n",
    "            )\n",
    "        else:\n",
    "            self.update_fn = create_ffn(hidden_units, dropout_rate)\n",
    "\n",
    "    def prepare(self, node_repesentations, weights=None):\n",
    "        # node_repesentations shape is [num_edges, embedding_dim].\n",
    "        messages = self.ffn_prepare(node_repesentations)\n",
    "        if weights is not None:\n",
    "            messages = messages * tf.expand_dims(weights, -1)\n",
    "        return messages\n",
    "\n",
    "    def aggregate(self, node_indices, neighbour_messages, node_repesentations):\n",
    "        # node_indices shape is [num_edges].\n",
    "        # neighbour_messages shape: [num_edges, representation_dim].\n",
    "        # node_repesentations shape is [num_nodes, representation_dim]\n",
    "        num_nodes = node_repesentations.shape[0]\n",
    "        if self.aggregation_type == \"sum\":\n",
    "            aggregated_message = tf.math.unsorted_segment_sum(\n",
    "                neighbour_messages, node_indices, num_segments=num_nodes\n",
    "            )\n",
    "        elif self.aggregation_type == \"mean\":\n",
    "            aggregated_message = tf.math.unsorted_segment_mean(\n",
    "                neighbour_messages, node_indices, num_segments=num_nodes\n",
    "            )\n",
    "        elif self.aggregation_type == \"max\":\n",
    "            aggregated_message = tf.math.unsorted_segment_max(\n",
    "                neighbour_messages, node_indices, num_segments=num_nodes\n",
    "            )\n",
    "        else:\n",
    "            raise ValueError(f\"Invalid aggregation type: {self.aggregation_type}.\")\n",
    "\n",
    "        return aggregated_message\n",
    "\n",
    "    def update(self, node_repesentations, aggregated_messages):\n",
    "        # node_repesentations shape is [num_nodes, representation_dim].\n",
    "        # aggregated_messages shape is [num_nodes, representation_dim].\n",
    "        if self.combination_type == \"gru\":\n",
    "            # Create a sequence of two elements for the GRU layer.\n",
    "            h = tf.stack([node_repesentations, aggregated_messages], axis=1)\n",
    "        elif self.combination_type == \"concat\":\n",
    "            # Concatenate the node_repesentations and aggregated_messages.\n",
    "            h = tf.concat([node_repesentations, aggregated_messages], axis=1)\n",
    "        elif self.combination_type == \"add\":\n",
    "            # Add node_repesentations and aggregated_messages.\n",
    "            h = node_repesentations + aggregated_messages\n",
    "        else:\n",
    "            raise ValueError(f\"Invalid combination type: {self.combination_type}.\")\n",
    "\n",
    "        # Apply the processing function.\n",
    "        node_embeddings = self.update_fn(h)\n",
    "        if self.combination_type == \"gru\":\n",
    "            node_embeddings = tf.unstack(node_embeddings, axis=1)[-1]\n",
    "\n",
    "        if self.normalize:\n",
    "            node_embeddings = tf.nn.l2_normalize(node_embeddings, axis=-1)\n",
    "        return node_embeddings\n",
    "\n",
    "    def call(self, inputs):\n",
    "        \"\"\"Process the inputs to produce the node_embeddings.\n",
    "\n",
    "        inputs: a tuple of three elements: node_repesentations, edges, edge_weights.\n",
    "        Returns: node_embeddings of shape [num_nodes, representation_dim].\n",
    "        \"\"\"\n",
    "\n",
    "        node_repesentations, edges, edge_weights = inputs\n",
    "        # Get node_indices (source) and neighbour_indices (target) from edges.\n",
    "        node_indices, neighbour_indices = edges[0], edges[1]\n",
    "        # neighbour_repesentations shape is [num_edges, representation_dim].\n",
    "        neighbour_repesentations = tf.gather(node_repesentations, neighbour_indices)\n",
    "\n",
    "        # Prepare the messages of the neighbours.\n",
    "        neighbour_messages = self.prepare(neighbour_repesentations, edge_weights)\n",
    "        # Aggregate the neighbour messages.\n",
    "        aggregated_messages = self.aggregate(\n",
    "            node_indices, neighbour_messages, node_repesentations\n",
    "        )\n",
    "        # Update the node embedding with the neighbour messages.\n",
    "        return self.update(node_repesentations, aggregated_messages)"
   ],
   "metadata": {
    "collapsed": false,
    "pycharm": {
     "name": "#%%\n"
    }
   }
  },
  {
   "cell_type": "code",
   "execution_count": 91,
   "outputs": [],
   "source": [
    "class GNNNodeClassifier(tf.keras.Model):\n",
    "    def __init__(\n",
    "        self,\n",
    "        graph_info,\n",
    "        num_classes,\n",
    "        hidden_units,\n",
    "        aggregation_type=\"sum\",\n",
    "        combination_type=\"concat\",\n",
    "        dropout_rate=0.2,\n",
    "        normalize=True,\n",
    "        *args,\n",
    "        **kwargs,\n",
    "    ):\n",
    "        super(GNNNodeClassifier, self).__init__(*args, **kwargs)\n",
    "\n",
    "        # Unpack graph_info to three elements: node_features, edges, and edge_weight.\n",
    "        node_features, edges, edge_weights = graph_info\n",
    "        self.node_features = node_features\n",
    "        self.edges = edges\n",
    "        self.edge_weights = edge_weights\n",
    "        # Set edge_weights to ones if not provided.\n",
    "        if self.edge_weights is None:\n",
    "            self.edge_weights = tf.ones(shape=edges.shape[1])\n",
    "        # Scale edge_weights to sum to 1.\n",
    "        self.edge_weights = self.edge_weights / tf.math.reduce_sum(self.edge_weights)\n",
    "\n",
    "        # Create a process layer.\n",
    "        self.preprocess = create_ffn(hidden_units, dropout_rate, name=\"preprocess\")\n",
    "        # Create the first GraphConv layer.\n",
    "        self.conv1 = GraphConvLayer(\n",
    "            hidden_units,\n",
    "            dropout_rate,\n",
    "            aggregation_type,\n",
    "            combination_type,\n",
    "            normalize,\n",
    "            name=\"graph_conv1\",\n",
    "        )\n",
    "        # Create the second GraphConv layer.\n",
    "        self.conv2 = GraphConvLayer(\n",
    "            hidden_units,\n",
    "            dropout_rate,\n",
    "            aggregation_type,\n",
    "            combination_type,\n",
    "            normalize,\n",
    "            name=\"graph_conv2\",\n",
    "        )\n",
    "        # Create a postprocess layer.\n",
    "        self.postprocess = create_ffn(hidden_units, dropout_rate, name=\"postprocess\")\n",
    "        # Create a compute logits layer.\n",
    "        self.compute_logits = layers.Dense(units=num_classes, name=\"logits\")\n",
    "\n",
    "    def call(self, input_node_indices):\n",
    "        # Preprocess the node_features to produce node representations.\n",
    "        x = self.preprocess(self.node_features)\n",
    "        # Apply the first graph conv layer.\n",
    "        x1 = self.conv1((x, self.edges, self.edge_weights))\n",
    "        # Skip connection.\n",
    "        x = x1 + x\n",
    "        # Apply the second graph conv layer.\n",
    "        x2 = self.conv2((x, self.edges, self.edge_weights))\n",
    "        # Skip connection.\n",
    "        x = x2 + x\n",
    "        # Postprocess node embedding.\n",
    "        x = self.postprocess(x)\n",
    "        # Fetch node embeddings for the input node_indices.\n",
    "        node_embeddings = tf.gather(x, input_node_indices)\n",
    "        # Compute logits\n",
    "        return self.compute_logits(node_embeddings)"
   ],
   "metadata": {
    "collapsed": false,
    "pycharm": {
     "name": "#%%\n"
    }
   }
  },
  {
   "cell_type": "code",
   "execution_count": 92,
   "outputs": [
    {
     "name": "stdout",
     "output_type": "stream",
     "text": [
      "GNN output shape: tf.Tensor(\n",
      "[[ 0.00995926  0.00663196 -0.02127162  0.04104531  0.03439361  0.08638912\n",
      "   0.0834141 ]\n",
      " [ 0.07649067  0.03540421  0.03957725  0.08968902  0.03368552 -0.00687834\n",
      "   0.06572802]\n",
      " [ 0.16083083 -0.03013416 -0.02357249  0.00353459 -0.02910224 -0.05944294\n",
      "  -0.00258035]], shape=(3, 7), dtype=float32)\n",
      "Model: \"gnn_model\"\n",
      "_________________________________________________________________\n",
      " Layer (type)                Output Shape              Param #   \n",
      "=================================================================\n",
      " preprocess (Sequential)     (2708, 64)                101924    \n",
      "                                                                 \n",
      " graph_conv1 (GraphConvLayer  multiple                 22016     \n",
      " )                                                               \n",
      "                                                                 \n",
      " graph_conv2 (GraphConvLayer  multiple                 22016     \n",
      " )                                                               \n",
      "                                                                 \n",
      " postprocess (Sequential)    (2708, 64)                8832      \n",
      "                                                                 \n",
      " logits (Dense)              multiple                  455       \n",
      "                                                                 \n",
      "=================================================================\n",
      "Total params: 155,243\n",
      "Trainable params: 150,713\n",
      "Non-trainable params: 4,530\n",
      "_________________________________________________________________\n"
     ]
    }
   ],
   "source": [
    "gnn_model = GNNNodeClassifier(\n",
    "    graph_info=graph_info,\n",
    "    num_classes=num_classes,\n",
    "    hidden_units=hidden_units,\n",
    "    dropout_rate=dropout_rate,\n",
    "    name=\"gnn_model\",\n",
    ")\n",
    "\n",
    "print(\"GNN output shape:\", gnn_model([1, 10, 100]))\n",
    "\n",
    "gnn_model.summary()"
   ],
   "metadata": {
    "collapsed": false,
    "pycharm": {
     "name": "#%%\n"
    }
   }
  },
  {
   "cell_type": "code",
   "execution_count": 93,
   "outputs": [
    {
     "name": "stdout",
     "output_type": "stream",
     "text": [
      "Epoch 1/300\n",
      "5/5 [==============================] - 11s 578ms/step - loss: 2.4242 - acc: 0.1722 - val_loss: 1.9466 - val_acc: 0.1275\n",
      "Epoch 2/300\n",
      "5/5 [==============================] - 2s 320ms/step - loss: 2.2446 - acc: 0.1652 - val_loss: 1.9305 - val_acc: 0.2108\n",
      "Epoch 3/300\n",
      "5/5 [==============================] - 2s 301ms/step - loss: 2.2047 - acc: 0.1783 - val_loss: 1.9135 - val_acc: 0.3971\n",
      "Epoch 4/300\n",
      "5/5 [==============================] - 2s 309ms/step - loss: 2.1408 - acc: 0.1826 - val_loss: 1.8995 - val_acc: 0.4020\n",
      "Epoch 5/300\n",
      "5/5 [==============================] - 1s 301ms/step - loss: 2.1068 - acc: 0.2148 - val_loss: 1.8880 - val_acc: 0.4020\n",
      "Epoch 6/300\n",
      "5/5 [==============================] - 2s 312ms/step - loss: 2.0699 - acc: 0.2148 - val_loss: 1.8772 - val_acc: 0.4020\n",
      "Epoch 7/300\n",
      "5/5 [==============================] - 1s 297ms/step - loss: 2.0402 - acc: 0.2330 - val_loss: 1.8666 - val_acc: 0.4020\n",
      "Epoch 8/300\n",
      "5/5 [==============================] - 2s 301ms/step - loss: 2.0587 - acc: 0.2113 - val_loss: 1.8593 - val_acc: 0.4020\n",
      "Epoch 9/300\n",
      "5/5 [==============================] - 2s 344ms/step - loss: 2.0108 - acc: 0.2365 - val_loss: 1.8542 - val_acc: 0.4020\n",
      "Epoch 10/300\n",
      "5/5 [==============================] - 2s 332ms/step - loss: 2.0477 - acc: 0.2226 - val_loss: 1.8505 - val_acc: 0.4020\n",
      "Epoch 11/300\n",
      "5/5 [==============================] - 1s 305ms/step - loss: 1.9804 - acc: 0.2330 - val_loss: 1.8479 - val_acc: 0.4020\n",
      "Epoch 12/300\n",
      "5/5 [==============================] - 1s 305ms/step - loss: 1.9720 - acc: 0.2365 - val_loss: 1.8449 - val_acc: 0.4020\n",
      "Epoch 13/300\n",
      "5/5 [==============================] - 2s 301ms/step - loss: 1.9180 - acc: 0.2365 - val_loss: 1.8422 - val_acc: 0.4020\n",
      "Epoch 14/300\n",
      "5/5 [==============================] - 1s 305ms/step - loss: 1.9517 - acc: 0.2374 - val_loss: 1.8389 - val_acc: 0.4020\n",
      "Epoch 15/300\n",
      "5/5 [==============================] - 2s 305ms/step - loss: 1.9440 - acc: 0.2330 - val_loss: 1.8343 - val_acc: 0.4020\n",
      "Epoch 16/300\n",
      "5/5 [==============================] - 2s 328ms/step - loss: 1.9218 - acc: 0.2487 - val_loss: 1.8293 - val_acc: 0.4020\n",
      "Epoch 17/300\n",
      "5/5 [==============================] - 2s 316ms/step - loss: 1.9196 - acc: 0.2365 - val_loss: 1.8229 - val_acc: 0.4020\n",
      "Epoch 18/300\n",
      "5/5 [==============================] - 2s 301ms/step - loss: 1.9251 - acc: 0.2557 - val_loss: 1.8184 - val_acc: 0.4020\n",
      "Epoch 19/300\n",
      "5/5 [==============================] - 1s 297ms/step - loss: 1.9073 - acc: 0.2417 - val_loss: 1.8147 - val_acc: 0.4020\n",
      "Epoch 20/300\n",
      "5/5 [==============================] - 1s 297ms/step - loss: 1.9049 - acc: 0.2435 - val_loss: 1.8110 - val_acc: 0.4020\n",
      "Epoch 21/300\n",
      "5/5 [==============================] - 2s 312ms/step - loss: 1.9010 - acc: 0.2513 - val_loss: 1.8092 - val_acc: 0.4020\n",
      "Epoch 22/300\n",
      "5/5 [==============================] - 2s 375ms/step - loss: 1.8901 - acc: 0.2504 - val_loss: 1.8103 - val_acc: 0.4020\n",
      "Epoch 23/300\n",
      "5/5 [==============================] - 2s 324ms/step - loss: 1.8816 - acc: 0.2661 - val_loss: 1.8071 - val_acc: 0.4020\n",
      "Epoch 24/300\n",
      "5/5 [==============================] - 2s 316ms/step - loss: 1.8678 - acc: 0.2800 - val_loss: 1.8037 - val_acc: 0.4020\n",
      "Epoch 25/300\n",
      "5/5 [==============================] - 1s 301ms/step - loss: 1.8638 - acc: 0.2678 - val_loss: 1.7980 - val_acc: 0.4020\n",
      "Epoch 26/300\n",
      "5/5 [==============================] - 1s 301ms/step - loss: 1.9125 - acc: 0.2583 - val_loss: 1.7913 - val_acc: 0.4020\n",
      "Epoch 27/300\n",
      "5/5 [==============================] - 1s 297ms/step - loss: 1.8562 - acc: 0.2817 - val_loss: 1.7867 - val_acc: 0.4020\n",
      "Epoch 28/300\n",
      "5/5 [==============================] - 1s 301ms/step - loss: 1.8488 - acc: 0.2748 - val_loss: 1.7850 - val_acc: 0.4020\n",
      "Epoch 29/300\n",
      "5/5 [==============================] - 1s 301ms/step - loss: 1.8585 - acc: 0.2878 - val_loss: 1.7840 - val_acc: 0.4020\n",
      "Epoch 30/300\n",
      "5/5 [==============================] - 2s 305ms/step - loss: 1.8514 - acc: 0.2904 - val_loss: 1.7805 - val_acc: 0.4020\n",
      "Epoch 31/300\n",
      "5/5 [==============================] - 1s 293ms/step - loss: 1.8436 - acc: 0.2748 - val_loss: 1.7757 - val_acc: 0.4020\n",
      "Epoch 32/300\n",
      "5/5 [==============================] - 2s 309ms/step - loss: 1.8314 - acc: 0.2878 - val_loss: 1.7709 - val_acc: 0.4020\n",
      "Epoch 33/300\n",
      "5/5 [==============================] - 2s 301ms/step - loss: 1.8156 - acc: 0.2930 - val_loss: 1.7627 - val_acc: 0.4020\n",
      "Epoch 34/300\n",
      "5/5 [==============================] - 2s 312ms/step - loss: 1.8200 - acc: 0.2991 - val_loss: 1.7563 - val_acc: 0.4020\n",
      "Epoch 35/300\n",
      "5/5 [==============================] - 2s 359ms/step - loss: 1.7715 - acc: 0.3061 - val_loss: 1.7474 - val_acc: 0.4020\n",
      "Epoch 36/300\n",
      "5/5 [==============================] - 2s 336ms/step - loss: 1.7925 - acc: 0.3148 - val_loss: 1.7403 - val_acc: 0.4069\n",
      "Epoch 37/300\n",
      "5/5 [==============================] - 1s 301ms/step - loss: 1.7929 - acc: 0.3043 - val_loss: 1.7363 - val_acc: 0.4069\n",
      "Epoch 38/300\n",
      "5/5 [==============================] - 2s 309ms/step - loss: 1.7622 - acc: 0.3339 - val_loss: 1.7311 - val_acc: 0.4118\n",
      "Epoch 39/300\n",
      "5/5 [==============================] - 1s 305ms/step - loss: 1.7686 - acc: 0.3165 - val_loss: 1.7270 - val_acc: 0.4118\n",
      "Epoch 40/300\n",
      "5/5 [==============================] - 2s 344ms/step - loss: 1.7585 - acc: 0.3435 - val_loss: 1.7208 - val_acc: 0.4216\n",
      "Epoch 41/300\n",
      "5/5 [==============================] - 2s 312ms/step - loss: 1.7331 - acc: 0.3339 - val_loss: 1.7125 - val_acc: 0.4265\n",
      "Epoch 42/300\n",
      "5/5 [==============================] - 1s 301ms/step - loss: 1.7197 - acc: 0.3400 - val_loss: 1.7004 - val_acc: 0.4461\n",
      "Epoch 43/300\n",
      "5/5 [==============================] - 2s 324ms/step - loss: 1.6817 - acc: 0.3600 - val_loss: 1.6895 - val_acc: 0.4412\n",
      "Epoch 44/300\n",
      "5/5 [==============================] - 2s 316ms/step - loss: 1.7015 - acc: 0.3478 - val_loss: 1.6766 - val_acc: 0.4853\n",
      "Epoch 45/300\n",
      "5/5 [==============================] - 2s 355ms/step - loss: 1.6584 - acc: 0.3539 - val_loss: 1.6645 - val_acc: 0.4902\n",
      "Epoch 46/300\n",
      "5/5 [==============================] - 2s 344ms/step - loss: 1.6506 - acc: 0.3748 - val_loss: 1.6502 - val_acc: 0.5098\n",
      "Epoch 47/300\n",
      "5/5 [==============================] - 2s 348ms/step - loss: 1.6410 - acc: 0.3722 - val_loss: 1.6283 - val_acc: 0.5245\n",
      "Epoch 48/300\n",
      "5/5 [==============================] - 2s 351ms/step - loss: 1.5981 - acc: 0.4061 - val_loss: 1.6076 - val_acc: 0.5735\n",
      "Epoch 49/300\n",
      "5/5 [==============================] - 2s 328ms/step - loss: 1.6381 - acc: 0.3800 - val_loss: 1.5812 - val_acc: 0.5686\n",
      "Epoch 50/300\n",
      "5/5 [==============================] - 2s 316ms/step - loss: 1.5672 - acc: 0.4165 - val_loss: 1.5491 - val_acc: 0.5735\n",
      "Epoch 51/300\n",
      "5/5 [==============================] - 2s 309ms/step - loss: 1.5379 - acc: 0.4183 - val_loss: 1.5184 - val_acc: 0.5784\n",
      "Epoch 52/300\n",
      "5/5 [==============================] - 2s 355ms/step - loss: 1.5413 - acc: 0.4157 - val_loss: 1.4923 - val_acc: 0.5931\n",
      "Epoch 53/300\n",
      "5/5 [==============================] - 2s 305ms/step - loss: 1.5000 - acc: 0.4270 - val_loss: 1.4628 - val_acc: 0.5882\n",
      "Epoch 54/300\n",
      "5/5 [==============================] - 2s 312ms/step - loss: 1.5144 - acc: 0.4357 - val_loss: 1.4282 - val_acc: 0.5980\n",
      "Epoch 55/300\n",
      "5/5 [==============================] - 1s 305ms/step - loss: 1.4608 - acc: 0.4496 - val_loss: 1.3959 - val_acc: 0.6078\n",
      "Epoch 56/300\n",
      "5/5 [==============================] - 2s 320ms/step - loss: 1.4398 - acc: 0.4496 - val_loss: 1.3671 - val_acc: 0.6275\n",
      "Epoch 57/300\n",
      "5/5 [==============================] - 2s 316ms/step - loss: 1.4262 - acc: 0.4791 - val_loss: 1.3372 - val_acc: 0.6373\n",
      "Epoch 58/300\n",
      "5/5 [==============================] - 2s 359ms/step - loss: 1.3686 - acc: 0.4904 - val_loss: 1.3028 - val_acc: 0.6471\n",
      "Epoch 59/300\n",
      "5/5 [==============================] - 1s 305ms/step - loss: 1.3390 - acc: 0.5122 - val_loss: 1.2660 - val_acc: 0.6422\n",
      "Epoch 60/300\n",
      "5/5 [==============================] - 2s 312ms/step - loss: 1.3514 - acc: 0.5113 - val_loss: 1.2327 - val_acc: 0.6520\n",
      "Epoch 61/300\n",
      "5/5 [==============================] - 2s 328ms/step - loss: 1.3135 - acc: 0.5374 - val_loss: 1.2010 - val_acc: 0.6618\n",
      "Epoch 62/300\n",
      "5/5 [==============================] - 1s 293ms/step - loss: 1.3140 - acc: 0.5130 - val_loss: 1.1739 - val_acc: 0.6520\n",
      "Epoch 63/300\n",
      "5/5 [==============================] - 1s 301ms/step - loss: 1.2584 - acc: 0.5400 - val_loss: 1.1493 - val_acc: 0.6716\n",
      "Epoch 64/300\n",
      "5/5 [==============================] - 1s 305ms/step - loss: 1.2391 - acc: 0.5609 - val_loss: 1.1234 - val_acc: 0.6814\n",
      "Epoch 65/300\n",
      "5/5 [==============================] - 1s 301ms/step - loss: 1.1974 - acc: 0.5678 - val_loss: 1.0992 - val_acc: 0.6814\n",
      "Epoch 66/300\n",
      "5/5 [==============================] - 1s 297ms/step - loss: 1.1850 - acc: 0.5817 - val_loss: 1.0762 - val_acc: 0.6814\n",
      "Epoch 67/300\n",
      "5/5 [==============================] - 1s 305ms/step - loss: 1.1387 - acc: 0.5939 - val_loss: 1.0569 - val_acc: 0.6765\n",
      "Epoch 68/300\n",
      "5/5 [==============================] - 1s 297ms/step - loss: 1.1678 - acc: 0.6026 - val_loss: 1.0406 - val_acc: 0.6863\n",
      "Epoch 69/300\n",
      "5/5 [==============================] - 1s 297ms/step - loss: 1.0914 - acc: 0.6104 - val_loss: 1.0269 - val_acc: 0.6863\n",
      "Epoch 70/300\n",
      "5/5 [==============================] - 1s 297ms/step - loss: 1.1305 - acc: 0.6061 - val_loss: 1.0132 - val_acc: 0.6716\n",
      "Epoch 71/300\n",
      "5/5 [==============================] - 1s 301ms/step - loss: 1.0839 - acc: 0.6174 - val_loss: 0.9972 - val_acc: 0.6814\n",
      "Epoch 72/300\n",
      "5/5 [==============================] - 1s 297ms/step - loss: 1.0694 - acc: 0.6322 - val_loss: 0.9799 - val_acc: 0.6716\n",
      "Epoch 73/300\n",
      "5/5 [==============================] - 1s 305ms/step - loss: 1.0523 - acc: 0.6330 - val_loss: 0.9604 - val_acc: 0.6814\n",
      "Epoch 74/300\n",
      "5/5 [==============================] - 1s 301ms/step - loss: 1.0425 - acc: 0.6348 - val_loss: 0.9469 - val_acc: 0.6814\n",
      "Epoch 75/300\n",
      "5/5 [==============================] - 1s 301ms/step - loss: 1.0121 - acc: 0.6557 - val_loss: 0.9322 - val_acc: 0.6863\n",
      "Epoch 76/300\n",
      "5/5 [==============================] - 1s 305ms/step - loss: 0.9941 - acc: 0.6609 - val_loss: 0.9208 - val_acc: 0.6863\n",
      "Epoch 77/300\n",
      "5/5 [==============================] - 1s 305ms/step - loss: 0.9946 - acc: 0.6530 - val_loss: 0.9081 - val_acc: 0.6961\n",
      "Epoch 78/300\n",
      "5/5 [==============================] - 2s 332ms/step - loss: 0.8833 - acc: 0.6974 - val_loss: 0.8997 - val_acc: 0.6961\n",
      "Epoch 79/300\n",
      "5/5 [==============================] - 2s 353ms/step - loss: 0.9798 - acc: 0.6678 - val_loss: 0.8931 - val_acc: 0.7108\n",
      "Epoch 80/300\n",
      "5/5 [==============================] - 1s 301ms/step - loss: 0.9536 - acc: 0.6600 - val_loss: 0.8804 - val_acc: 0.7108\n",
      "Epoch 81/300\n",
      "5/5 [==============================] - 1s 301ms/step - loss: 0.9148 - acc: 0.6922 - val_loss: 0.8682 - val_acc: 0.7108\n",
      "Epoch 82/300\n",
      "5/5 [==============================] - 1s 297ms/step - loss: 0.8783 - acc: 0.7104 - val_loss: 0.8575 - val_acc: 0.7206\n",
      "Epoch 83/300\n",
      "5/5 [==============================] - 1s 297ms/step - loss: 0.8951 - acc: 0.6783 - val_loss: 0.8495 - val_acc: 0.7206\n",
      "Epoch 84/300\n",
      "5/5 [==============================] - 1s 297ms/step - loss: 0.8386 - acc: 0.7209 - val_loss: 0.8447 - val_acc: 0.7255\n",
      "Epoch 85/300\n",
      "5/5 [==============================] - 1s 301ms/step - loss: 0.7951 - acc: 0.7400 - val_loss: 0.8399 - val_acc: 0.7353\n",
      "Epoch 86/300\n",
      "5/5 [==============================] - 1s 301ms/step - loss: 0.8232 - acc: 0.7313 - val_loss: 0.8336 - val_acc: 0.7353\n",
      "Epoch 87/300\n",
      "5/5 [==============================] - 1s 297ms/step - loss: 0.8343 - acc: 0.7148 - val_loss: 0.8251 - val_acc: 0.7255\n",
      "Epoch 88/300\n",
      "5/5 [==============================] - 2s 344ms/step - loss: 0.7880 - acc: 0.7261 - val_loss: 0.8190 - val_acc: 0.7353\n",
      "Epoch 89/300\n",
      "5/5 [==============================] - 2s 309ms/step - loss: 0.8027 - acc: 0.7243 - val_loss: 0.8136 - val_acc: 0.7402\n",
      "Epoch 90/300\n",
      "5/5 [==============================] - 2s 344ms/step - loss: 0.8173 - acc: 0.7183 - val_loss: 0.8056 - val_acc: 0.7451\n",
      "Epoch 91/300\n",
      "5/5 [==============================] - 1s 301ms/step - loss: 0.7526 - acc: 0.7574 - val_loss: 0.8022 - val_acc: 0.7451\n",
      "Epoch 92/300\n",
      "5/5 [==============================] - 2s 309ms/step - loss: 0.7349 - acc: 0.7452 - val_loss: 0.7993 - val_acc: 0.7500\n",
      "Epoch 93/300\n",
      "5/5 [==============================] - 1s 305ms/step - loss: 0.7898 - acc: 0.7426 - val_loss: 0.7966 - val_acc: 0.7549\n",
      "Epoch 94/300\n",
      "5/5 [==============================] - 2s 309ms/step - loss: 0.7439 - acc: 0.7643 - val_loss: 0.7957 - val_acc: 0.7549\n",
      "Epoch 95/300\n",
      "5/5 [==============================] - 2s 309ms/step - loss: 0.7452 - acc: 0.7539 - val_loss: 0.7891 - val_acc: 0.7500\n",
      "Epoch 96/300\n",
      "5/5 [==============================] - 2s 363ms/step - loss: 0.7579 - acc: 0.7565 - val_loss: 0.7853 - val_acc: 0.7500\n",
      "Epoch 97/300\n",
      "5/5 [==============================] - 1s 297ms/step - loss: 0.7224 - acc: 0.7548 - val_loss: 0.7836 - val_acc: 0.7402\n",
      "Epoch 98/300\n",
      "5/5 [==============================] - 2s 320ms/step - loss: 0.7437 - acc: 0.7504 - val_loss: 0.7833 - val_acc: 0.7451\n",
      "Epoch 99/300\n",
      "5/5 [==============================] - 1s 305ms/step - loss: 0.7054 - acc: 0.7643 - val_loss: 0.7831 - val_acc: 0.7598\n",
      "Epoch 100/300\n",
      "5/5 [==============================] - 2s 316ms/step - loss: 0.7202 - acc: 0.7626 - val_loss: 0.7828 - val_acc: 0.7696\n",
      "Epoch 101/300\n",
      "5/5 [==============================] - 2s 348ms/step - loss: 0.6683 - acc: 0.7739 - val_loss: 0.7792 - val_acc: 0.7696\n",
      "Epoch 102/300\n",
      "5/5 [==============================] - 2s 351ms/step - loss: 0.6882 - acc: 0.7835 - val_loss: 0.7744 - val_acc: 0.7696\n",
      "Epoch 103/300\n",
      "5/5 [==============================] - 1s 301ms/step - loss: 0.7028 - acc: 0.7643 - val_loss: 0.7707 - val_acc: 0.7598\n",
      "Epoch 104/300\n",
      "5/5 [==============================] - 1s 301ms/step - loss: 0.6542 - acc: 0.8035 - val_loss: 0.7704 - val_acc: 0.7598\n",
      "Epoch 105/300\n",
      "5/5 [==============================] - 1s 301ms/step - loss: 0.6432 - acc: 0.7948 - val_loss: 0.7698 - val_acc: 0.7647\n",
      "Epoch 106/300\n",
      "5/5 [==============================] - 1s 301ms/step - loss: 0.6447 - acc: 0.7922 - val_loss: 0.7723 - val_acc: 0.7647\n",
      "Epoch 107/300\n",
      "5/5 [==============================] - 1s 297ms/step - loss: 0.6145 - acc: 0.8009 - val_loss: 0.7762 - val_acc: 0.7647\n",
      "Epoch 108/300\n",
      "5/5 [==============================] - 2s 316ms/step - loss: 0.6164 - acc: 0.7948 - val_loss: 0.7814 - val_acc: 0.7549\n",
      "Epoch 109/300\n",
      "5/5 [==============================] - 2s 309ms/step - loss: 0.6365 - acc: 0.8061 - val_loss: 0.7869 - val_acc: 0.7402\n",
      "Epoch 110/300\n",
      "5/5 [==============================] - 2s 309ms/step - loss: 0.6367 - acc: 0.7974 - val_loss: 0.7937 - val_acc: 0.7304\n",
      "Epoch 111/300\n",
      "5/5 [==============================] - 1s 297ms/step - loss: 0.6196 - acc: 0.8043 - val_loss: 0.7984 - val_acc: 0.7402\n",
      "Epoch 112/300\n",
      "5/5 [==============================] - 1s 297ms/step - loss: 0.6253 - acc: 0.7913 - val_loss: 0.8018 - val_acc: 0.7402\n",
      "Epoch 113/300\n",
      "5/5 [==============================] - 2s 313ms/step - loss: 0.5998 - acc: 0.7991 - val_loss: 0.8022 - val_acc: 0.7500\n",
      "Epoch 114/300\n",
      "5/5 [==============================] - 2s 351ms/step - loss: 0.6271 - acc: 0.7948 - val_loss: 0.7965 - val_acc: 0.7549\n",
      "Epoch 115/300\n",
      "5/5 [==============================] - 1s 297ms/step - loss: 0.5660 - acc: 0.8200 - val_loss: 0.7886 - val_acc: 0.7647\n",
      "Epoch 116/300\n",
      "5/5 [==============================] - 2s 328ms/step - loss: 0.5823 - acc: 0.8104 - val_loss: 0.7821 - val_acc: 0.7549\n",
      "Epoch 117/300\n",
      "5/5 [==============================] - 2s 320ms/step - loss: 0.5829 - acc: 0.8191 - val_loss: 0.7766 - val_acc: 0.7549\n",
      "Epoch 118/300\n",
      "5/5 [==============================] - 1s 305ms/step - loss: 0.5314 - acc: 0.8270 - val_loss: 0.7743 - val_acc: 0.7549\n",
      "Epoch 119/300\n",
      "5/5 [==============================] - 2s 324ms/step - loss: 0.5522 - acc: 0.8165 - val_loss: 0.7746 - val_acc: 0.7549\n",
      "Epoch 120/300\n",
      "5/5 [==============================] - 2s 320ms/step - loss: 0.5550 - acc: 0.8078 - val_loss: 0.7773 - val_acc: 0.7549\n",
      "Epoch 121/300\n",
      "5/5 [==============================] - 1s 305ms/step - loss: 0.4596 - acc: 0.8409 - val_loss: 0.7806 - val_acc: 0.7647\n",
      "Epoch 122/300\n",
      "5/5 [==============================] - 2s 309ms/step - loss: 0.5051 - acc: 0.8383 - val_loss: 0.7810 - val_acc: 0.7696\n",
      "Epoch 123/300\n",
      "5/5 [==============================] - 2s 383ms/step - loss: 0.5007 - acc: 0.8409 - val_loss: 0.7825 - val_acc: 0.7696\n",
      "Epoch 124/300\n",
      "5/5 [==============================] - 2s 375ms/step - loss: 0.5468 - acc: 0.8278 - val_loss: 0.7922 - val_acc: 0.7696\n",
      "Epoch 125/300\n",
      "5/5 [==============================] - 2s 328ms/step - loss: 0.5031 - acc: 0.8478 - val_loss: 0.7998 - val_acc: 0.7598\n",
      "Epoch 126/300\n",
      "5/5 [==============================] - 2s 355ms/step - loss: 0.4822 - acc: 0.8496 - val_loss: 0.7985 - val_acc: 0.7598\n",
      "Epoch 127/300\n",
      "5/5 [==============================] - 2s 363ms/step - loss: 0.4515 - acc: 0.8504 - val_loss: 0.7921 - val_acc: 0.7549\n",
      "Epoch 128/300\n",
      "5/5 [==============================] - 1s 297ms/step - loss: 0.5141 - acc: 0.8357 - val_loss: 0.7916 - val_acc: 0.7647\n",
      "Epoch 129/300\n",
      "5/5 [==============================] - 1s 301ms/step - loss: 0.4862 - acc: 0.8513 - val_loss: 0.7991 - val_acc: 0.7696\n",
      "Epoch 130/300\n",
      "5/5 [==============================] - 1s 297ms/step - loss: 0.4922 - acc: 0.8417 - val_loss: 0.8044 - val_acc: 0.7696\n",
      "Epoch 131/300\n",
      "5/5 [==============================] - 1s 305ms/step - loss: 0.5471 - acc: 0.8148 - val_loss: 0.8026 - val_acc: 0.7794\n",
      "Epoch 132/300\n",
      "5/5 [==============================] - 1s 305ms/step - loss: 0.4802 - acc: 0.8470 - val_loss: 0.7962 - val_acc: 0.7794\n",
      "Epoch 133/300\n",
      "5/5 [==============================] - 1s 301ms/step - loss: 0.4556 - acc: 0.8583 - val_loss: 0.7971 - val_acc: 0.7794\n",
      "Epoch 134/300\n",
      "5/5 [==============================] - 1s 301ms/step - loss: 0.4761 - acc: 0.8470 - val_loss: 0.7942 - val_acc: 0.7843\n",
      "Epoch 135/300\n",
      "5/5 [==============================] - 1s 309ms/step - loss: 0.4685 - acc: 0.8452 - val_loss: 0.7936 - val_acc: 0.7843\n",
      "Epoch 136/300\n",
      "5/5 [==============================] - 1s 297ms/step - loss: 0.4970 - acc: 0.8426 - val_loss: 0.7893 - val_acc: 0.7843\n",
      "Epoch 137/300\n",
      "5/5 [==============================] - 1s 301ms/step - loss: 0.4595 - acc: 0.8539 - val_loss: 0.7863 - val_acc: 0.7794\n",
      "Epoch 138/300\n",
      "5/5 [==============================] - 1s 301ms/step - loss: 0.5007 - acc: 0.8409 - val_loss: 0.7864 - val_acc: 0.7696\n",
      "Epoch 139/300\n",
      "5/5 [==============================] - 1s 301ms/step - loss: 0.4598 - acc: 0.8522 - val_loss: 0.7878 - val_acc: 0.7647\n",
      "Epoch 140/300\n",
      "5/5 [==============================] - 1s 301ms/step - loss: 0.4122 - acc: 0.8791 - val_loss: 0.7933 - val_acc: 0.7598\n",
      "Epoch 141/300\n",
      "5/5 [==============================] - 1s 309ms/step - loss: 0.4476 - acc: 0.8643 - val_loss: 0.7959 - val_acc: 0.7647\n",
      "Epoch 142/300\n",
      "5/5 [==============================] - 1s 305ms/step - loss: 0.4154 - acc: 0.8661 - val_loss: 0.7984 - val_acc: 0.7647\n",
      "Epoch 143/300\n",
      "5/5 [==============================] - 2s 316ms/step - loss: 0.4289 - acc: 0.8548 - val_loss: 0.7968 - val_acc: 0.7598\n",
      "Epoch 144/300\n",
      "5/5 [==============================] - 2s 322ms/step - loss: 0.4359 - acc: 0.8643 - val_loss: 0.7931 - val_acc: 0.7647\n",
      "Epoch 145/300\n",
      "5/5 [==============================] - 2s 316ms/step - loss: 0.4495 - acc: 0.8496 - val_loss: 0.7913 - val_acc: 0.7598\n",
      "Epoch 146/300\n",
      "5/5 [==============================] - 2s 312ms/step - loss: 0.4560 - acc: 0.8522 - val_loss: 0.7905 - val_acc: 0.7549\n",
      "Epoch 147/300\n",
      "5/5 [==============================] - 2s 314ms/step - loss: 0.4452 - acc: 0.8600 - val_loss: 0.7898 - val_acc: 0.7598\n",
      "Epoch 148/300\n",
      "5/5 [==============================] - 2s 316ms/step - loss: 0.4110 - acc: 0.8652 - val_loss: 0.7893 - val_acc: 0.7647\n",
      "Epoch 149/300\n",
      "5/5 [==============================] - 2s 312ms/step - loss: 0.4424 - acc: 0.8504 - val_loss: 0.7893 - val_acc: 0.7647\n",
      "Epoch 150/300\n",
      "5/5 [==============================] - 2s 309ms/step - loss: 0.3784 - acc: 0.8835 - val_loss: 0.7839 - val_acc: 0.7647\n",
      "Epoch 151/300\n",
      "5/5 [==============================] - 1s 301ms/step - loss: 0.4470 - acc: 0.8557 - val_loss: 0.7810 - val_acc: 0.7696\n",
      "Epoch 152/300\n",
      "5/5 [==============================] - 1s 309ms/step - loss: 0.3842 - acc: 0.8757 - val_loss: 0.7794 - val_acc: 0.7696\n",
      "Epoch 153/300\n",
      "5/5 [==============================] - 1s 305ms/step - loss: 0.4288 - acc: 0.8765 - val_loss: 0.7794 - val_acc: 0.7696\n",
      "Epoch 154/300\n",
      "5/5 [==============================] - 1s 305ms/step - loss: 0.4074 - acc: 0.8748 - val_loss: 0.7762 - val_acc: 0.7745\n",
      "Epoch 155/300\n",
      "5/5 [==============================] - 1s 301ms/step - loss: 0.3772 - acc: 0.8870 - val_loss: 0.7770 - val_acc: 0.7745\n",
      "Epoch 156/300\n",
      "5/5 [==============================] - 1s 305ms/step - loss: 0.3923 - acc: 0.8783 - val_loss: 0.7786 - val_acc: 0.7745\n",
      "Epoch 157/300\n",
      "5/5 [==============================] - 2s 305ms/step - loss: 0.4136 - acc: 0.8739 - val_loss: 0.7778 - val_acc: 0.7745\n",
      "Epoch 158/300\n",
      "5/5 [==============================] - 1s 301ms/step - loss: 0.4099 - acc: 0.8609 - val_loss: 0.7787 - val_acc: 0.7745\n",
      "Epoch 159/300\n",
      "5/5 [==============================] - 1s 301ms/step - loss: 0.4052 - acc: 0.8687 - val_loss: 0.7817 - val_acc: 0.7696\n",
      "Epoch 160/300\n",
      "5/5 [==============================] - 2s 305ms/step - loss: 0.3948 - acc: 0.8730 - val_loss: 0.7909 - val_acc: 0.7696\n",
      "Epoch 161/300\n",
      "5/5 [==============================] - 1s 305ms/step - loss: 0.4443 - acc: 0.8539 - val_loss: 0.7985 - val_acc: 0.7598\n",
      "Epoch 162/300\n",
      "5/5 [==============================] - 1s 309ms/step - loss: 0.4184 - acc: 0.8687 - val_loss: 0.8006 - val_acc: 0.7647\n",
      "Epoch 163/300\n",
      "5/5 [==============================] - 1s 301ms/step - loss: 0.3723 - acc: 0.8678 - val_loss: 0.8027 - val_acc: 0.7745\n",
      "Epoch 164/300\n",
      "5/5 [==============================] - 1s 297ms/step - loss: 0.3794 - acc: 0.8809 - val_loss: 0.7994 - val_acc: 0.7794\n",
      "Epoch 165/300\n",
      "5/5 [==============================] - 1s 297ms/step - loss: 0.4109 - acc: 0.8635 - val_loss: 0.7971 - val_acc: 0.7794\n",
      "Epoch 166/300\n",
      "5/5 [==============================] - 1s 305ms/step - loss: 0.4122 - acc: 0.8765 - val_loss: 0.7919 - val_acc: 0.7745\n",
      "Epoch 167/300\n",
      "5/5 [==============================] - 1s 301ms/step - loss: 0.4145 - acc: 0.8609 - val_loss: 0.7911 - val_acc: 0.7745\n",
      "Epoch 168/300\n",
      "5/5 [==============================] - 1s 305ms/step - loss: 0.3666 - acc: 0.8870 - val_loss: 0.7890 - val_acc: 0.7794\n",
      "Epoch 169/300\n",
      "5/5 [==============================] - 1s 301ms/step - loss: 0.3706 - acc: 0.8878 - val_loss: 0.7935 - val_acc: 0.7745\n",
      "Epoch 170/300\n",
      "5/5 [==============================] - 1s 301ms/step - loss: 0.3526 - acc: 0.8870 - val_loss: 0.8008 - val_acc: 0.7696\n",
      "Epoch 171/300\n",
      "5/5 [==============================] - 2s 348ms/step - loss: 0.3497 - acc: 0.8922 - val_loss: 0.8071 - val_acc: 0.7696\n",
      "Epoch 172/300\n",
      "5/5 [==============================] - 2s 371ms/step - loss: 0.3505 - acc: 0.8878 - val_loss: 0.8130 - val_acc: 0.7696\n",
      "Epoch 173/300\n",
      "5/5 [==============================] - 1s 297ms/step - loss: 0.3882 - acc: 0.8861 - val_loss: 0.8194 - val_acc: 0.7696\n",
      "Epoch 174/300\n",
      "5/5 [==============================] - 1s 297ms/step - loss: 0.3603 - acc: 0.8922 - val_loss: 0.8170 - val_acc: 0.7696\n",
      "Epoch 175/300\n",
      "5/5 [==============================] - 1s 301ms/step - loss: 0.3828 - acc: 0.8730 - val_loss: 0.8100 - val_acc: 0.7794\n",
      "Epoch 176/300\n",
      "5/5 [==============================] - 1s 297ms/step - loss: 0.3659 - acc: 0.8843 - val_loss: 0.8076 - val_acc: 0.7794\n",
      "Epoch 177/300\n",
      "5/5 [==============================] - 1s 301ms/step - loss: 0.3461 - acc: 0.8870 - val_loss: 0.8069 - val_acc: 0.7794\n",
      "Epoch 178/300\n",
      "5/5 [==============================] - 1s 301ms/step - loss: 0.3512 - acc: 0.8896 - val_loss: 0.8077 - val_acc: 0.7794\n",
      "Epoch 179/300\n",
      "5/5 [==============================] - 2s 376ms/step - loss: 0.3744 - acc: 0.8783 - val_loss: 0.8083 - val_acc: 0.7794\n",
      "Epoch 180/300\n",
      "5/5 [==============================] - 2s 303ms/step - loss: 0.3435 - acc: 0.9026 - val_loss: 0.8127 - val_acc: 0.7794\n",
      "Epoch 181/300\n",
      "5/5 [==============================] - 2s 309ms/step - loss: 0.3335 - acc: 0.9043 - val_loss: 0.8149 - val_acc: 0.7794\n",
      "Epoch 182/300\n",
      "5/5 [==============================] - 2s 307ms/step - loss: 0.3273 - acc: 0.8957 - val_loss: 0.8171 - val_acc: 0.7794\n",
      "Epoch 183/300\n",
      "5/5 [==============================] - 1s 302ms/step - loss: 0.3756 - acc: 0.8852 - val_loss: 0.8155 - val_acc: 0.7794\n",
      "Epoch 184/300\n",
      "5/5 [==============================] - 2s 343ms/step - loss: 0.3325 - acc: 0.9026 - val_loss: 0.8154 - val_acc: 0.7794\n"
     ]
    }
   ],
   "source": [
    "x_train = train_data.paper_id.to_numpy()\n",
    "history = run_experiment(gnn_model, x_train, y_train)"
   ],
   "metadata": {
    "collapsed": false,
    "pycharm": {
     "name": "#%%\n"
    }
   }
  },
  {
   "cell_type": "code",
   "execution_count": 94,
   "outputs": [
    {
     "data": {
      "text/plain": "<Figure size 1080x360 with 2 Axes>",
      "image/png": "[encoded data removed]"
     },
     "metadata": {
      "needs_background": "light"
     },
     "output_type": "display_data"
    }
   ],
   "source": [
    "display_learning_curves(history)"
   ],
   "metadata": {
    "collapsed": false,
    "pycharm": {
     "name": "#%%\n"
    }
   }
  },
  {
   "cell_type": "code",
   "execution_count": 95,
   "outputs": [
    {
     "name": "stdout",
     "output_type": "stream",
     "text": [
      "Test accuracy: 74.22%\n"
     ]
    }
   ],
   "source": [
    "x_test = test_data.paper_id.to_numpy()\n",
    "_, test_accuracy = gnn_model.evaluate(x=x_test, y=y_test, verbose=0)\n",
    "print(f\"Test accuracy: {round(test_accuracy * 100, 2)}%\")"
   ],
   "metadata": {
    "collapsed": false,
    "pycharm": {
     "name": "#%%\n"
    }
   }
  },
  {
   "cell_type": "code",
   "execution_count": 96,
   "outputs": [],
   "source": [
    "# First we add the N new_instances as nodes to the graph\n",
    "# by appending the new_instance to node_features.\n",
    "num_nodes = node_features.shape[0]\n",
    "new_node_features = np.concatenate([node_features, new_instances])\n",
    "# Second we add the M edges (citations) from each new node to a set\n",
    "# of existing nodes in a particular subject\n",
    "new_node_indices = [i + num_nodes for i in range(num_classes)]\n",
    "new_citations = []\n",
    "for subject_idx, group in papers.groupby(\"subject\"):\n",
    "    subject_papers = list(group.paper_id)\n",
    "    # Select random x papers specific subject.\n",
    "    selected_paper_indices1 = np.random.choice(subject_papers, 5)\n",
    "    # Select random y papers from any subject (where y < x).\n",
    "    selected_paper_indices2 = np.random.choice(list(papers.paper_id), 2)\n",
    "    # Merge the selected paper indices.\n",
    "    selected_paper_indices = np.concatenate(\n",
    "        [selected_paper_indices1, selected_paper_indices2], axis=0\n",
    "    )\n",
    "    # Create edges between a citing paper idx and the selected cited papers.\n",
    "    citing_paper_indx = new_node_indices[subject_idx]\n",
    "    for cited_paper_idx in selected_paper_indices:\n",
    "        new_citations.append([citing_paper_indx, cited_paper_idx])\n",
    "\n",
    "new_citations = np.array(new_citations).T\n",
    "new_edges = np.concatenate([edges, new_citations], axis=1)"
   ],
   "metadata": {
    "collapsed": false,
    "pycharm": {
     "name": "#%%\n"
    }
   }
  },
  {
   "cell_type": "code",
   "execution_count": 97,
   "outputs": [
    {
     "name": "stdout",
     "output_type": "stream",
     "text": [
      "Original node_features shape: (2708, 1433)\n",
      "Original edges shape: (2, 5429)\n",
      "New node_features shape: (2715, 1433)\n",
      "New edges shape: (2, 5478)\n",
      "1/1 [==============================] - 5s 5s/step\n"
     ]
    }
   ],
   "source": [
    "print(\"Original node_features shape:\", gnn_model.node_features.shape)\n",
    "print(\"Original edges shape:\", gnn_model.edges.shape)\n",
    "gnn_model.node_features = new_node_features\n",
    "gnn_model.edges = new_edges\n",
    "gnn_model.edge_weights = tf.ones(shape=new_edges.shape[1])\n",
    "print(\"New node_features shape:\", gnn_model.node_features.shape)\n",
    "print(\"New edges shape:\", gnn_model.edges.shape)\n",
    "\n",
    "logits = gnn_model.predict(tf.convert_to_tensor(new_node_indices))\n",
    "probabilities = keras.activations.softmax(tf.convert_to_tensor(logits)).numpy()"
   ],
   "metadata": {
    "collapsed": false,
    "pycharm": {
     "name": "#%%\n"
    }
   }
  },
  {
   "cell_type": "markdown",
   "source": [
    "На крај може да забележиме дека кодот од проектот кој што е превземан, односно невронската мрежа е тренирана со најдобрите можни вредности за таа мрежа, бидејќи со променети вредности ефикасноста на тестирањето е помала и не се добиваат очекуваните резултати."
   ],
   "metadata": {
    "collapsed": false
   }
  }
 ],
 "metadata": {
  "kernelspec": {
   "display_name": "Python 3",
   "language": "python",
   "name": "python3"
  },
  "language_info": {
   "codemirror_mode": {
    "name": "ipython",
    "version": 2
   },
   "file_extension": ".py",
   "mimetype": "text/x-python",
   "name": "python",
   "nbconvert_exporter": "python",
   "pygments_lexer": "ipython2",
   "version": "2.7.6"
  }
 },
 "nbformat": 4,
 "nbformat_minor": 0
}